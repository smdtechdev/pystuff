{
 "metadata": {
  "language_info": {
   "codemirror_mode": {
    "name": "ipython",
    "version": 3
   },
   "file_extension": ".py",
   "mimetype": "text/x-python",
   "name": "python",
   "nbconvert_exporter": "python",
   "pygments_lexer": "ipython3",
   "version": "3.9.5"
  },
  "orig_nbformat": 4,
  "kernelspec": {
   "name": "python3",
   "display_name": "Python 3.9.5 64-bit"
  },
  "interpreter": {
   "hash": "77cbd541ab2d69c4e8744ede0ef493e7611c71dfd7dac56bca6f9cd2a1b85c59"
  }
 },
 "nbformat": 4,
 "nbformat_minor": 2,
 "cells": [
  {
   "cell_type": "code",
   "execution_count": 2,
   "metadata": {},
   "outputs": [
    {
     "output_type": "execute_result",
     "data": {
      "text/plain": [
       "   chance_of_playing_next_round chance_of_playing_this_round    code  \\\n",
       "0                           NaN                         None   80201   \n",
       "1                           NaN                         None  115918   \n",
       "2                           NaN                         None   47431   \n",
       "3                           NaN                         None   54694   \n",
       "4                           NaN                         None   58822   \n",
       "\n",
       "   cost_change_event  cost_change_event_fall  cost_change_start  \\\n",
       "0                  0                       0                  0   \n",
       "1                  0                       0                  0   \n",
       "2                  0                       0                  0   \n",
       "3                  0                       0                  0   \n",
       "4                  0                       0                  0   \n",
       "\n",
       "   cost_change_start_fall  dreamteam_count  element_type ep_next ep_this  \\\n",
       "0                       0                0             1     3.5    None   \n",
       "1                       0                0             1     2.0    None   \n",
       "2                       0                0             3     3.2    None   \n",
       "3                       0                0             4     4.2    None   \n",
       "4                       0                0             2     2.7    None   \n",
       "\n",
       "   event_points      first_name form  id  in_dreamteam news news_added  \\\n",
       "0             0           Bernd  0.0   1         False            None   \n",
       "1             0      Rúnar Alex  0.0   2         False            None   \n",
       "2             0         Willian  0.0   3         False            None   \n",
       "3             0  Pierre-Emerick  0.0   4         False            None   \n",
       "4             0          Cédric  0.0   5         False            None   \n",
       "\n",
       "   now_cost       photo points_per_game      second_name selected_by_percent  \\\n",
       "0        50   80201.jpg             3.7             Leno                 2.3   \n",
       "1        40  115918.jpg             1.0        Rúnarsson                 1.2   \n",
       "2        65   47431.jpg             3.1  Borges Da Silva                 0.3   \n",
       "3       100   54694.jpg             4.5       Aubameyang                 3.7   \n",
       "4        45   58822.jpg             2.8           Soares                 0.3   \n",
       "\n",
       "   special squad_number status  team  team_code  total_points  transfers_in  \\\n",
       "0    False         None      a     1          3           131             0   \n",
       "1    False         None      a     1          3             1             0   \n",
       "2    False         None      a     1          3            78             0   \n",
       "3    False         None      a     1          3           131             0   \n",
       "4    False         None      a     1          3            28             0   \n",
       "\n",
       "   transfers_in_event  transfers_out  transfers_out_event value_form  \\\n",
       "0                   0              0                    0        0.0   \n",
       "1                   0              0                    0        0.0   \n",
       "2                   0              0                    0        0.0   \n",
       "3                   0              0                    0        0.0   \n",
       "4                   0              0                    0        0.0   \n",
       "\n",
       "  value_season    web_name  minutes  goals_scored  assists  clean_sheets  \\\n",
       "0         26.2        Leno     3131             0        0            11   \n",
       "1          0.2   Rúnarsson       15             0        0             0   \n",
       "2         12.0     Willian     1398             1        7             3   \n",
       "3         13.1  Aubameyang     2330            10        3            10   \n",
       "4          6.2      Cédric      744             0        1             2   \n",
       "\n",
       "   goals_conceded  own_goals  penalties_saved  penalties_missed  yellow_cards  \\\n",
       "0              37          1                1                 0             0   \n",
       "1               0          0                0                 0             0   \n",
       "2              17          0                0                 0             0   \n",
       "3              26          1                0                 0             2   \n",
       "4              11          0                0                 0             1   \n",
       "\n",
       "   red_cards  saves  bonus  bps influence creativity threat ict_index  \\\n",
       "0          1     86     11  625     702.2        0.0    2.0      70.3   \n",
       "1          0      2      0    8      16.6        0.0    0.0       1.7   \n",
       "2          0      0      9  306     256.2      534.8  228.0     102.3   \n",
       "3          0      0     11  358     493.8      361.5  823.0     167.4   \n",
       "4          0      0      3  125     110.8      114.8   66.0      29.2   \n",
       "\n",
       "   influence_rank  influence_rank_type  creativity_rank  creativity_rank_type  \\\n",
       "0              42                   12              436                    47   \n",
       "1             351                   31              347                    17   \n",
       "2             224                   96               49                    36   \n",
       "3             125                   18               90                    12   \n",
       "4             298                  109              209                    52   \n",
       "\n",
       "   threat_rank  threat_rank_type  ict_index_rank  ict_index_rank_type  \\\n",
       "0          327                 4             198                   13   \n",
       "1          340                13             357                   32   \n",
       "2          146                85             124                   71   \n",
       "3           32                16              50                   18   \n",
       "4          265                87             295                  101   \n",
       "\n",
       "   corners_and_indirect_freekicks_order corners_and_indirect_freekicks_text  \\\n",
       "0                                   NaN                                       \n",
       "1                                   NaN                                       \n",
       "2                                   1.0                                       \n",
       "3                                   NaN                                       \n",
       "4                                   NaN                                       \n",
       "\n",
       "   direct_freekicks_order direct_freekicks_text  penalties_order  \\\n",
       "0                     NaN                                    NaN   \n",
       "1                     NaN                                    NaN   \n",
       "2                     2.0                                    NaN   \n",
       "3                     NaN                                    1.0   \n",
       "4                     5.0                                    NaN   \n",
       "\n",
       "  penalties_text  \n",
       "0                 \n",
       "1                 \n",
       "2                 \n",
       "3                 \n",
       "4                 "
      ],
      "text/html": "<div>\n<style scoped>\n    .dataframe tbody tr th:only-of-type {\n        vertical-align: middle;\n    }\n\n    .dataframe tbody tr th {\n        vertical-align: top;\n    }\n\n    .dataframe thead th {\n        text-align: right;\n    }\n</style>\n<table border=\"1\" class=\"dataframe\">\n  <thead>\n    <tr style=\"text-align: right;\">\n      <th></th>\n      <th>chance_of_playing_next_round</th>\n      <th>chance_of_playing_this_round</th>\n      <th>code</th>\n      <th>cost_change_event</th>\n      <th>cost_change_event_fall</th>\n      <th>cost_change_start</th>\n      <th>cost_change_start_fall</th>\n      <th>dreamteam_count</th>\n      <th>element_type</th>\n      <th>ep_next</th>\n      <th>ep_this</th>\n      <th>event_points</th>\n      <th>first_name</th>\n      <th>form</th>\n      <th>id</th>\n      <th>in_dreamteam</th>\n      <th>news</th>\n      <th>news_added</th>\n      <th>now_cost</th>\n      <th>photo</th>\n      <th>points_per_game</th>\n      <th>second_name</th>\n      <th>selected_by_percent</th>\n      <th>special</th>\n      <th>squad_number</th>\n      <th>status</th>\n      <th>team</th>\n      <th>team_code</th>\n      <th>total_points</th>\n      <th>transfers_in</th>\n      <th>transfers_in_event</th>\n      <th>transfers_out</th>\n      <th>transfers_out_event</th>\n      <th>value_form</th>\n      <th>value_season</th>\n      <th>web_name</th>\n      <th>minutes</th>\n      <th>goals_scored</th>\n      <th>assists</th>\n      <th>clean_sheets</th>\n      <th>goals_conceded</th>\n      <th>own_goals</th>\n      <th>penalties_saved</th>\n      <th>penalties_missed</th>\n      <th>yellow_cards</th>\n      <th>red_cards</th>\n      <th>saves</th>\n      <th>bonus</th>\n      <th>bps</th>\n      <th>influence</th>\n      <th>creativity</th>\n      <th>threat</th>\n      <th>ict_index</th>\n      <th>influence_rank</th>\n      <th>influence_rank_type</th>\n      <th>creativity_rank</th>\n      <th>creativity_rank_type</th>\n      <th>threat_rank</th>\n      <th>threat_rank_type</th>\n      <th>ict_index_rank</th>\n      <th>ict_index_rank_type</th>\n      <th>corners_and_indirect_freekicks_order</th>\n      <th>corners_and_indirect_freekicks_text</th>\n      <th>direct_freekicks_order</th>\n      <th>direct_freekicks_text</th>\n      <th>penalties_order</th>\n      <th>penalties_text</th>\n    </tr>\n  </thead>\n  <tbody>\n    <tr>\n      <th>0</th>\n      <td>NaN</td>\n      <td>None</td>\n      <td>80201</td>\n      <td>0</td>\n      <td>0</td>\n      <td>0</td>\n      <td>0</td>\n      <td>0</td>\n      <td>1</td>\n      <td>3.5</td>\n      <td>None</td>\n      <td>0</td>\n      <td>Bernd</td>\n      <td>0.0</td>\n      <td>1</td>\n      <td>False</td>\n      <td></td>\n      <td>None</td>\n      <td>50</td>\n      <td>80201.jpg</td>\n      <td>3.7</td>\n      <td>Leno</td>\n      <td>2.3</td>\n      <td>False</td>\n      <td>None</td>\n      <td>a</td>\n      <td>1</td>\n      <td>3</td>\n      <td>131</td>\n      <td>0</td>\n      <td>0</td>\n      <td>0</td>\n      <td>0</td>\n      <td>0.0</td>\n      <td>26.2</td>\n      <td>Leno</td>\n      <td>3131</td>\n      <td>0</td>\n      <td>0</td>\n      <td>11</td>\n      <td>37</td>\n      <td>1</td>\n      <td>1</td>\n      <td>0</td>\n      <td>0</td>\n      <td>1</td>\n      <td>86</td>\n      <td>11</td>\n      <td>625</td>\n      <td>702.2</td>\n      <td>0.0</td>\n      <td>2.0</td>\n      <td>70.3</td>\n      <td>42</td>\n      <td>12</td>\n      <td>436</td>\n      <td>47</td>\n      <td>327</td>\n      <td>4</td>\n      <td>198</td>\n      <td>13</td>\n      <td>NaN</td>\n      <td></td>\n      <td>NaN</td>\n      <td></td>\n      <td>NaN</td>\n      <td></td>\n    </tr>\n    <tr>\n      <th>1</th>\n      <td>NaN</td>\n      <td>None</td>\n      <td>115918</td>\n      <td>0</td>\n      <td>0</td>\n      <td>0</td>\n      <td>0</td>\n      <td>0</td>\n      <td>1</td>\n      <td>2.0</td>\n      <td>None</td>\n      <td>0</td>\n      <td>Rúnar Alex</td>\n      <td>0.0</td>\n      <td>2</td>\n      <td>False</td>\n      <td></td>\n      <td>None</td>\n      <td>40</td>\n      <td>115918.jpg</td>\n      <td>1.0</td>\n      <td>Rúnarsson</td>\n      <td>1.2</td>\n      <td>False</td>\n      <td>None</td>\n      <td>a</td>\n      <td>1</td>\n      <td>3</td>\n      <td>1</td>\n      <td>0</td>\n      <td>0</td>\n      <td>0</td>\n      <td>0</td>\n      <td>0.0</td>\n      <td>0.2</td>\n      <td>Rúnarsson</td>\n      <td>15</td>\n      <td>0</td>\n      <td>0</td>\n      <td>0</td>\n      <td>0</td>\n      <td>0</td>\n      <td>0</td>\n      <td>0</td>\n      <td>0</td>\n      <td>0</td>\n      <td>2</td>\n      <td>0</td>\n      <td>8</td>\n      <td>16.6</td>\n      <td>0.0</td>\n      <td>0.0</td>\n      <td>1.7</td>\n      <td>351</td>\n      <td>31</td>\n      <td>347</td>\n      <td>17</td>\n      <td>340</td>\n      <td>13</td>\n      <td>357</td>\n      <td>32</td>\n      <td>NaN</td>\n      <td></td>\n      <td>NaN</td>\n      <td></td>\n      <td>NaN</td>\n      <td></td>\n    </tr>\n    <tr>\n      <th>2</th>\n      <td>NaN</td>\n      <td>None</td>\n      <td>47431</td>\n      <td>0</td>\n      <td>0</td>\n      <td>0</td>\n      <td>0</td>\n      <td>0</td>\n      <td>3</td>\n      <td>3.2</td>\n      <td>None</td>\n      <td>0</td>\n      <td>Willian</td>\n      <td>0.0</td>\n      <td>3</td>\n      <td>False</td>\n      <td></td>\n      <td>None</td>\n      <td>65</td>\n      <td>47431.jpg</td>\n      <td>3.1</td>\n      <td>Borges Da Silva</td>\n      <td>0.3</td>\n      <td>False</td>\n      <td>None</td>\n      <td>a</td>\n      <td>1</td>\n      <td>3</td>\n      <td>78</td>\n      <td>0</td>\n      <td>0</td>\n      <td>0</td>\n      <td>0</td>\n      <td>0.0</td>\n      <td>12.0</td>\n      <td>Willian</td>\n      <td>1398</td>\n      <td>1</td>\n      <td>7</td>\n      <td>3</td>\n      <td>17</td>\n      <td>0</td>\n      <td>0</td>\n      <td>0</td>\n      <td>0</td>\n      <td>0</td>\n      <td>0</td>\n      <td>9</td>\n      <td>306</td>\n      <td>256.2</td>\n      <td>534.8</td>\n      <td>228.0</td>\n      <td>102.3</td>\n      <td>224</td>\n      <td>96</td>\n      <td>49</td>\n      <td>36</td>\n      <td>146</td>\n      <td>85</td>\n      <td>124</td>\n      <td>71</td>\n      <td>1.0</td>\n      <td></td>\n      <td>2.0</td>\n      <td></td>\n      <td>NaN</td>\n      <td></td>\n    </tr>\n    <tr>\n      <th>3</th>\n      <td>NaN</td>\n      <td>None</td>\n      <td>54694</td>\n      <td>0</td>\n      <td>0</td>\n      <td>0</td>\n      <td>0</td>\n      <td>0</td>\n      <td>4</td>\n      <td>4.2</td>\n      <td>None</td>\n      <td>0</td>\n      <td>Pierre-Emerick</td>\n      <td>0.0</td>\n      <td>4</td>\n      <td>False</td>\n      <td></td>\n      <td>None</td>\n      <td>100</td>\n      <td>54694.jpg</td>\n      <td>4.5</td>\n      <td>Aubameyang</td>\n      <td>3.7</td>\n      <td>False</td>\n      <td>None</td>\n      <td>a</td>\n      <td>1</td>\n      <td>3</td>\n      <td>131</td>\n      <td>0</td>\n      <td>0</td>\n      <td>0</td>\n      <td>0</td>\n      <td>0.0</td>\n      <td>13.1</td>\n      <td>Aubameyang</td>\n      <td>2330</td>\n      <td>10</td>\n      <td>3</td>\n      <td>10</td>\n      <td>26</td>\n      <td>1</td>\n      <td>0</td>\n      <td>0</td>\n      <td>2</td>\n      <td>0</td>\n      <td>0</td>\n      <td>11</td>\n      <td>358</td>\n      <td>493.8</td>\n      <td>361.5</td>\n      <td>823.0</td>\n      <td>167.4</td>\n      <td>125</td>\n      <td>18</td>\n      <td>90</td>\n      <td>12</td>\n      <td>32</td>\n      <td>16</td>\n      <td>50</td>\n      <td>18</td>\n      <td>NaN</td>\n      <td></td>\n      <td>NaN</td>\n      <td></td>\n      <td>1.0</td>\n      <td></td>\n    </tr>\n    <tr>\n      <th>4</th>\n      <td>NaN</td>\n      <td>None</td>\n      <td>58822</td>\n      <td>0</td>\n      <td>0</td>\n      <td>0</td>\n      <td>0</td>\n      <td>0</td>\n      <td>2</td>\n      <td>2.7</td>\n      <td>None</td>\n      <td>0</td>\n      <td>Cédric</td>\n      <td>0.0</td>\n      <td>5</td>\n      <td>False</td>\n      <td></td>\n      <td>None</td>\n      <td>45</td>\n      <td>58822.jpg</td>\n      <td>2.8</td>\n      <td>Soares</td>\n      <td>0.3</td>\n      <td>False</td>\n      <td>None</td>\n      <td>a</td>\n      <td>1</td>\n      <td>3</td>\n      <td>28</td>\n      <td>0</td>\n      <td>0</td>\n      <td>0</td>\n      <td>0</td>\n      <td>0.0</td>\n      <td>6.2</td>\n      <td>Cédric</td>\n      <td>744</td>\n      <td>0</td>\n      <td>1</td>\n      <td>2</td>\n      <td>11</td>\n      <td>0</td>\n      <td>0</td>\n      <td>0</td>\n      <td>1</td>\n      <td>0</td>\n      <td>0</td>\n      <td>3</td>\n      <td>125</td>\n      <td>110.8</td>\n      <td>114.8</td>\n      <td>66.0</td>\n      <td>29.2</td>\n      <td>298</td>\n      <td>109</td>\n      <td>209</td>\n      <td>52</td>\n      <td>265</td>\n      <td>87</td>\n      <td>295</td>\n      <td>101</td>\n      <td>NaN</td>\n      <td></td>\n      <td>5.0</td>\n      <td></td>\n      <td>NaN</td>\n      <td></td>\n    </tr>\n  </tbody>\n</table>\n</div>"
     },
     "metadata": {},
     "execution_count": 2
    }
   ],
   "source": [
    "import requests\n",
    "import pandas as pd\n",
    "import numpy as np\n",
    "import matplotlib \n",
    "pd.options.display.max_columns = None\n",
    "\n",
    "url = 'https://fantasy.premierleague.com/api/bootstrap-static/'\n",
    "#Use the requests package to make a GET request from the API endpoint:\n",
    "r = requests.get(url)\n",
    "#Then, transform that request into a json object:\n",
    "json = r.json()\n",
    "#Let’s look at the json keys, and then we’ll create our dataframe(s)\n",
    "json.keys()\n",
    "\n",
    "elements_df = pd.DataFrame(json['elements'])\n",
    "elements_types_df = pd.DataFrame(json['element_types'])\n",
    "teams_df = pd.DataFrame(json['teams'])\n",
    "#Preview the top 5 rows of your dataframes with the head() method. Like so:\n",
    "elements_df.head()"
   ]
  },
  {
   "cell_type": "code",
   "execution_count": 3,
   "metadata": {},
   "outputs": [
    {
     "output_type": "execute_result",
     "data": {
      "text/plain": [
       "Index(['chance_of_playing_next_round', 'chance_of_playing_this_round', 'code',\n",
       "       'cost_change_event', 'cost_change_event_fall', 'cost_change_start',\n",
       "       'cost_change_start_fall', 'dreamteam_count', 'element_type', 'ep_next',\n",
       "       'ep_this', 'event_points', 'first_name', 'form', 'id', 'in_dreamteam',\n",
       "       'news', 'news_added', 'now_cost', 'photo', 'points_per_game',\n",
       "       'second_name', 'selected_by_percent', 'special', 'squad_number',\n",
       "       'status', 'team', 'team_code', 'total_points', 'transfers_in',\n",
       "       'transfers_in_event', 'transfers_out', 'transfers_out_event',\n",
       "       'value_form', 'value_season', 'web_name', 'minutes', 'goals_scored',\n",
       "       'assists', 'clean_sheets', 'goals_conceded', 'own_goals',\n",
       "       'penalties_saved', 'penalties_missed', 'yellow_cards', 'red_cards',\n",
       "       'saves', 'bonus', 'bps', 'influence', 'creativity', 'threat',\n",
       "       'ict_index', 'influence_rank', 'influence_rank_type', 'creativity_rank',\n",
       "       'creativity_rank_type', 'threat_rank', 'threat_rank_type',\n",
       "       'ict_index_rank', 'ict_index_rank_type',\n",
       "       'corners_and_indirect_freekicks_order',\n",
       "       'corners_and_indirect_freekicks_text', 'direct_freekicks_order',\n",
       "       'direct_freekicks_text', 'penalties_order', 'penalties_text'],\n",
       "      dtype='object')"
      ]
     },
     "metadata": {},
     "execution_count": 3
    }
   ],
   "source": [
    "elements_df.columns"
   ]
  },
  {
   "cell_type": "code",
   "execution_count": 4,
   "metadata": {},
   "outputs": [],
   "source": [
    "slim_elements_df = elements_df[['first_name','second_name','team','element_type','selected_by_percent','now_cost','minutes','transfers_in','value_season','total_points']]"
   ]
  },
  {
   "cell_type": "code",
   "execution_count": 5,
   "metadata": {},
   "outputs": [
    {
     "output_type": "execute_result",
     "data": {
      "text/plain": [
       "       first_name      second_name  team  element_type selected_by_percent  \\\n",
       "0           Bernd             Leno     1             1                 2.3   \n",
       "1      Rúnar Alex        Rúnarsson     1             1                 1.2   \n",
       "2         Willian  Borges Da Silva     1             3                 0.3   \n",
       "3  Pierre-Emerick       Aubameyang     1             4                 3.7   \n",
       "4          Cédric           Soares     1             2                 0.3   \n",
       "\n",
       "   now_cost  minutes  transfers_in value_season  total_points  \n",
       "0        50     3131             0         26.2           131  \n",
       "1        40       15             0          0.2             1  \n",
       "2        65     1398             0         12.0            78  \n",
       "3       100     2330             0         13.1           131  \n",
       "4        45      744             0          6.2            28  "
      ],
      "text/html": "<div>\n<style scoped>\n    .dataframe tbody tr th:only-of-type {\n        vertical-align: middle;\n    }\n\n    .dataframe tbody tr th {\n        vertical-align: top;\n    }\n\n    .dataframe thead th {\n        text-align: right;\n    }\n</style>\n<table border=\"1\" class=\"dataframe\">\n  <thead>\n    <tr style=\"text-align: right;\">\n      <th></th>\n      <th>first_name</th>\n      <th>second_name</th>\n      <th>team</th>\n      <th>element_type</th>\n      <th>selected_by_percent</th>\n      <th>now_cost</th>\n      <th>minutes</th>\n      <th>transfers_in</th>\n      <th>value_season</th>\n      <th>total_points</th>\n    </tr>\n  </thead>\n  <tbody>\n    <tr>\n      <th>0</th>\n      <td>Bernd</td>\n      <td>Leno</td>\n      <td>1</td>\n      <td>1</td>\n      <td>2.3</td>\n      <td>50</td>\n      <td>3131</td>\n      <td>0</td>\n      <td>26.2</td>\n      <td>131</td>\n    </tr>\n    <tr>\n      <th>1</th>\n      <td>Rúnar Alex</td>\n      <td>Rúnarsson</td>\n      <td>1</td>\n      <td>1</td>\n      <td>1.2</td>\n      <td>40</td>\n      <td>15</td>\n      <td>0</td>\n      <td>0.2</td>\n      <td>1</td>\n    </tr>\n    <tr>\n      <th>2</th>\n      <td>Willian</td>\n      <td>Borges Da Silva</td>\n      <td>1</td>\n      <td>3</td>\n      <td>0.3</td>\n      <td>65</td>\n      <td>1398</td>\n      <td>0</td>\n      <td>12.0</td>\n      <td>78</td>\n    </tr>\n    <tr>\n      <th>3</th>\n      <td>Pierre-Emerick</td>\n      <td>Aubameyang</td>\n      <td>1</td>\n      <td>4</td>\n      <td>3.7</td>\n      <td>100</td>\n      <td>2330</td>\n      <td>0</td>\n      <td>13.1</td>\n      <td>131</td>\n    </tr>\n    <tr>\n      <th>4</th>\n      <td>Cédric</td>\n      <td>Soares</td>\n      <td>1</td>\n      <td>2</td>\n      <td>0.3</td>\n      <td>45</td>\n      <td>744</td>\n      <td>0</td>\n      <td>6.2</td>\n      <td>28</td>\n    </tr>\n  </tbody>\n</table>\n</div>"
     },
     "metadata": {},
     "execution_count": 5
    }
   ],
   "source": [
    "slim_elements_df.head()"
   ]
  },
  {
   "cell_type": "code",
   "execution_count": 6,
   "metadata": {},
   "outputs": [
    {
     "output_type": "stream",
     "name": "stderr",
     "text": [
      "C:\\Users\\B0SS\\AppData\\Local\\Temp/ipykernel_3920/1996727139.py:1: SettingWithCopyWarning: \nA value is trying to be set on a copy of a slice from a DataFrame.\nTry using .loc[row_indexer,col_indexer] = value instead\n\nSee the caveats in the documentation: https://pandas.pydata.org/pandas-docs/stable/user_guide/indexing.html#returning-a-view-versus-a-copy\n  slim_elements_df['position'] = slim_elements_df.element_type.map(elements_types_df.set_index('id').singular_name)\n"
     ]
    }
   ],
   "source": [
    "slim_elements_df['position'] = slim_elements_df.element_type.map(elements_types_df.set_index('id').singular_name)"
   ]
  },
  {
   "cell_type": "code",
   "execution_count": 7,
   "metadata": {},
   "outputs": [
    {
     "output_type": "execute_result",
     "data": {
      "text/plain": [
       "         first_name       second_name  team  element_type selected_by_percent  \\\n",
       "0             Bernd              Leno     1             1                 2.3   \n",
       "1        Rúnar Alex         Rúnarsson     1             1                 1.2   \n",
       "2           Willian   Borges Da Silva     1             3                 0.3   \n",
       "3    Pierre-Emerick        Aubameyang     1             4                 3.7   \n",
       "4            Cédric            Soares     1             2                 0.3   \n",
       "5         Alexandre         Lacazette     1             4                 4.8   \n",
       "6            Granit             Xhaka     1             3                 0.6   \n",
       "7             Pablo              Marí     1             2                 0.2   \n",
       "8            Héctor          Bellerín     1             2                 0.8   \n",
       "9             Calum          Chambers     1             2                 0.5   \n",
       "10             Sead         Kolasinac     1             2                 0.2   \n",
       "11    Mohamed Naser   El Sayed Elneny     1             3                 0.6   \n",
       "12          Ainsley    Maitland-Niles     1             3                 0.1   \n",
       "13              Rob           Holding     1             2                 3.3   \n",
       "14           Thomas            Partey     1             3                 0.3   \n",
       "15           Kieran           Tierney     1             2                 8.5   \n",
       "16          Nicolas              Pépé     1             3                 3.5   \n",
       "17            Lucas          Torreira     1             3                 0.4   \n",
       "18           Joseph           Willock     1             3                 0.6   \n",
       "19           Edward           Nketiah     1             4                 0.5   \n",
       "20            Emile        Smith Rowe     1             3                 8.1   \n",
       "21           Bukayo              Saka     1             3                14.6   \n",
       "22          Gabriel         Magalhães     1             2                 0.5   \n",
       "23     Konstantinos        Mavropanos     1             2                 0.0   \n",
       "24           Mattéo         Guendouzi     1             3                 0.0   \n",
       "25  Gabriel Teodoro  Martinelli Silva     1             3                 0.3   \n",
       "26          William            Saliba     1             2                 0.0   \n",
       "27              Ben             White     1             2                21.9   \n",
       "28             Nuno    Varela Tavares     1             2                 0.5   \n",
       "29           Albert     Sambi Lokonga     1             3                 0.2   \n",
       "\n",
       "    now_cost  minutes  transfers_in value_season  total_points    position  \n",
       "0         50     3131             0         26.2           131  Goalkeeper  \n",
       "1         40       15             0          0.2             1  Goalkeeper  \n",
       "2         65     1398             0         12.0            78  Midfielder  \n",
       "3        100     2330             0         13.1           131     Forward  \n",
       "4         45      744             0          6.2            28    Defender  \n",
       "5         85     1916             0         15.2           129     Forward  \n",
       "6         50     2519             0         14.0            70  Midfielder  \n",
       "7         45      900             0          7.6            34    Defender  \n",
       "8         50     2089             0         18.8            94    Defender  \n",
       "9         45      751             0          8.0            36    Defender  \n",
       "10        45        0             0          0.0             0    Defender  \n",
       "11        45     1538             0         11.1            50  Midfielder  \n",
       "12        55     1714             0         12.4            68  Midfielder  \n",
       "13        45     2557             0         23.3           105    Defender  \n",
       "14        50     1529             0          9.4            47  Midfielder  \n",
       "15        50     2299             0         19.2            96    Defender  \n",
       "16        75     1606             0         15.2           114  Midfielder  \n",
       "17        45        0             0          0.0             0  Midfielder  \n",
       "18        60     1210             0         13.2            79  Midfielder  \n",
       "19        55      411             0          6.5            36     Forward  \n",
       "20        55     1438             0         13.5            74  Midfielder  \n",
       "21        65     2554             0         17.5           114  Midfielder  \n",
       "22        50     1996             0         15.6            78    Defender  \n",
       "23        45        0             0          0.0             0    Defender  \n",
       "24        45        0             0          0.0             0  Midfielder  \n",
       "25        55      582             0          6.5            36  Midfielder  \n",
       "26        45        0             0          0.0             0    Defender  \n",
       "27        45     3192             0         23.1           104    Defender  \n",
       "28        45        0             0          0.0             0    Defender  \n",
       "29        50        0             0          0.0             0  Midfielder  "
      ],
      "text/html": "<div>\n<style scoped>\n    .dataframe tbody tr th:only-of-type {\n        vertical-align: middle;\n    }\n\n    .dataframe tbody tr th {\n        vertical-align: top;\n    }\n\n    .dataframe thead th {\n        text-align: right;\n    }\n</style>\n<table border=\"1\" class=\"dataframe\">\n  <thead>\n    <tr style=\"text-align: right;\">\n      <th></th>\n      <th>first_name</th>\n      <th>second_name</th>\n      <th>team</th>\n      <th>element_type</th>\n      <th>selected_by_percent</th>\n      <th>now_cost</th>\n      <th>minutes</th>\n      <th>transfers_in</th>\n      <th>value_season</th>\n      <th>total_points</th>\n      <th>position</th>\n    </tr>\n  </thead>\n  <tbody>\n    <tr>\n      <th>0</th>\n      <td>Bernd</td>\n      <td>Leno</td>\n      <td>1</td>\n      <td>1</td>\n      <td>2.3</td>\n      <td>50</td>\n      <td>3131</td>\n      <td>0</td>\n      <td>26.2</td>\n      <td>131</td>\n      <td>Goalkeeper</td>\n    </tr>\n    <tr>\n      <th>1</th>\n      <td>Rúnar Alex</td>\n      <td>Rúnarsson</td>\n      <td>1</td>\n      <td>1</td>\n      <td>1.2</td>\n      <td>40</td>\n      <td>15</td>\n      <td>0</td>\n      <td>0.2</td>\n      <td>1</td>\n      <td>Goalkeeper</td>\n    </tr>\n    <tr>\n      <th>2</th>\n      <td>Willian</td>\n      <td>Borges Da Silva</td>\n      <td>1</td>\n      <td>3</td>\n      <td>0.3</td>\n      <td>65</td>\n      <td>1398</td>\n      <td>0</td>\n      <td>12.0</td>\n      <td>78</td>\n      <td>Midfielder</td>\n    </tr>\n    <tr>\n      <th>3</th>\n      <td>Pierre-Emerick</td>\n      <td>Aubameyang</td>\n      <td>1</td>\n      <td>4</td>\n      <td>3.7</td>\n      <td>100</td>\n      <td>2330</td>\n      <td>0</td>\n      <td>13.1</td>\n      <td>131</td>\n      <td>Forward</td>\n    </tr>\n    <tr>\n      <th>4</th>\n      <td>Cédric</td>\n      <td>Soares</td>\n      <td>1</td>\n      <td>2</td>\n      <td>0.3</td>\n      <td>45</td>\n      <td>744</td>\n      <td>0</td>\n      <td>6.2</td>\n      <td>28</td>\n      <td>Defender</td>\n    </tr>\n    <tr>\n      <th>5</th>\n      <td>Alexandre</td>\n      <td>Lacazette</td>\n      <td>1</td>\n      <td>4</td>\n      <td>4.8</td>\n      <td>85</td>\n      <td>1916</td>\n      <td>0</td>\n      <td>15.2</td>\n      <td>129</td>\n      <td>Forward</td>\n    </tr>\n    <tr>\n      <th>6</th>\n      <td>Granit</td>\n      <td>Xhaka</td>\n      <td>1</td>\n      <td>3</td>\n      <td>0.6</td>\n      <td>50</td>\n      <td>2519</td>\n      <td>0</td>\n      <td>14.0</td>\n      <td>70</td>\n      <td>Midfielder</td>\n    </tr>\n    <tr>\n      <th>7</th>\n      <td>Pablo</td>\n      <td>Marí</td>\n      <td>1</td>\n      <td>2</td>\n      <td>0.2</td>\n      <td>45</td>\n      <td>900</td>\n      <td>0</td>\n      <td>7.6</td>\n      <td>34</td>\n      <td>Defender</td>\n    </tr>\n    <tr>\n      <th>8</th>\n      <td>Héctor</td>\n      <td>Bellerín</td>\n      <td>1</td>\n      <td>2</td>\n      <td>0.8</td>\n      <td>50</td>\n      <td>2089</td>\n      <td>0</td>\n      <td>18.8</td>\n      <td>94</td>\n      <td>Defender</td>\n    </tr>\n    <tr>\n      <th>9</th>\n      <td>Calum</td>\n      <td>Chambers</td>\n      <td>1</td>\n      <td>2</td>\n      <td>0.5</td>\n      <td>45</td>\n      <td>751</td>\n      <td>0</td>\n      <td>8.0</td>\n      <td>36</td>\n      <td>Defender</td>\n    </tr>\n    <tr>\n      <th>10</th>\n      <td>Sead</td>\n      <td>Kolasinac</td>\n      <td>1</td>\n      <td>2</td>\n      <td>0.2</td>\n      <td>45</td>\n      <td>0</td>\n      <td>0</td>\n      <td>0.0</td>\n      <td>0</td>\n      <td>Defender</td>\n    </tr>\n    <tr>\n      <th>11</th>\n      <td>Mohamed Naser</td>\n      <td>El Sayed Elneny</td>\n      <td>1</td>\n      <td>3</td>\n      <td>0.6</td>\n      <td>45</td>\n      <td>1538</td>\n      <td>0</td>\n      <td>11.1</td>\n      <td>50</td>\n      <td>Midfielder</td>\n    </tr>\n    <tr>\n      <th>12</th>\n      <td>Ainsley</td>\n      <td>Maitland-Niles</td>\n      <td>1</td>\n      <td>3</td>\n      <td>0.1</td>\n      <td>55</td>\n      <td>1714</td>\n      <td>0</td>\n      <td>12.4</td>\n      <td>68</td>\n      <td>Midfielder</td>\n    </tr>\n    <tr>\n      <th>13</th>\n      <td>Rob</td>\n      <td>Holding</td>\n      <td>1</td>\n      <td>2</td>\n      <td>3.3</td>\n      <td>45</td>\n      <td>2557</td>\n      <td>0</td>\n      <td>23.3</td>\n      <td>105</td>\n      <td>Defender</td>\n    </tr>\n    <tr>\n      <th>14</th>\n      <td>Thomas</td>\n      <td>Partey</td>\n      <td>1</td>\n      <td>3</td>\n      <td>0.3</td>\n      <td>50</td>\n      <td>1529</td>\n      <td>0</td>\n      <td>9.4</td>\n      <td>47</td>\n      <td>Midfielder</td>\n    </tr>\n    <tr>\n      <th>15</th>\n      <td>Kieran</td>\n      <td>Tierney</td>\n      <td>1</td>\n      <td>2</td>\n      <td>8.5</td>\n      <td>50</td>\n      <td>2299</td>\n      <td>0</td>\n      <td>19.2</td>\n      <td>96</td>\n      <td>Defender</td>\n    </tr>\n    <tr>\n      <th>16</th>\n      <td>Nicolas</td>\n      <td>Pépé</td>\n      <td>1</td>\n      <td>3</td>\n      <td>3.5</td>\n      <td>75</td>\n      <td>1606</td>\n      <td>0</td>\n      <td>15.2</td>\n      <td>114</td>\n      <td>Midfielder</td>\n    </tr>\n    <tr>\n      <th>17</th>\n      <td>Lucas</td>\n      <td>Torreira</td>\n      <td>1</td>\n      <td>3</td>\n      <td>0.4</td>\n      <td>45</td>\n      <td>0</td>\n      <td>0</td>\n      <td>0.0</td>\n      <td>0</td>\n      <td>Midfielder</td>\n    </tr>\n    <tr>\n      <th>18</th>\n      <td>Joseph</td>\n      <td>Willock</td>\n      <td>1</td>\n      <td>3</td>\n      <td>0.6</td>\n      <td>60</td>\n      <td>1210</td>\n      <td>0</td>\n      <td>13.2</td>\n      <td>79</td>\n      <td>Midfielder</td>\n    </tr>\n    <tr>\n      <th>19</th>\n      <td>Edward</td>\n      <td>Nketiah</td>\n      <td>1</td>\n      <td>4</td>\n      <td>0.5</td>\n      <td>55</td>\n      <td>411</td>\n      <td>0</td>\n      <td>6.5</td>\n      <td>36</td>\n      <td>Forward</td>\n    </tr>\n    <tr>\n      <th>20</th>\n      <td>Emile</td>\n      <td>Smith Rowe</td>\n      <td>1</td>\n      <td>3</td>\n      <td>8.1</td>\n      <td>55</td>\n      <td>1438</td>\n      <td>0</td>\n      <td>13.5</td>\n      <td>74</td>\n      <td>Midfielder</td>\n    </tr>\n    <tr>\n      <th>21</th>\n      <td>Bukayo</td>\n      <td>Saka</td>\n      <td>1</td>\n      <td>3</td>\n      <td>14.6</td>\n      <td>65</td>\n      <td>2554</td>\n      <td>0</td>\n      <td>17.5</td>\n      <td>114</td>\n      <td>Midfielder</td>\n    </tr>\n    <tr>\n      <th>22</th>\n      <td>Gabriel</td>\n      <td>Magalhães</td>\n      <td>1</td>\n      <td>2</td>\n      <td>0.5</td>\n      <td>50</td>\n      <td>1996</td>\n      <td>0</td>\n      <td>15.6</td>\n      <td>78</td>\n      <td>Defender</td>\n    </tr>\n    <tr>\n      <th>23</th>\n      <td>Konstantinos</td>\n      <td>Mavropanos</td>\n      <td>1</td>\n      <td>2</td>\n      <td>0.0</td>\n      <td>45</td>\n      <td>0</td>\n      <td>0</td>\n      <td>0.0</td>\n      <td>0</td>\n      <td>Defender</td>\n    </tr>\n    <tr>\n      <th>24</th>\n      <td>Mattéo</td>\n      <td>Guendouzi</td>\n      <td>1</td>\n      <td>3</td>\n      <td>0.0</td>\n      <td>45</td>\n      <td>0</td>\n      <td>0</td>\n      <td>0.0</td>\n      <td>0</td>\n      <td>Midfielder</td>\n    </tr>\n    <tr>\n      <th>25</th>\n      <td>Gabriel Teodoro</td>\n      <td>Martinelli Silva</td>\n      <td>1</td>\n      <td>3</td>\n      <td>0.3</td>\n      <td>55</td>\n      <td>582</td>\n      <td>0</td>\n      <td>6.5</td>\n      <td>36</td>\n      <td>Midfielder</td>\n    </tr>\n    <tr>\n      <th>26</th>\n      <td>William</td>\n      <td>Saliba</td>\n      <td>1</td>\n      <td>2</td>\n      <td>0.0</td>\n      <td>45</td>\n      <td>0</td>\n      <td>0</td>\n      <td>0.0</td>\n      <td>0</td>\n      <td>Defender</td>\n    </tr>\n    <tr>\n      <th>27</th>\n      <td>Ben</td>\n      <td>White</td>\n      <td>1</td>\n      <td>2</td>\n      <td>21.9</td>\n      <td>45</td>\n      <td>3192</td>\n      <td>0</td>\n      <td>23.1</td>\n      <td>104</td>\n      <td>Defender</td>\n    </tr>\n    <tr>\n      <th>28</th>\n      <td>Nuno</td>\n      <td>Varela Tavares</td>\n      <td>1</td>\n      <td>2</td>\n      <td>0.5</td>\n      <td>45</td>\n      <td>0</td>\n      <td>0</td>\n      <td>0.0</td>\n      <td>0</td>\n      <td>Defender</td>\n    </tr>\n    <tr>\n      <th>29</th>\n      <td>Albert</td>\n      <td>Sambi Lokonga</td>\n      <td>1</td>\n      <td>3</td>\n      <td>0.2</td>\n      <td>50</td>\n      <td>0</td>\n      <td>0</td>\n      <td>0.0</td>\n      <td>0</td>\n      <td>Midfielder</td>\n    </tr>\n  </tbody>\n</table>\n</div>"
     },
     "metadata": {},
     "execution_count": 7
    }
   ],
   "source": [
    "slim_elements_df.head(30)"
   ]
  },
  {
   "cell_type": "code",
   "execution_count": 8,
   "metadata": {},
   "outputs": [
    {
     "output_type": "stream",
     "name": "stderr",
     "text": [
      "C:\\Users\\B0SS\\AppData\\Local\\Temp/ipykernel_3920/2815011068.py:1: SettingWithCopyWarning: \nA value is trying to be set on a copy of a slice from a DataFrame.\nTry using .loc[row_indexer,col_indexer] = value instead\n\nSee the caveats in the documentation: https://pandas.pydata.org/pandas-docs/stable/user_guide/indexing.html#returning-a-view-versus-a-copy\n  slim_elements_df['team'] = slim_elements_df.team.map(teams_df.set_index('id').name)\n"
     ]
    }
   ],
   "source": [
    "slim_elements_df['team'] = slim_elements_df.team.map(teams_df.set_index('id').name)"
   ]
  },
  {
   "cell_type": "code",
   "execution_count": 9,
   "metadata": {},
   "outputs": [
    {
     "output_type": "execute_result",
     "data": {
      "text/plain": [
       "       first_name      second_name     team  element_type selected_by_percent  \\\n",
       "0           Bernd             Leno  Arsenal             1                 2.3   \n",
       "1      Rúnar Alex        Rúnarsson  Arsenal             1                 1.2   \n",
       "2         Willian  Borges Da Silva  Arsenal             3                 0.3   \n",
       "3  Pierre-Emerick       Aubameyang  Arsenal             4                 3.7   \n",
       "4          Cédric           Soares  Arsenal             2                 0.3   \n",
       "\n",
       "   now_cost  minutes  transfers_in value_season  total_points    position  \n",
       "0        50     3131             0         26.2           131  Goalkeeper  \n",
       "1        40       15             0          0.2             1  Goalkeeper  \n",
       "2        65     1398             0         12.0            78  Midfielder  \n",
       "3       100     2330             0         13.1           131     Forward  \n",
       "4        45      744             0          6.2            28    Defender  "
      ],
      "text/html": "<div>\n<style scoped>\n    .dataframe tbody tr th:only-of-type {\n        vertical-align: middle;\n    }\n\n    .dataframe tbody tr th {\n        vertical-align: top;\n    }\n\n    .dataframe thead th {\n        text-align: right;\n    }\n</style>\n<table border=\"1\" class=\"dataframe\">\n  <thead>\n    <tr style=\"text-align: right;\">\n      <th></th>\n      <th>first_name</th>\n      <th>second_name</th>\n      <th>team</th>\n      <th>element_type</th>\n      <th>selected_by_percent</th>\n      <th>now_cost</th>\n      <th>minutes</th>\n      <th>transfers_in</th>\n      <th>value_season</th>\n      <th>total_points</th>\n      <th>position</th>\n    </tr>\n  </thead>\n  <tbody>\n    <tr>\n      <th>0</th>\n      <td>Bernd</td>\n      <td>Leno</td>\n      <td>Arsenal</td>\n      <td>1</td>\n      <td>2.3</td>\n      <td>50</td>\n      <td>3131</td>\n      <td>0</td>\n      <td>26.2</td>\n      <td>131</td>\n      <td>Goalkeeper</td>\n    </tr>\n    <tr>\n      <th>1</th>\n      <td>Rúnar Alex</td>\n      <td>Rúnarsson</td>\n      <td>Arsenal</td>\n      <td>1</td>\n      <td>1.2</td>\n      <td>40</td>\n      <td>15</td>\n      <td>0</td>\n      <td>0.2</td>\n      <td>1</td>\n      <td>Goalkeeper</td>\n    </tr>\n    <tr>\n      <th>2</th>\n      <td>Willian</td>\n      <td>Borges Da Silva</td>\n      <td>Arsenal</td>\n      <td>3</td>\n      <td>0.3</td>\n      <td>65</td>\n      <td>1398</td>\n      <td>0</td>\n      <td>12.0</td>\n      <td>78</td>\n      <td>Midfielder</td>\n    </tr>\n    <tr>\n      <th>3</th>\n      <td>Pierre-Emerick</td>\n      <td>Aubameyang</td>\n      <td>Arsenal</td>\n      <td>4</td>\n      <td>3.7</td>\n      <td>100</td>\n      <td>2330</td>\n      <td>0</td>\n      <td>13.1</td>\n      <td>131</td>\n      <td>Forward</td>\n    </tr>\n    <tr>\n      <th>4</th>\n      <td>Cédric</td>\n      <td>Soares</td>\n      <td>Arsenal</td>\n      <td>2</td>\n      <td>0.3</td>\n      <td>45</td>\n      <td>744</td>\n      <td>0</td>\n      <td>6.2</td>\n      <td>28</td>\n      <td>Defender</td>\n    </tr>\n  </tbody>\n</table>\n</div>"
     },
     "metadata": {},
     "execution_count": 9
    }
   ],
   "source": [
    "slim_elements_df.head()"
   ]
  },
  {
   "cell_type": "code",
   "execution_count": 10,
   "metadata": {},
   "outputs": [
    {
     "output_type": "stream",
     "name": "stderr",
     "text": [
      "C:\\Users\\B0SS\\AppData\\Local\\Temp/ipykernel_3920/505541812.py:1: SettingWithCopyWarning: \nA value is trying to be set on a copy of a slice from a DataFrame.\nTry using .loc[row_indexer,col_indexer] = value instead\n\nSee the caveats in the documentation: https://pandas.pydata.org/pandas-docs/stable/user_guide/indexing.html#returning-a-view-versus-a-copy\n  slim_elements_df['value'] = slim_elements_df.value_season.astype(float)\n"
     ]
    }
   ],
   "source": [
    "slim_elements_df['value'] = slim_elements_df.value_season.astype(float)"
   ]
  },
  {
   "cell_type": "code",
   "execution_count": 11,
   "metadata": {},
   "outputs": [
    {
     "output_type": "execute_result",
     "data": {
      "text/plain": [
       "       first_name      second_name     team  element_type selected_by_percent  \\\n",
       "0           Bernd             Leno  Arsenal             1                 2.3   \n",
       "1      Rúnar Alex        Rúnarsson  Arsenal             1                 1.2   \n",
       "2         Willian  Borges Da Silva  Arsenal             3                 0.3   \n",
       "3  Pierre-Emerick       Aubameyang  Arsenal             4                 3.7   \n",
       "4          Cédric           Soares  Arsenal             2                 0.3   \n",
       "\n",
       "   now_cost  minutes  transfers_in value_season  total_points    position  \\\n",
       "0        50     3131             0         26.2           131  Goalkeeper   \n",
       "1        40       15             0          0.2             1  Goalkeeper   \n",
       "2        65     1398             0         12.0            78  Midfielder   \n",
       "3       100     2330             0         13.1           131     Forward   \n",
       "4        45      744             0          6.2            28    Defender   \n",
       "\n",
       "   value  \n",
       "0   26.2  \n",
       "1    0.2  \n",
       "2   12.0  \n",
       "3   13.1  \n",
       "4    6.2  "
      ],
      "text/html": "<div>\n<style scoped>\n    .dataframe tbody tr th:only-of-type {\n        vertical-align: middle;\n    }\n\n    .dataframe tbody tr th {\n        vertical-align: top;\n    }\n\n    .dataframe thead th {\n        text-align: right;\n    }\n</style>\n<table border=\"1\" class=\"dataframe\">\n  <thead>\n    <tr style=\"text-align: right;\">\n      <th></th>\n      <th>first_name</th>\n      <th>second_name</th>\n      <th>team</th>\n      <th>element_type</th>\n      <th>selected_by_percent</th>\n      <th>now_cost</th>\n      <th>minutes</th>\n      <th>transfers_in</th>\n      <th>value_season</th>\n      <th>total_points</th>\n      <th>position</th>\n      <th>value</th>\n    </tr>\n  </thead>\n  <tbody>\n    <tr>\n      <th>0</th>\n      <td>Bernd</td>\n      <td>Leno</td>\n      <td>Arsenal</td>\n      <td>1</td>\n      <td>2.3</td>\n      <td>50</td>\n      <td>3131</td>\n      <td>0</td>\n      <td>26.2</td>\n      <td>131</td>\n      <td>Goalkeeper</td>\n      <td>26.2</td>\n    </tr>\n    <tr>\n      <th>1</th>\n      <td>Rúnar Alex</td>\n      <td>Rúnarsson</td>\n      <td>Arsenal</td>\n      <td>1</td>\n      <td>1.2</td>\n      <td>40</td>\n      <td>15</td>\n      <td>0</td>\n      <td>0.2</td>\n      <td>1</td>\n      <td>Goalkeeper</td>\n      <td>0.2</td>\n    </tr>\n    <tr>\n      <th>2</th>\n      <td>Willian</td>\n      <td>Borges Da Silva</td>\n      <td>Arsenal</td>\n      <td>3</td>\n      <td>0.3</td>\n      <td>65</td>\n      <td>1398</td>\n      <td>0</td>\n      <td>12.0</td>\n      <td>78</td>\n      <td>Midfielder</td>\n      <td>12.0</td>\n    </tr>\n    <tr>\n      <th>3</th>\n      <td>Pierre-Emerick</td>\n      <td>Aubameyang</td>\n      <td>Arsenal</td>\n      <td>4</td>\n      <td>3.7</td>\n      <td>100</td>\n      <td>2330</td>\n      <td>0</td>\n      <td>13.1</td>\n      <td>131</td>\n      <td>Forward</td>\n      <td>13.1</td>\n    </tr>\n    <tr>\n      <th>4</th>\n      <td>Cédric</td>\n      <td>Soares</td>\n      <td>Arsenal</td>\n      <td>2</td>\n      <td>0.3</td>\n      <td>45</td>\n      <td>744</td>\n      <td>0</td>\n      <td>6.2</td>\n      <td>28</td>\n      <td>Defender</td>\n      <td>6.2</td>\n    </tr>\n  </tbody>\n</table>\n</div>"
     },
     "metadata": {},
     "execution_count": 11
    }
   ],
   "source": [
    "slim_elements_df.head()"
   ]
  },
  {
   "cell_type": "code",
   "execution_count": 12,
   "metadata": {},
   "outputs": [
    {
     "output_type": "execute_result",
     "data": {
      "text/plain": [
       "    first_name        second_name            team  element_type  \\\n",
       "32    Emiliano           Martínez     Aston Villa             1   \n",
       "228     Stuart             Dallas           Leeds             3   \n",
       "239      Illan            Meslier           Leeds             1   \n",
       "451      Aaron          Cresswell        West Ham             2   \n",
       "155    Vicente             Guaita  Crystal Palace             1   \n",
       "41        Matt            Targett     Aston Villa             2   \n",
       "385       Hugo             Lloris           Spurs             1   \n",
       "240       Jack           Harrison           Leeds             3   \n",
       "279    Ederson  Santana de Moraes        Man City             1   \n",
       "448     Lukasz          Fabianski        West Ham             1   \n",
       "\n",
       "    selected_by_percent  now_cost  minutes  transfers_in value_season  \\\n",
       "32                 39.1        55     3420             0         33.8   \n",
       "228                17.1        55     3410             0         31.1   \n",
       "239                 5.2        50     3150             0         30.8   \n",
       "451                19.2        55     3170             0         27.8   \n",
       "155                 6.0        45     3330             0         27.6   \n",
       "41                  9.6        50     3404             0         27.6   \n",
       "385                 4.3        55     3420             0         27.1   \n",
       "240                 5.5        60     2846             0         26.7   \n",
       "279                 9.9        60     3240             0         26.7   \n",
       "448                 2.6        50     3150             0         26.6   \n",
       "\n",
       "     total_points    position  value  \n",
       "32            186  Goalkeeper   33.8  \n",
       "228           171  Midfielder   31.1  \n",
       "239           154  Goalkeeper   30.8  \n",
       "451           153    Defender   27.8  \n",
       "155           124  Goalkeeper   27.6  \n",
       "41            138    Defender   27.6  \n",
       "385           149  Goalkeeper   27.1  \n",
       "240           160  Midfielder   26.7  \n",
       "279           160  Goalkeeper   26.7  \n",
       "448           133  Goalkeeper   26.6  "
      ],
      "text/html": "<div>\n<style scoped>\n    .dataframe tbody tr th:only-of-type {\n        vertical-align: middle;\n    }\n\n    .dataframe tbody tr th {\n        vertical-align: top;\n    }\n\n    .dataframe thead th {\n        text-align: right;\n    }\n</style>\n<table border=\"1\" class=\"dataframe\">\n  <thead>\n    <tr style=\"text-align: right;\">\n      <th></th>\n      <th>first_name</th>\n      <th>second_name</th>\n      <th>team</th>\n      <th>element_type</th>\n      <th>selected_by_percent</th>\n      <th>now_cost</th>\n      <th>minutes</th>\n      <th>transfers_in</th>\n      <th>value_season</th>\n      <th>total_points</th>\n      <th>position</th>\n      <th>value</th>\n    </tr>\n  </thead>\n  <tbody>\n    <tr>\n      <th>32</th>\n      <td>Emiliano</td>\n      <td>Martínez</td>\n      <td>Aston Villa</td>\n      <td>1</td>\n      <td>39.1</td>\n      <td>55</td>\n      <td>3420</td>\n      <td>0</td>\n      <td>33.8</td>\n      <td>186</td>\n      <td>Goalkeeper</td>\n      <td>33.8</td>\n    </tr>\n    <tr>\n      <th>228</th>\n      <td>Stuart</td>\n      <td>Dallas</td>\n      <td>Leeds</td>\n      <td>3</td>\n      <td>17.1</td>\n      <td>55</td>\n      <td>3410</td>\n      <td>0</td>\n      <td>31.1</td>\n      <td>171</td>\n      <td>Midfielder</td>\n      <td>31.1</td>\n    </tr>\n    <tr>\n      <th>239</th>\n      <td>Illan</td>\n      <td>Meslier</td>\n      <td>Leeds</td>\n      <td>1</td>\n      <td>5.2</td>\n      <td>50</td>\n      <td>3150</td>\n      <td>0</td>\n      <td>30.8</td>\n      <td>154</td>\n      <td>Goalkeeper</td>\n      <td>30.8</td>\n    </tr>\n    <tr>\n      <th>451</th>\n      <td>Aaron</td>\n      <td>Cresswell</td>\n      <td>West Ham</td>\n      <td>2</td>\n      <td>19.2</td>\n      <td>55</td>\n      <td>3170</td>\n      <td>0</td>\n      <td>27.8</td>\n      <td>153</td>\n      <td>Defender</td>\n      <td>27.8</td>\n    </tr>\n    <tr>\n      <th>155</th>\n      <td>Vicente</td>\n      <td>Guaita</td>\n      <td>Crystal Palace</td>\n      <td>1</td>\n      <td>6.0</td>\n      <td>45</td>\n      <td>3330</td>\n      <td>0</td>\n      <td>27.6</td>\n      <td>124</td>\n      <td>Goalkeeper</td>\n      <td>27.6</td>\n    </tr>\n    <tr>\n      <th>41</th>\n      <td>Matt</td>\n      <td>Targett</td>\n      <td>Aston Villa</td>\n      <td>2</td>\n      <td>9.6</td>\n      <td>50</td>\n      <td>3404</td>\n      <td>0</td>\n      <td>27.6</td>\n      <td>138</td>\n      <td>Defender</td>\n      <td>27.6</td>\n    </tr>\n    <tr>\n      <th>385</th>\n      <td>Hugo</td>\n      <td>Lloris</td>\n      <td>Spurs</td>\n      <td>1</td>\n      <td>4.3</td>\n      <td>55</td>\n      <td>3420</td>\n      <td>0</td>\n      <td>27.1</td>\n      <td>149</td>\n      <td>Goalkeeper</td>\n      <td>27.1</td>\n    </tr>\n    <tr>\n      <th>240</th>\n      <td>Jack</td>\n      <td>Harrison</td>\n      <td>Leeds</td>\n      <td>3</td>\n      <td>5.5</td>\n      <td>60</td>\n      <td>2846</td>\n      <td>0</td>\n      <td>26.7</td>\n      <td>160</td>\n      <td>Midfielder</td>\n      <td>26.7</td>\n    </tr>\n    <tr>\n      <th>279</th>\n      <td>Ederson</td>\n      <td>Santana de Moraes</td>\n      <td>Man City</td>\n      <td>1</td>\n      <td>9.9</td>\n      <td>60</td>\n      <td>3240</td>\n      <td>0</td>\n      <td>26.7</td>\n      <td>160</td>\n      <td>Goalkeeper</td>\n      <td>26.7</td>\n    </tr>\n    <tr>\n      <th>448</th>\n      <td>Lukasz</td>\n      <td>Fabianski</td>\n      <td>West Ham</td>\n      <td>1</td>\n      <td>2.6</td>\n      <td>50</td>\n      <td>3150</td>\n      <td>0</td>\n      <td>26.6</td>\n      <td>133</td>\n      <td>Goalkeeper</td>\n      <td>26.6</td>\n    </tr>\n  </tbody>\n</table>\n</div>"
     },
     "metadata": {},
     "execution_count": 12
    }
   ],
   "source": [
    "slim_elements_df.sort_values('value',ascending=False).head(10)"
   ]
  },
  {
   "cell_type": "code",
   "execution_count": 13,
   "metadata": {},
   "outputs": [
    {
     "output_type": "execute_result",
     "data": {
      "text/plain": [
       "     position      value\n",
       "0    Defender  10.130233\n",
       "1     Forward   8.595082\n",
       "2  Goalkeeper   9.505660\n",
       "3  Midfielder   9.342233"
      ],
      "text/html": "<div>\n<style scoped>\n    .dataframe tbody tr th:only-of-type {\n        vertical-align: middle;\n    }\n\n    .dataframe tbody tr th {\n        vertical-align: top;\n    }\n\n    .dataframe thead th {\n        text-align: right;\n    }\n</style>\n<table border=\"1\" class=\"dataframe\">\n  <thead>\n    <tr style=\"text-align: right;\">\n      <th></th>\n      <th>position</th>\n      <th>value</th>\n    </tr>\n  </thead>\n  <tbody>\n    <tr>\n      <th>0</th>\n      <td>Defender</td>\n      <td>10.130233</td>\n    </tr>\n    <tr>\n      <th>1</th>\n      <td>Forward</td>\n      <td>8.595082</td>\n    </tr>\n    <tr>\n      <th>2</th>\n      <td>Goalkeeper</td>\n      <td>9.505660</td>\n    </tr>\n    <tr>\n      <th>3</th>\n      <td>Midfielder</td>\n      <td>9.342233</td>\n    </tr>\n  </tbody>\n</table>\n</div>"
     },
     "metadata": {},
     "execution_count": 13
    }
   ],
   "source": [
    "slim_elements_df.pivot_table(index='position',values='value',aggfunc=np.mean).reset_index()"
   ]
  },
  {
   "cell_type": "code",
   "execution_count": 14,
   "metadata": {},
   "outputs": [
    {
     "output_type": "execute_result",
     "data": {
      "text/plain": [
       "     position      value\n",
       "0    Defender  10.130233\n",
       "2  Goalkeeper   9.505660\n",
       "3  Midfielder   9.342233\n",
       "1     Forward   8.595082"
      ],
      "text/html": "<div>\n<style scoped>\n    .dataframe tbody tr th:only-of-type {\n        vertical-align: middle;\n    }\n\n    .dataframe tbody tr th {\n        vertical-align: top;\n    }\n\n    .dataframe thead th {\n        text-align: right;\n    }\n</style>\n<table border=\"1\" class=\"dataframe\">\n  <thead>\n    <tr style=\"text-align: right;\">\n      <th></th>\n      <th>position</th>\n      <th>value</th>\n    </tr>\n  </thead>\n  <tbody>\n    <tr>\n      <th>0</th>\n      <td>Defender</td>\n      <td>10.130233</td>\n    </tr>\n    <tr>\n      <th>2</th>\n      <td>Goalkeeper</td>\n      <td>9.505660</td>\n    </tr>\n    <tr>\n      <th>3</th>\n      <td>Midfielder</td>\n      <td>9.342233</td>\n    </tr>\n    <tr>\n      <th>1</th>\n      <td>Forward</td>\n      <td>8.595082</td>\n    </tr>\n  </tbody>\n</table>\n</div>"
     },
     "metadata": {},
     "execution_count": 14
    }
   ],
   "source": [
    "pivot=slim_elements_df.pivot_table(index='position',values='value',aggfunc=np.mean).reset_index()\n",
    "pivot.sort_values('value',ascending=False)"
   ]
  },
  {
   "cell_type": "code",
   "execution_count": 15,
   "metadata": {},
   "outputs": [],
   "source": [
    "slim_elements_df = slim_elements_df.loc[slim_elements_df.value > 0]"
   ]
  },
  {
   "cell_type": "code",
   "execution_count": 16,
   "metadata": {},
   "outputs": [
    {
     "output_type": "execute_result",
     "data": {
      "text/plain": [
       "     position      value\n",
       "2  Goalkeeper  14.817647\n",
       "0    Defender  13.939200\n",
       "3  Midfielder  12.103774\n",
       "1     Forward  11.915909"
      ],
      "text/html": "<div>\n<style scoped>\n    .dataframe tbody tr th:only-of-type {\n        vertical-align: middle;\n    }\n\n    .dataframe tbody tr th {\n        vertical-align: top;\n    }\n\n    .dataframe thead th {\n        text-align: right;\n    }\n</style>\n<table border=\"1\" class=\"dataframe\">\n  <thead>\n    <tr style=\"text-align: right;\">\n      <th></th>\n      <th>position</th>\n      <th>value</th>\n    </tr>\n  </thead>\n  <tbody>\n    <tr>\n      <th>2</th>\n      <td>Goalkeeper</td>\n      <td>14.817647</td>\n    </tr>\n    <tr>\n      <th>0</th>\n      <td>Defender</td>\n      <td>13.939200</td>\n    </tr>\n    <tr>\n      <th>3</th>\n      <td>Midfielder</td>\n      <td>12.103774</td>\n    </tr>\n    <tr>\n      <th>1</th>\n      <td>Forward</td>\n      <td>11.915909</td>\n    </tr>\n  </tbody>\n</table>\n</div>"
     },
     "metadata": {},
     "execution_count": 16
    }
   ],
   "source": [
    "pivot=slim_elements_df.pivot_table(index='position',values='value',aggfunc=np.mean).reset_index()\n",
    "pivot.sort_values('value',ascending=False)"
   ]
  },
  {
   "cell_type": "code",
   "execution_count": 17,
   "metadata": {},
   "outputs": [
    {
     "output_type": "execute_result",
     "data": {
      "text/plain": [
       "              team      value\n",
       "1      Aston Villa  15.652632\n",
       "10        Man City  15.180000\n",
       "7            Leeds  15.021053\n",
       "17        West Ham  14.945000\n",
       "8        Leicester  13.842857\n",
       "4          Chelsea  13.780000\n",
       "6          Everton  13.652381\n",
       "0          Arsenal  13.382609\n",
       "2         Brighton  13.160000\n",
       "5   Crystal Palace  12.700000\n",
       "15           Spurs  12.666667\n",
       "11         Man Utd  12.647826\n",
       "18          Wolves  12.566667\n",
       "3          Burnley  12.023810\n",
       "14     Southampton  11.694737\n",
       "12       Newcastle  10.634783\n",
       "9        Liverpool   9.396154\n",
       "16         Watford   2.000000\n",
       "13         Norwich   1.800000"
      ],
      "text/html": "<div>\n<style scoped>\n    .dataframe tbody tr th:only-of-type {\n        vertical-align: middle;\n    }\n\n    .dataframe tbody tr th {\n        vertical-align: top;\n    }\n\n    .dataframe thead th {\n        text-align: right;\n    }\n</style>\n<table border=\"1\" class=\"dataframe\">\n  <thead>\n    <tr style=\"text-align: right;\">\n      <th></th>\n      <th>team</th>\n      <th>value</th>\n    </tr>\n  </thead>\n  <tbody>\n    <tr>\n      <th>1</th>\n      <td>Aston Villa</td>\n      <td>15.652632</td>\n    </tr>\n    <tr>\n      <th>10</th>\n      <td>Man City</td>\n      <td>15.180000</td>\n    </tr>\n    <tr>\n      <th>7</th>\n      <td>Leeds</td>\n      <td>15.021053</td>\n    </tr>\n    <tr>\n      <th>17</th>\n      <td>West Ham</td>\n      <td>14.945000</td>\n    </tr>\n    <tr>\n      <th>8</th>\n      <td>Leicester</td>\n      <td>13.842857</td>\n    </tr>\n    <tr>\n      <th>4</th>\n      <td>Chelsea</td>\n      <td>13.780000</td>\n    </tr>\n    <tr>\n      <th>6</th>\n      <td>Everton</td>\n      <td>13.652381</td>\n    </tr>\n    <tr>\n      <th>0</th>\n      <td>Arsenal</td>\n      <td>13.382609</td>\n    </tr>\n    <tr>\n      <th>2</th>\n      <td>Brighton</td>\n      <td>13.160000</td>\n    </tr>\n    <tr>\n      <th>5</th>\n      <td>Crystal Palace</td>\n      <td>12.700000</td>\n    </tr>\n    <tr>\n      <th>15</th>\n      <td>Spurs</td>\n      <td>12.666667</td>\n    </tr>\n    <tr>\n      <th>11</th>\n      <td>Man Utd</td>\n      <td>12.647826</td>\n    </tr>\n    <tr>\n      <th>18</th>\n      <td>Wolves</td>\n      <td>12.566667</td>\n    </tr>\n    <tr>\n      <th>3</th>\n      <td>Burnley</td>\n      <td>12.023810</td>\n    </tr>\n    <tr>\n      <th>14</th>\n      <td>Southampton</td>\n      <td>11.694737</td>\n    </tr>\n    <tr>\n      <th>12</th>\n      <td>Newcastle</td>\n      <td>10.634783</td>\n    </tr>\n    <tr>\n      <th>9</th>\n      <td>Liverpool</td>\n      <td>9.396154</td>\n    </tr>\n    <tr>\n      <th>16</th>\n      <td>Watford</td>\n      <td>2.000000</td>\n    </tr>\n    <tr>\n      <th>13</th>\n      <td>Norwich</td>\n      <td>1.800000</td>\n    </tr>\n  </tbody>\n</table>\n</div>"
     },
     "metadata": {},
     "execution_count": 17
    }
   ],
   "source": [
    "team_pivot = slim_elements_df.pivot_table(index='team',values='value',aggfunc=np.mean).reset_index()\n",
    "team_pivot.sort_values('value',ascending=False)"
   ]
  },
  {
   "cell_type": "code",
   "execution_count": 18,
   "metadata": {},
   "outputs": [],
   "source": [
    "fwd_df = slim_elements_df.loc[slim_elements_df.position == 'Forward']\n",
    "mid_df = slim_elements_df.loc[slim_elements_df.position == 'Midfielder']\n",
    "def_df = slim_elements_df.loc[slim_elements_df.position == 'Defender']\n",
    "gol_df = slim_elements_df.loc[slim_elements_df.position == 'Goalkeeper']"
   ]
  },
  {
   "cell_type": "code",
   "execution_count": 24,
   "metadata": {},
   "outputs": [
    {
     "output_type": "execute_result",
     "data": {
      "text/plain": [
       "<AxesSubplot:>"
      ]
     },
     "metadata": {},
     "execution_count": 24
    },
    {
     "output_type": "display_data",
     "data": {
      "text/plain": "<Figure size 432x288 with 1 Axes>",
      "image/svg+xml": "<?xml version=\"1.0\" encoding=\"utf-8\" standalone=\"no\"?>\r\n<!DOCTYPE svg PUBLIC \"-//W3C//DTD SVG 1.1//EN\"\r\n  \"http://www.w3.org/Graphics/SVG/1.1/DTD/svg11.dtd\">\r\n<svg height=\"248.518125pt\" version=\"1.1\" viewBox=\"0 0 370.939448 248.518125\" width=\"370.939448pt\" xmlns=\"http://www.w3.org/2000/svg\" xmlns:xlink=\"http://www.w3.org/1999/xlink\">\r\n <metadata>\r\n  <rdf:RDF xmlns:cc=\"http://creativecommons.org/ns#\" xmlns:dc=\"http://purl.org/dc/elements/1.1/\" xmlns:rdf=\"http://www.w3.org/1999/02/22-rdf-syntax-ns#\">\r\n   <cc:Work>\r\n    <dc:type rdf:resource=\"http://purl.org/dc/dcmitype/StillImage\"/>\r\n    <dc:date>2021-08-05T17:53:45.665962</dc:date>\r\n    <dc:format>image/svg+xml</dc:format>\r\n    <dc:creator>\r\n     <cc:Agent>\r\n      <dc:title>Matplotlib v3.4.2, https://matplotlib.org/</dc:title>\r\n     </cc:Agent>\r\n    </dc:creator>\r\n   </cc:Work>\r\n  </rdf:RDF>\r\n </metadata>\r\n <defs>\r\n  <style type=\"text/css\">*{stroke-linecap:butt;stroke-linejoin:round;}</style>\r\n </defs>\r\n <g id=\"figure_1\">\r\n  <g id=\"patch_1\">\r\n   <path d=\"M -0 248.518125 \r\nL 370.939448 248.518125 \r\nL 370.939448 0 \r\nL -0 0 \r\nz\r\n\" style=\"fill:none;\"/>\r\n  </g>\r\n  <g id=\"axes_1\">\r\n   <g id=\"patch_2\">\r\n    <path d=\"M 26.925 224.64 \r\nL 361.725 224.64 \r\nL 361.725 7.2 \r\nL 26.925 7.2 \r\nz\r\n\" style=\"fill:#ffffff;\"/>\r\n   </g>\r\n   <g id=\"patch_3\">\r\n    <path clip-path=\"url(#p10248c47ca)\" d=\"M 42.143182 224.64 \r\nL 72.579545 224.64 \r\nL 72.579545 17.554286 \r\nL 42.143182 17.554286 \r\nz\r\n\" style=\"fill:#1f77b4;\"/>\r\n   </g>\r\n   <g id=\"patch_4\">\r\n    <path clip-path=\"url(#p10248c47ca)\" d=\"M 72.579545 224.64 \r\nL 103.015909 224.64 \r\nL 103.015909 186.988052 \r\nL 72.579545 186.988052 \r\nz\r\n\" style=\"fill:#1f77b4;\"/>\r\n   </g>\r\n   <g id=\"patch_5\">\r\n    <path clip-path=\"url(#p10248c47ca)\" d=\"M 103.015909 224.64 \r\nL 133.452273 224.64 \r\nL 133.452273 186.988052 \r\nL 103.015909 186.988052 \r\nz\r\n\" style=\"fill:#1f77b4;\"/>\r\n   </g>\r\n   <g id=\"patch_6\">\r\n    <path clip-path=\"url(#p10248c47ca)\" d=\"M 133.452273 224.64 \r\nL 163.888636 224.64 \r\nL 163.888636 205.814026 \r\nL 133.452273 205.814026 \r\nz\r\n\" style=\"fill:#1f77b4;\"/>\r\n   </g>\r\n   <g id=\"patch_7\">\r\n    <path clip-path=\"url(#p10248c47ca)\" d=\"M 163.888636 224.64 \r\nL 194.325 224.64 \r\nL 194.325 224.64 \r\nL 163.888636 224.64 \r\nz\r\n\" style=\"fill:#1f77b4;\"/>\r\n   </g>\r\n   <g id=\"patch_8\">\r\n    <path clip-path=\"url(#p10248c47ca)\" d=\"M 194.325 224.64 \r\nL 224.761364 224.64 \r\nL 224.761364 186.988052 \r\nL 194.325 186.988052 \r\nz\r\n\" style=\"fill:#1f77b4;\"/>\r\n   </g>\r\n   <g id=\"patch_9\">\r\n    <path clip-path=\"url(#p10248c47ca)\" d=\"M 224.761364 224.64 \r\nL 255.197727 224.64 \r\nL 255.197727 130.51013 \r\nL 224.761364 130.51013 \r\nz\r\n\" style=\"fill:#1f77b4;\"/>\r\n   </g>\r\n   <g id=\"patch_10\">\r\n    <path clip-path=\"url(#p10248c47ca)\" d=\"M 255.197727 224.64 \r\nL 285.634091 224.64 \r\nL 285.634091 92.858182 \r\nL 255.197727 92.858182 \r\nz\r\n\" style=\"fill:#1f77b4;\"/>\r\n   </g>\r\n   <g id=\"patch_11\">\r\n    <path clip-path=\"url(#p10248c47ca)\" d=\"M 285.634091 224.64 \r\nL 316.070455 224.64 \r\nL 316.070455 186.988052 \r\nL 285.634091 186.988052 \r\nz\r\n\" style=\"fill:#1f77b4;\"/>\r\n   </g>\r\n   <g id=\"patch_12\">\r\n    <path clip-path=\"url(#p10248c47ca)\" d=\"M 316.070455 224.64 \r\nL 346.506818 224.64 \r\nL 346.506818 186.988052 \r\nL 316.070455 186.988052 \r\nz\r\n\" style=\"fill:#1f77b4;\"/>\r\n   </g>\r\n   <g id=\"matplotlib.axis_1\">\r\n    <g id=\"xtick_1\">\r\n     <g id=\"line2d_1\">\r\n      <path clip-path=\"url(#p10248c47ca)\" d=\"M 40.331494 224.64 \r\nL 40.331494 7.2 \r\n\" style=\"fill:none;stroke:#b0b0b0;stroke-linecap:square;stroke-width:0.8;\"/>\r\n     </g>\r\n     <g id=\"line2d_2\">\r\n      <defs>\r\n       <path d=\"M 0 0 \r\nL 0 3.5 \r\n\" id=\"mfc87deb99e\" style=\"stroke:#000000;stroke-width:0.8;\"/>\r\n      </defs>\r\n      <g>\r\n       <use style=\"stroke:#000000;stroke-width:0.8;\" x=\"40.331494\" xlink:href=\"#mfc87deb99e\" y=\"224.64\"/>\r\n      </g>\r\n     </g>\r\n     <g id=\"text_1\">\r\n      <!-- 0 -->\r\n      <g transform=\"translate(37.150244 239.238437)scale(0.1 -0.1)\">\r\n       <defs>\r\n        <path d=\"M 2034 4250 \r\nQ 1547 4250 1301 3770 \r\nQ 1056 3291 1056 2328 \r\nQ 1056 1369 1301 889 \r\nQ 1547 409 2034 409 \r\nQ 2525 409 2770 889 \r\nQ 3016 1369 3016 2328 \r\nQ 3016 3291 2770 3770 \r\nQ 2525 4250 2034 4250 \r\nz\r\nM 2034 4750 \r\nQ 2819 4750 3233 4129 \r\nQ 3647 3509 3647 2328 \r\nQ 3647 1150 3233 529 \r\nQ 2819 -91 2034 -91 \r\nQ 1250 -91 836 529 \r\nQ 422 1150 422 2328 \r\nQ 422 3509 836 4129 \r\nQ 1250 4750 2034 4750 \r\nz\r\n\" id=\"DejaVuSans-30\" transform=\"scale(0.015625)\"/>\r\n       </defs>\r\n       <use xlink:href=\"#DejaVuSans-30\"/>\r\n      </g>\r\n     </g>\r\n    </g>\r\n    <g id=\"xtick_2\">\r\n     <g id=\"line2d_3\">\r\n      <path clip-path=\"url(#p10248c47ca)\" d=\"M 85.623701 224.64 \r\nL 85.623701 7.2 \r\n\" style=\"fill:none;stroke:#b0b0b0;stroke-linecap:square;stroke-width:0.8;\"/>\r\n     </g>\r\n     <g id=\"line2d_4\">\r\n      <g>\r\n       <use style=\"stroke:#000000;stroke-width:0.8;\" x=\"85.623701\" xlink:href=\"#mfc87deb99e\" y=\"224.64\"/>\r\n      </g>\r\n     </g>\r\n     <g id=\"text_2\">\r\n      <!-- 5 -->\r\n      <g transform=\"translate(82.442451 239.238437)scale(0.1 -0.1)\">\r\n       <defs>\r\n        <path d=\"M 691 4666 \r\nL 3169 4666 \r\nL 3169 4134 \r\nL 1269 4134 \r\nL 1269 2991 \r\nQ 1406 3038 1543 3061 \r\nQ 1681 3084 1819 3084 \r\nQ 2600 3084 3056 2656 \r\nQ 3513 2228 3513 1497 \r\nQ 3513 744 3044 326 \r\nQ 2575 -91 1722 -91 \r\nQ 1428 -91 1123 -41 \r\nQ 819 9 494 109 \r\nL 494 744 \r\nQ 775 591 1075 516 \r\nQ 1375 441 1709 441 \r\nQ 2250 441 2565 725 \r\nQ 2881 1009 2881 1497 \r\nQ 2881 1984 2565 2268 \r\nQ 2250 2553 1709 2553 \r\nQ 1456 2553 1204 2497 \r\nQ 953 2441 691 2322 \r\nL 691 4666 \r\nz\r\n\" id=\"DejaVuSans-35\" transform=\"scale(0.015625)\"/>\r\n       </defs>\r\n       <use xlink:href=\"#DejaVuSans-35\"/>\r\n      </g>\r\n     </g>\r\n    </g>\r\n    <g id=\"xtick_3\">\r\n     <g id=\"line2d_5\">\r\n      <path clip-path=\"url(#p10248c47ca)\" d=\"M 130.915909 224.64 \r\nL 130.915909 7.2 \r\n\" style=\"fill:none;stroke:#b0b0b0;stroke-linecap:square;stroke-width:0.8;\"/>\r\n     </g>\r\n     <g id=\"line2d_6\">\r\n      <g>\r\n       <use style=\"stroke:#000000;stroke-width:0.8;\" x=\"130.915909\" xlink:href=\"#mfc87deb99e\" y=\"224.64\"/>\r\n      </g>\r\n     </g>\r\n     <g id=\"text_3\">\r\n      <!-- 10 -->\r\n      <g transform=\"translate(124.553409 239.238437)scale(0.1 -0.1)\">\r\n       <defs>\r\n        <path d=\"M 794 531 \r\nL 1825 531 \r\nL 1825 4091 \r\nL 703 3866 \r\nL 703 4441 \r\nL 1819 4666 \r\nL 2450 4666 \r\nL 2450 531 \r\nL 3481 531 \r\nL 3481 0 \r\nL 794 0 \r\nL 794 531 \r\nz\r\n\" id=\"DejaVuSans-31\" transform=\"scale(0.015625)\"/>\r\n       </defs>\r\n       <use xlink:href=\"#DejaVuSans-31\"/>\r\n       <use x=\"63.623047\" xlink:href=\"#DejaVuSans-30\"/>\r\n      </g>\r\n     </g>\r\n    </g>\r\n    <g id=\"xtick_4\">\r\n     <g id=\"line2d_7\">\r\n      <path clip-path=\"url(#p10248c47ca)\" d=\"M 176.208117 224.64 \r\nL 176.208117 7.2 \r\n\" style=\"fill:none;stroke:#b0b0b0;stroke-linecap:square;stroke-width:0.8;\"/>\r\n     </g>\r\n     <g id=\"line2d_8\">\r\n      <g>\r\n       <use style=\"stroke:#000000;stroke-width:0.8;\" x=\"176.208117\" xlink:href=\"#mfc87deb99e\" y=\"224.64\"/>\r\n      </g>\r\n     </g>\r\n     <g id=\"text_4\">\r\n      <!-- 15 -->\r\n      <g transform=\"translate(169.845617 239.238437)scale(0.1 -0.1)\">\r\n       <use xlink:href=\"#DejaVuSans-31\"/>\r\n       <use x=\"63.623047\" xlink:href=\"#DejaVuSans-35\"/>\r\n      </g>\r\n     </g>\r\n    </g>\r\n    <g id=\"xtick_5\">\r\n     <g id=\"line2d_9\">\r\n      <path clip-path=\"url(#p10248c47ca)\" d=\"M 221.500325 224.64 \r\nL 221.500325 7.2 \r\n\" style=\"fill:none;stroke:#b0b0b0;stroke-linecap:square;stroke-width:0.8;\"/>\r\n     </g>\r\n     <g id=\"line2d_10\">\r\n      <g>\r\n       <use style=\"stroke:#000000;stroke-width:0.8;\" x=\"221.500325\" xlink:href=\"#mfc87deb99e\" y=\"224.64\"/>\r\n      </g>\r\n     </g>\r\n     <g id=\"text_5\">\r\n      <!-- 20 -->\r\n      <g transform=\"translate(215.137825 239.238437)scale(0.1 -0.1)\">\r\n       <defs>\r\n        <path d=\"M 1228 531 \r\nL 3431 531 \r\nL 3431 0 \r\nL 469 0 \r\nL 469 531 \r\nQ 828 903 1448 1529 \r\nQ 2069 2156 2228 2338 \r\nQ 2531 2678 2651 2914 \r\nQ 2772 3150 2772 3378 \r\nQ 2772 3750 2511 3984 \r\nQ 2250 4219 1831 4219 \r\nQ 1534 4219 1204 4116 \r\nQ 875 4013 500 3803 \r\nL 500 4441 \r\nQ 881 4594 1212 4672 \r\nQ 1544 4750 1819 4750 \r\nQ 2544 4750 2975 4387 \r\nQ 3406 4025 3406 3419 \r\nQ 3406 3131 3298 2873 \r\nQ 3191 2616 2906 2266 \r\nQ 2828 2175 2409 1742 \r\nQ 1991 1309 1228 531 \r\nz\r\n\" id=\"DejaVuSans-32\" transform=\"scale(0.015625)\"/>\r\n       </defs>\r\n       <use xlink:href=\"#DejaVuSans-32\"/>\r\n       <use x=\"63.623047\" xlink:href=\"#DejaVuSans-30\"/>\r\n      </g>\r\n     </g>\r\n    </g>\r\n    <g id=\"xtick_6\">\r\n     <g id=\"line2d_11\">\r\n      <path clip-path=\"url(#p10248c47ca)\" d=\"M 266.792532 224.64 \r\nL 266.792532 7.2 \r\n\" style=\"fill:none;stroke:#b0b0b0;stroke-linecap:square;stroke-width:0.8;\"/>\r\n     </g>\r\n     <g id=\"line2d_12\">\r\n      <g>\r\n       <use style=\"stroke:#000000;stroke-width:0.8;\" x=\"266.792532\" xlink:href=\"#mfc87deb99e\" y=\"224.64\"/>\r\n      </g>\r\n     </g>\r\n     <g id=\"text_6\">\r\n      <!-- 25 -->\r\n      <g transform=\"translate(260.430032 239.238437)scale(0.1 -0.1)\">\r\n       <use xlink:href=\"#DejaVuSans-32\"/>\r\n       <use x=\"63.623047\" xlink:href=\"#DejaVuSans-35\"/>\r\n      </g>\r\n     </g>\r\n    </g>\r\n    <g id=\"xtick_7\">\r\n     <g id=\"line2d_13\">\r\n      <path clip-path=\"url(#p10248c47ca)\" d=\"M 312.08474 224.64 \r\nL 312.08474 7.2 \r\n\" style=\"fill:none;stroke:#b0b0b0;stroke-linecap:square;stroke-width:0.8;\"/>\r\n     </g>\r\n     <g id=\"line2d_14\">\r\n      <g>\r\n       <use style=\"stroke:#000000;stroke-width:0.8;\" x=\"312.08474\" xlink:href=\"#mfc87deb99e\" y=\"224.64\"/>\r\n      </g>\r\n     </g>\r\n     <g id=\"text_7\">\r\n      <!-- 30 -->\r\n      <g transform=\"translate(305.72224 239.238437)scale(0.1 -0.1)\">\r\n       <defs>\r\n        <path d=\"M 2597 2516 \r\nQ 3050 2419 3304 2112 \r\nQ 3559 1806 3559 1356 \r\nQ 3559 666 3084 287 \r\nQ 2609 -91 1734 -91 \r\nQ 1441 -91 1130 -33 \r\nQ 819 25 488 141 \r\nL 488 750 \r\nQ 750 597 1062 519 \r\nQ 1375 441 1716 441 \r\nQ 2309 441 2620 675 \r\nQ 2931 909 2931 1356 \r\nQ 2931 1769 2642 2001 \r\nQ 2353 2234 1838 2234 \r\nL 1294 2234 \r\nL 1294 2753 \r\nL 1863 2753 \r\nQ 2328 2753 2575 2939 \r\nQ 2822 3125 2822 3475 \r\nQ 2822 3834 2567 4026 \r\nQ 2313 4219 1838 4219 \r\nQ 1578 4219 1281 4162 \r\nQ 984 4106 628 3988 \r\nL 628 4550 \r\nQ 988 4650 1302 4700 \r\nQ 1616 4750 1894 4750 \r\nQ 2613 4750 3031 4423 \r\nQ 3450 4097 3450 3541 \r\nQ 3450 3153 3228 2886 \r\nQ 3006 2619 2597 2516 \r\nz\r\n\" id=\"DejaVuSans-33\" transform=\"scale(0.015625)\"/>\r\n       </defs>\r\n       <use xlink:href=\"#DejaVuSans-33\"/>\r\n       <use x=\"63.623047\" xlink:href=\"#DejaVuSans-30\"/>\r\n      </g>\r\n     </g>\r\n    </g>\r\n    <g id=\"xtick_8\">\r\n     <g id=\"line2d_15\">\r\n      <path clip-path=\"url(#p10248c47ca)\" d=\"M 357.376948 224.64 \r\nL 357.376948 7.2 \r\n\" style=\"fill:none;stroke:#b0b0b0;stroke-linecap:square;stroke-width:0.8;\"/>\r\n     </g>\r\n     <g id=\"line2d_16\">\r\n      <g>\r\n       <use style=\"stroke:#000000;stroke-width:0.8;\" x=\"357.376948\" xlink:href=\"#mfc87deb99e\" y=\"224.64\"/>\r\n      </g>\r\n     </g>\r\n     <g id=\"text_8\">\r\n      <!-- 35 -->\r\n      <g transform=\"translate(351.014448 239.238437)scale(0.1 -0.1)\">\r\n       <use xlink:href=\"#DejaVuSans-33\"/>\r\n       <use x=\"63.623047\" xlink:href=\"#DejaVuSans-35\"/>\r\n      </g>\r\n     </g>\r\n    </g>\r\n   </g>\r\n   <g id=\"matplotlib.axis_2\">\r\n    <g id=\"ytick_1\">\r\n     <g id=\"line2d_17\">\r\n      <path clip-path=\"url(#p10248c47ca)\" d=\"M 26.925 224.64 \r\nL 361.725 224.64 \r\n\" style=\"fill:none;stroke:#b0b0b0;stroke-linecap:square;stroke-width:0.8;\"/>\r\n     </g>\r\n     <g id=\"line2d_18\">\r\n      <defs>\r\n       <path d=\"M 0 0 \r\nL -3.5 0 \r\n\" id=\"m55c7ae3d0c\" style=\"stroke:#000000;stroke-width:0.8;\"/>\r\n      </defs>\r\n      <g>\r\n       <use style=\"stroke:#000000;stroke-width:0.8;\" x=\"26.925\" xlink:href=\"#m55c7ae3d0c\" y=\"224.64\"/>\r\n      </g>\r\n     </g>\r\n     <g id=\"text_9\">\r\n      <!-- 0 -->\r\n      <g transform=\"translate(13.5625 228.439219)scale(0.1 -0.1)\">\r\n       <use xlink:href=\"#DejaVuSans-30\"/>\r\n      </g>\r\n     </g>\r\n    </g>\r\n    <g id=\"ytick_2\">\r\n     <g id=\"line2d_19\">\r\n      <path clip-path=\"url(#p10248c47ca)\" d=\"M 26.925 186.988052 \r\nL 361.725 186.988052 \r\n\" style=\"fill:none;stroke:#b0b0b0;stroke-linecap:square;stroke-width:0.8;\"/>\r\n     </g>\r\n     <g id=\"line2d_20\">\r\n      <g>\r\n       <use style=\"stroke:#000000;stroke-width:0.8;\" x=\"26.925\" xlink:href=\"#m55c7ae3d0c\" y=\"186.988052\"/>\r\n      </g>\r\n     </g>\r\n     <g id=\"text_10\">\r\n      <!-- 2 -->\r\n      <g transform=\"translate(13.5625 190.787271)scale(0.1 -0.1)\">\r\n       <use xlink:href=\"#DejaVuSans-32\"/>\r\n      </g>\r\n     </g>\r\n    </g>\r\n    <g id=\"ytick_3\">\r\n     <g id=\"line2d_21\">\r\n      <path clip-path=\"url(#p10248c47ca)\" d=\"M 26.925 149.336104 \r\nL 361.725 149.336104 \r\n\" style=\"fill:none;stroke:#b0b0b0;stroke-linecap:square;stroke-width:0.8;\"/>\r\n     </g>\r\n     <g id=\"line2d_22\">\r\n      <g>\r\n       <use style=\"stroke:#000000;stroke-width:0.8;\" x=\"26.925\" xlink:href=\"#m55c7ae3d0c\" y=\"149.336104\"/>\r\n      </g>\r\n     </g>\r\n     <g id=\"text_11\">\r\n      <!-- 4 -->\r\n      <g transform=\"translate(13.5625 153.135323)scale(0.1 -0.1)\">\r\n       <defs>\r\n        <path d=\"M 2419 4116 \r\nL 825 1625 \r\nL 2419 1625 \r\nL 2419 4116 \r\nz\r\nM 2253 4666 \r\nL 3047 4666 \r\nL 3047 1625 \r\nL 3713 1625 \r\nL 3713 1100 \r\nL 3047 1100 \r\nL 3047 0 \r\nL 2419 0 \r\nL 2419 1100 \r\nL 313 1100 \r\nL 313 1709 \r\nL 2253 4666 \r\nz\r\n\" id=\"DejaVuSans-34\" transform=\"scale(0.015625)\"/>\r\n       </defs>\r\n       <use xlink:href=\"#DejaVuSans-34\"/>\r\n      </g>\r\n     </g>\r\n    </g>\r\n    <g id=\"ytick_4\">\r\n     <g id=\"line2d_23\">\r\n      <path clip-path=\"url(#p10248c47ca)\" d=\"M 26.925 111.684156 \r\nL 361.725 111.684156 \r\n\" style=\"fill:none;stroke:#b0b0b0;stroke-linecap:square;stroke-width:0.8;\"/>\r\n     </g>\r\n     <g id=\"line2d_24\">\r\n      <g>\r\n       <use style=\"stroke:#000000;stroke-width:0.8;\" x=\"26.925\" xlink:href=\"#m55c7ae3d0c\" y=\"111.684156\"/>\r\n      </g>\r\n     </g>\r\n     <g id=\"text_12\">\r\n      <!-- 6 -->\r\n      <g transform=\"translate(13.5625 115.483375)scale(0.1 -0.1)\">\r\n       <defs>\r\n        <path d=\"M 2113 2584 \r\nQ 1688 2584 1439 2293 \r\nQ 1191 2003 1191 1497 \r\nQ 1191 994 1439 701 \r\nQ 1688 409 2113 409 \r\nQ 2538 409 2786 701 \r\nQ 3034 994 3034 1497 \r\nQ 3034 2003 2786 2293 \r\nQ 2538 2584 2113 2584 \r\nz\r\nM 3366 4563 \r\nL 3366 3988 \r\nQ 3128 4100 2886 4159 \r\nQ 2644 4219 2406 4219 \r\nQ 1781 4219 1451 3797 \r\nQ 1122 3375 1075 2522 \r\nQ 1259 2794 1537 2939 \r\nQ 1816 3084 2150 3084 \r\nQ 2853 3084 3261 2657 \r\nQ 3669 2231 3669 1497 \r\nQ 3669 778 3244 343 \r\nQ 2819 -91 2113 -91 \r\nQ 1303 -91 875 529 \r\nQ 447 1150 447 2328 \r\nQ 447 3434 972 4092 \r\nQ 1497 4750 2381 4750 \r\nQ 2619 4750 2861 4703 \r\nQ 3103 4656 3366 4563 \r\nz\r\n\" id=\"DejaVuSans-36\" transform=\"scale(0.015625)\"/>\r\n       </defs>\r\n       <use xlink:href=\"#DejaVuSans-36\"/>\r\n      </g>\r\n     </g>\r\n    </g>\r\n    <g id=\"ytick_5\">\r\n     <g id=\"line2d_25\">\r\n      <path clip-path=\"url(#p10248c47ca)\" d=\"M 26.925 74.032208 \r\nL 361.725 74.032208 \r\n\" style=\"fill:none;stroke:#b0b0b0;stroke-linecap:square;stroke-width:0.8;\"/>\r\n     </g>\r\n     <g id=\"line2d_26\">\r\n      <g>\r\n       <use style=\"stroke:#000000;stroke-width:0.8;\" x=\"26.925\" xlink:href=\"#m55c7ae3d0c\" y=\"74.032208\"/>\r\n      </g>\r\n     </g>\r\n     <g id=\"text_13\">\r\n      <!-- 8 -->\r\n      <g transform=\"translate(13.5625 77.831427)scale(0.1 -0.1)\">\r\n       <defs>\r\n        <path d=\"M 2034 2216 \r\nQ 1584 2216 1326 1975 \r\nQ 1069 1734 1069 1313 \r\nQ 1069 891 1326 650 \r\nQ 1584 409 2034 409 \r\nQ 2484 409 2743 651 \r\nQ 3003 894 3003 1313 \r\nQ 3003 1734 2745 1975 \r\nQ 2488 2216 2034 2216 \r\nz\r\nM 1403 2484 \r\nQ 997 2584 770 2862 \r\nQ 544 3141 544 3541 \r\nQ 544 4100 942 4425 \r\nQ 1341 4750 2034 4750 \r\nQ 2731 4750 3128 4425 \r\nQ 3525 4100 3525 3541 \r\nQ 3525 3141 3298 2862 \r\nQ 3072 2584 2669 2484 \r\nQ 3125 2378 3379 2068 \r\nQ 3634 1759 3634 1313 \r\nQ 3634 634 3220 271 \r\nQ 2806 -91 2034 -91 \r\nQ 1263 -91 848 271 \r\nQ 434 634 434 1313 \r\nQ 434 1759 690 2068 \r\nQ 947 2378 1403 2484 \r\nz\r\nM 1172 3481 \r\nQ 1172 3119 1398 2916 \r\nQ 1625 2713 2034 2713 \r\nQ 2441 2713 2670 2916 \r\nQ 2900 3119 2900 3481 \r\nQ 2900 3844 2670 4047 \r\nQ 2441 4250 2034 4250 \r\nQ 1625 4250 1398 4047 \r\nQ 1172 3844 1172 3481 \r\nz\r\n\" id=\"DejaVuSans-38\" transform=\"scale(0.015625)\"/>\r\n       </defs>\r\n       <use xlink:href=\"#DejaVuSans-38\"/>\r\n      </g>\r\n     </g>\r\n    </g>\r\n    <g id=\"ytick_6\">\r\n     <g id=\"line2d_27\">\r\n      <path clip-path=\"url(#p10248c47ca)\" d=\"M 26.925 36.38026 \r\nL 361.725 36.38026 \r\n\" style=\"fill:none;stroke:#b0b0b0;stroke-linecap:square;stroke-width:0.8;\"/>\r\n     </g>\r\n     <g id=\"line2d_28\">\r\n      <g>\r\n       <use style=\"stroke:#000000;stroke-width:0.8;\" x=\"26.925\" xlink:href=\"#m55c7ae3d0c\" y=\"36.38026\"/>\r\n      </g>\r\n     </g>\r\n     <g id=\"text_14\">\r\n      <!-- 10 -->\r\n      <g transform=\"translate(7.2 40.179478)scale(0.1 -0.1)\">\r\n       <use xlink:href=\"#DejaVuSans-31\"/>\r\n       <use x=\"63.623047\" xlink:href=\"#DejaVuSans-30\"/>\r\n      </g>\r\n     </g>\r\n    </g>\r\n   </g>\r\n   <g id=\"patch_13\">\r\n    <path d=\"M 26.925 224.64 \r\nL 26.925 7.2 \r\n\" style=\"fill:none;stroke:#000000;stroke-linecap:square;stroke-linejoin:miter;stroke-width:0.8;\"/>\r\n   </g>\r\n   <g id=\"patch_14\">\r\n    <path d=\"M 361.725 224.64 \r\nL 361.725 7.2 \r\n\" style=\"fill:none;stroke:#000000;stroke-linecap:square;stroke-linejoin:miter;stroke-width:0.8;\"/>\r\n   </g>\r\n   <g id=\"patch_15\">\r\n    <path d=\"M 26.925 224.64 \r\nL 361.725 224.64 \r\n\" style=\"fill:none;stroke:#000000;stroke-linecap:square;stroke-linejoin:miter;stroke-width:0.8;\"/>\r\n   </g>\r\n   <g id=\"patch_16\">\r\n    <path d=\"M 26.925 7.2 \r\nL 361.725 7.2 \r\n\" style=\"fill:none;stroke:#000000;stroke-linecap:square;stroke-linejoin:miter;stroke-width:0.8;\"/>\r\n   </g>\r\n  </g>\r\n </g>\r\n <defs>\r\n  <clipPath id=\"p10248c47ca\">\r\n   <rect height=\"217.44\" width=\"334.8\" x=\"26.925\" y=\"7.2\"/>\r\n  </clipPath>\r\n </defs>\r\n</svg>\r\n",
      "image/png": "[encoded data removed]"
     },
     "metadata": {
      "needs_background": "light"
     }
    }
   ],
   "source": [
    "gol_df.value.hist()"
   ]
  },
  {
   "cell_type": "code",
   "execution_count": 21,
   "metadata": {},
   "outputs": [
    {
     "output_type": "execute_result",
     "data": {
      "text/plain": [
       "    first_name          second_name            team  element_type  \\\n",
       "32    Emiliano             Martínez     Aston Villa             1   \n",
       "239      Illan              Meslier           Leeds             1   \n",
       "155    Vicente               Guaita  Crystal Palace             1   \n",
       "385       Hugo               Lloris           Spurs             1   \n",
       "279    Ederson    Santana de Moraes        Man City             1   \n",
       "448     Lukasz            Fabianski        West Ham             1   \n",
       "468  Rui Pedro  dos Santos Patrício          Wolves             1   \n",
       "0        Bernd                 Leno         Arsenal             1   \n",
       "120       Nick                 Pope         Burnley             1   \n",
       "198     Kasper           Schmeichel       Leicester             1   \n",
       "466   Alphonse               Areola        West Ham             1   \n",
       "253    Alisson        Ramses Becker       Liverpool             1   \n",
       "153    Edouard                Mendy         Chelsea             1   \n",
       "183     Jordan             Pickford         Everton             1   \n",
       "96      Robert              Sánchez        Brighton             1   \n",
       "365       Alex             McCarthy     Southampton             1   \n",
       "292      David               de Gea         Man Utd             1   \n",
       "318       Karl               Darlow       Newcastle             1   \n",
       "319     Martin             Dubravka       Newcastle             1   \n",
       "302       Dean            Henderson         Man Utd             1   \n",
       "\n",
       "    selected_by_percent  now_cost  minutes  transfers_in value_season  \\\n",
       "32                 39.1        55     3420             0         33.8   \n",
       "239                 5.2        50     3150             0         30.8   \n",
       "155                 6.0        45     3330             0         27.6   \n",
       "385                 4.3        55     3420             0         27.1   \n",
       "279                 9.9        60     3240             0         26.7   \n",
       "448                 2.6        50     3150             0         26.6   \n",
       "468                 0.3        50     3330             0         26.4   \n",
       "0                   2.3        50     3131             0         26.2   \n",
       "120                 5.5        55     2880             0         26.2   \n",
       "198                13.7        50     3420             0         25.6   \n",
       "466                 0.8        50     3240             0         24.8   \n",
       "253                 5.3        60     2970             0         23.3   \n",
       "153                 8.7        60     2745             0         23.3   \n",
       "183                 8.1        50     2742             0         22.8   \n",
       "96                 23.4        45     2430             0         22.4   \n",
       "365                 2.0        45     2700             0         20.9   \n",
       "292                 1.9        50     2295             0         18.2   \n",
       "318                 1.4        45     2250             0         17.8   \n",
       "319                 0.7        45     1170             0         10.7   \n",
       "302                 3.3        50     1125             0          8.8   \n",
       "\n",
       "     total_points    position  value  \n",
       "32            186  Goalkeeper   33.8  \n",
       "239           154  Goalkeeper   30.8  \n",
       "155           124  Goalkeeper   27.6  \n",
       "385           149  Goalkeeper   27.1  \n",
       "279           160  Goalkeeper   26.7  \n",
       "448           133  Goalkeeper   26.6  \n",
       "468           132  Goalkeeper   26.4  \n",
       "0             131  Goalkeeper   26.2  \n",
       "120           144  Goalkeeper   26.2  \n",
       "198           128  Goalkeeper   25.6  \n",
       "466           124  Goalkeeper   24.8  \n",
       "253           140  Goalkeeper   23.3  \n",
       "153           140  Goalkeeper   23.3  \n",
       "183           114  Goalkeeper   22.8  \n",
       "96            101  Goalkeeper   22.4  \n",
       "365            94  Goalkeeper   20.9  \n",
       "292            91  Goalkeeper   18.2  \n",
       "318            80  Goalkeeper   17.8  \n",
       "319            48  Goalkeeper   10.7  \n",
       "302            44  Goalkeeper    8.8  "
      ],
      "text/html": "<div>\n<style scoped>\n    .dataframe tbody tr th:only-of-type {\n        vertical-align: middle;\n    }\n\n    .dataframe tbody tr th {\n        vertical-align: top;\n    }\n\n    .dataframe thead th {\n        text-align: right;\n    }\n</style>\n<table border=\"1\" class=\"dataframe\">\n  <thead>\n    <tr style=\"text-align: right;\">\n      <th></th>\n      <th>first_name</th>\n      <th>second_name</th>\n      <th>team</th>\n      <th>element_type</th>\n      <th>selected_by_percent</th>\n      <th>now_cost</th>\n      <th>minutes</th>\n      <th>transfers_in</th>\n      <th>value_season</th>\n      <th>total_points</th>\n      <th>position</th>\n      <th>value</th>\n    </tr>\n  </thead>\n  <tbody>\n    <tr>\n      <th>32</th>\n      <td>Emiliano</td>\n      <td>Martínez</td>\n      <td>Aston Villa</td>\n      <td>1</td>\n      <td>39.1</td>\n      <td>55</td>\n      <td>3420</td>\n      <td>0</td>\n      <td>33.8</td>\n      <td>186</td>\n      <td>Goalkeeper</td>\n      <td>33.8</td>\n    </tr>\n    <tr>\n      <th>239</th>\n      <td>Illan</td>\n      <td>Meslier</td>\n      <td>Leeds</td>\n      <td>1</td>\n      <td>5.2</td>\n      <td>50</td>\n      <td>3150</td>\n      <td>0</td>\n      <td>30.8</td>\n      <td>154</td>\n      <td>Goalkeeper</td>\n      <td>30.8</td>\n    </tr>\n    <tr>\n      <th>155</th>\n      <td>Vicente</td>\n      <td>Guaita</td>\n      <td>Crystal Palace</td>\n      <td>1</td>\n      <td>6.0</td>\n      <td>45</td>\n      <td>3330</td>\n      <td>0</td>\n      <td>27.6</td>\n      <td>124</td>\n      <td>Goalkeeper</td>\n      <td>27.6</td>\n    </tr>\n    <tr>\n      <th>385</th>\n      <td>Hugo</td>\n      <td>Lloris</td>\n      <td>Spurs</td>\n      <td>1</td>\n      <td>4.3</td>\n      <td>55</td>\n      <td>3420</td>\n      <td>0</td>\n      <td>27.1</td>\n      <td>149</td>\n      <td>Goalkeeper</td>\n      <td>27.1</td>\n    </tr>\n    <tr>\n      <th>279</th>\n      <td>Ederson</td>\n      <td>Santana de Moraes</td>\n      <td>Man City</td>\n      <td>1</td>\n      <td>9.9</td>\n      <td>60</td>\n      <td>3240</td>\n      <td>0</td>\n      <td>26.7</td>\n      <td>160</td>\n      <td>Goalkeeper</td>\n      <td>26.7</td>\n    </tr>\n    <tr>\n      <th>448</th>\n      <td>Lukasz</td>\n      <td>Fabianski</td>\n      <td>West Ham</td>\n      <td>1</td>\n      <td>2.6</td>\n      <td>50</td>\n      <td>3150</td>\n      <td>0</td>\n      <td>26.6</td>\n      <td>133</td>\n      <td>Goalkeeper</td>\n      <td>26.6</td>\n    </tr>\n    <tr>\n      <th>468</th>\n      <td>Rui Pedro</td>\n      <td>dos Santos Patrício</td>\n      <td>Wolves</td>\n      <td>1</td>\n      <td>0.3</td>\n      <td>50</td>\n      <td>3330</td>\n      <td>0</td>\n      <td>26.4</td>\n      <td>132</td>\n      <td>Goalkeeper</td>\n      <td>26.4</td>\n    </tr>\n    <tr>\n      <th>0</th>\n      <td>Bernd</td>\n      <td>Leno</td>\n      <td>Arsenal</td>\n      <td>1</td>\n      <td>2.3</td>\n      <td>50</td>\n      <td>3131</td>\n      <td>0</td>\n      <td>26.2</td>\n      <td>131</td>\n      <td>Goalkeeper</td>\n      <td>26.2</td>\n    </tr>\n    <tr>\n      <th>120</th>\n      <td>Nick</td>\n      <td>Pope</td>\n      <td>Burnley</td>\n      <td>1</td>\n      <td>5.5</td>\n      <td>55</td>\n      <td>2880</td>\n      <td>0</td>\n      <td>26.2</td>\n      <td>144</td>\n      <td>Goalkeeper</td>\n      <td>26.2</td>\n    </tr>\n    <tr>\n      <th>198</th>\n      <td>Kasper</td>\n      <td>Schmeichel</td>\n      <td>Leicester</td>\n      <td>1</td>\n      <td>13.7</td>\n      <td>50</td>\n      <td>3420</td>\n      <td>0</td>\n      <td>25.6</td>\n      <td>128</td>\n      <td>Goalkeeper</td>\n      <td>25.6</td>\n    </tr>\n    <tr>\n      <th>466</th>\n      <td>Alphonse</td>\n      <td>Areola</td>\n      <td>West Ham</td>\n      <td>1</td>\n      <td>0.8</td>\n      <td>50</td>\n      <td>3240</td>\n      <td>0</td>\n      <td>24.8</td>\n      <td>124</td>\n      <td>Goalkeeper</td>\n      <td>24.8</td>\n    </tr>\n    <tr>\n      <th>253</th>\n      <td>Alisson</td>\n      <td>Ramses Becker</td>\n      <td>Liverpool</td>\n      <td>1</td>\n      <td>5.3</td>\n      <td>60</td>\n      <td>2970</td>\n      <td>0</td>\n      <td>23.3</td>\n      <td>140</td>\n      <td>Goalkeeper</td>\n      <td>23.3</td>\n    </tr>\n    <tr>\n      <th>153</th>\n      <td>Edouard</td>\n      <td>Mendy</td>\n      <td>Chelsea</td>\n      <td>1</td>\n      <td>8.7</td>\n      <td>60</td>\n      <td>2745</td>\n      <td>0</td>\n      <td>23.3</td>\n      <td>140</td>\n      <td>Goalkeeper</td>\n      <td>23.3</td>\n    </tr>\n    <tr>\n      <th>183</th>\n      <td>Jordan</td>\n      <td>Pickford</td>\n      <td>Everton</td>\n      <td>1</td>\n      <td>8.1</td>\n      <td>50</td>\n      <td>2742</td>\n      <td>0</td>\n      <td>22.8</td>\n      <td>114</td>\n      <td>Goalkeeper</td>\n      <td>22.8</td>\n    </tr>\n    <tr>\n      <th>96</th>\n      <td>Robert</td>\n      <td>Sánchez</td>\n      <td>Brighton</td>\n      <td>1</td>\n      <td>23.4</td>\n      <td>45</td>\n      <td>2430</td>\n      <td>0</td>\n      <td>22.4</td>\n      <td>101</td>\n      <td>Goalkeeper</td>\n      <td>22.4</td>\n    </tr>\n    <tr>\n      <th>365</th>\n      <td>Alex</td>\n      <td>McCarthy</td>\n      <td>Southampton</td>\n      <td>1</td>\n      <td>2.0</td>\n      <td>45</td>\n      <td>2700</td>\n      <td>0</td>\n      <td>20.9</td>\n      <td>94</td>\n      <td>Goalkeeper</td>\n      <td>20.9</td>\n    </tr>\n    <tr>\n      <th>292</th>\n      <td>David</td>\n      <td>de Gea</td>\n      <td>Man Utd</td>\n      <td>1</td>\n      <td>1.9</td>\n      <td>50</td>\n      <td>2295</td>\n      <td>0</td>\n      <td>18.2</td>\n      <td>91</td>\n      <td>Goalkeeper</td>\n      <td>18.2</td>\n    </tr>\n    <tr>\n      <th>318</th>\n      <td>Karl</td>\n      <td>Darlow</td>\n      <td>Newcastle</td>\n      <td>1</td>\n      <td>1.4</td>\n      <td>45</td>\n      <td>2250</td>\n      <td>0</td>\n      <td>17.8</td>\n      <td>80</td>\n      <td>Goalkeeper</td>\n      <td>17.8</td>\n    </tr>\n    <tr>\n      <th>319</th>\n      <td>Martin</td>\n      <td>Dubravka</td>\n      <td>Newcastle</td>\n      <td>1</td>\n      <td>0.7</td>\n      <td>45</td>\n      <td>1170</td>\n      <td>0</td>\n      <td>10.7</td>\n      <td>48</td>\n      <td>Goalkeeper</td>\n      <td>10.7</td>\n    </tr>\n    <tr>\n      <th>302</th>\n      <td>Dean</td>\n      <td>Henderson</td>\n      <td>Man Utd</td>\n      <td>1</td>\n      <td>3.3</td>\n      <td>50</td>\n      <td>1125</td>\n      <td>0</td>\n      <td>8.8</td>\n      <td>44</td>\n      <td>Goalkeeper</td>\n      <td>8.8</td>\n    </tr>\n  </tbody>\n</table>\n</div>"
     },
     "metadata": {},
     "execution_count": 21
    }
   ],
   "source": [
    "gol_df.sort_values('value',ascending=False).head(20)"
   ]
  },
  {
   "cell_type": "code",
   "execution_count": 25,
   "metadata": {},
   "outputs": [
    {
     "output_type": "execute_result",
     "data": {
      "text/plain": [
       "            first_name      second_name         team  element_type  \\\n",
       "451              Aaron        Cresswell     West Ham             2   \n",
       "41                Matt          Targett  Aston Villa             2   \n",
       "310              Aaron      Wan-Bissaka      Man Utd             2   \n",
       "87               Lewis             Dunk     Brighton             2   \n",
       "458           Vladimir           Coufal     West Ham             2   \n",
       "40              Tyrone            Mings  Aston Villa             2   \n",
       "182            Michael            Keane      Everton             2   \n",
       "47                Ezri      Konsa Ngoyo  Aston Villa             2   \n",
       "284       Rúben Santos  Gato Alves Dias     Man City             2   \n",
       "470              Conor            Coady       Wolves             2   \n",
       "274               John           Stones     Man City             2   \n",
       "13                 Rob          Holding      Arsenal             2   \n",
       "145           Benjamin         Chilwell      Chelsea             2   \n",
       "27                 Ben            White      Arsenal             2   \n",
       "256             Andrew        Robertson    Liverpool             2   \n",
       "278  João Pedro Cavaco          Cancelo     Man City             2   \n",
       "118            Matthew           Lowton      Burnley             2   \n",
       "297               Luke             Shaw      Man Utd             2   \n",
       "295              Harry          Maguire      Man Utd             2   \n",
       "225               Luke           Ayling        Leeds             2   \n",
       "\n",
       "    selected_by_percent  now_cost  minutes  transfers_in value_season  \\\n",
       "451                19.2        55     3170             0         27.8   \n",
       "41                  9.6        50     3404             0         27.6   \n",
       "310                11.3        55     3060             0         26.2   \n",
       "87                  6.7        50     2932             0         26.0   \n",
       "458                15.4        50     3054             0         25.6   \n",
       "40                  7.7        50     3194             0         25.6   \n",
       "182                 3.0        50     2989             0         25.4   \n",
       "47                  1.2        50     3195             0         23.8   \n",
       "284                27.0        60     2843             0         23.7   \n",
       "470                 8.5        45     3303             0         23.6   \n",
       "274                11.8        55     1933             0         23.3   \n",
       "13                  3.3        45     2557             0         23.3   \n",
       "145                13.2        60     2286             0         23.2   \n",
       "27                 21.9        45     3192             0         23.1   \n",
       "256                13.4        70     3384             0         23.0   \n",
       "278                 7.7        60     2298             0         23.0   \n",
       "118                 3.2        45     3060             0         22.9   \n",
       "297                48.6        55     2653             0         22.5   \n",
       "295                10.8        55     3047             0         22.5   \n",
       "225                11.6        45     3399             0         22.2   \n",
       "\n",
       "     total_points  position  value  \n",
       "451           153  Defender   27.8  \n",
       "41            138  Defender   27.6  \n",
       "310           144  Defender   26.2  \n",
       "87            130  Defender   26.0  \n",
       "458           128  Defender   25.6  \n",
       "40            128  Defender   25.6  \n",
       "182           127  Defender   25.4  \n",
       "47            119  Defender   23.8  \n",
       "284           142  Defender   23.7  \n",
       "470           106  Defender   23.6  \n",
       "274           128  Defender   23.3  \n",
       "13            105  Defender   23.3  \n",
       "145           139  Defender   23.2  \n",
       "27            104  Defender   23.1  \n",
       "256           161  Defender   23.0  \n",
       "278           138  Defender   23.0  \n",
       "118           103  Defender   22.9  \n",
       "297           124  Defender   22.5  \n",
       "295           124  Defender   22.5  \n",
       "225           100  Defender   22.2  "
      ],
      "text/html": "<div>\n<style scoped>\n    .dataframe tbody tr th:only-of-type {\n        vertical-align: middle;\n    }\n\n    .dataframe tbody tr th {\n        vertical-align: top;\n    }\n\n    .dataframe thead th {\n        text-align: right;\n    }\n</style>\n<table border=\"1\" class=\"dataframe\">\n  <thead>\n    <tr style=\"text-align: right;\">\n      <th></th>\n      <th>first_name</th>\n      <th>second_name</th>\n      <th>team</th>\n      <th>element_type</th>\n      <th>selected_by_percent</th>\n      <th>now_cost</th>\n      <th>minutes</th>\n      <th>transfers_in</th>\n      <th>value_season</th>\n      <th>total_points</th>\n      <th>position</th>\n      <th>value</th>\n    </tr>\n  </thead>\n  <tbody>\n    <tr>\n      <th>451</th>\n      <td>Aaron</td>\n      <td>Cresswell</td>\n      <td>West Ham</td>\n      <td>2</td>\n      <td>19.2</td>\n      <td>55</td>\n      <td>3170</td>\n      <td>0</td>\n      <td>27.8</td>\n      <td>153</td>\n      <td>Defender</td>\n      <td>27.8</td>\n    </tr>\n    <tr>\n      <th>41</th>\n      <td>Matt</td>\n      <td>Targett</td>\n      <td>Aston Villa</td>\n      <td>2</td>\n      <td>9.6</td>\n      <td>50</td>\n      <td>3404</td>\n      <td>0</td>\n      <td>27.6</td>\n      <td>138</td>\n      <td>Defender</td>\n      <td>27.6</td>\n    </tr>\n    <tr>\n      <th>310</th>\n      <td>Aaron</td>\n      <td>Wan-Bissaka</td>\n      <td>Man Utd</td>\n      <td>2</td>\n      <td>11.3</td>\n      <td>55</td>\n      <td>3060</td>\n      <td>0</td>\n      <td>26.2</td>\n      <td>144</td>\n      <td>Defender</td>\n      <td>26.2</td>\n    </tr>\n    <tr>\n      <th>87</th>\n      <td>Lewis</td>\n      <td>Dunk</td>\n      <td>Brighton</td>\n      <td>2</td>\n      <td>6.7</td>\n      <td>50</td>\n      <td>2932</td>\n      <td>0</td>\n      <td>26.0</td>\n      <td>130</td>\n      <td>Defender</td>\n      <td>26.0</td>\n    </tr>\n    <tr>\n      <th>458</th>\n      <td>Vladimir</td>\n      <td>Coufal</td>\n      <td>West Ham</td>\n      <td>2</td>\n      <td>15.4</td>\n      <td>50</td>\n      <td>3054</td>\n      <td>0</td>\n      <td>25.6</td>\n      <td>128</td>\n      <td>Defender</td>\n      <td>25.6</td>\n    </tr>\n    <tr>\n      <th>40</th>\n      <td>Tyrone</td>\n      <td>Mings</td>\n      <td>Aston Villa</td>\n      <td>2</td>\n      <td>7.7</td>\n      <td>50</td>\n      <td>3194</td>\n      <td>0</td>\n      <td>25.6</td>\n      <td>128</td>\n      <td>Defender</td>\n      <td>25.6</td>\n    </tr>\n    <tr>\n      <th>182</th>\n      <td>Michael</td>\n      <td>Keane</td>\n      <td>Everton</td>\n      <td>2</td>\n      <td>3.0</td>\n      <td>50</td>\n      <td>2989</td>\n      <td>0</td>\n      <td>25.4</td>\n      <td>127</td>\n      <td>Defender</td>\n      <td>25.4</td>\n    </tr>\n    <tr>\n      <th>47</th>\n      <td>Ezri</td>\n      <td>Konsa Ngoyo</td>\n      <td>Aston Villa</td>\n      <td>2</td>\n      <td>1.2</td>\n      <td>50</td>\n      <td>3195</td>\n      <td>0</td>\n      <td>23.8</td>\n      <td>119</td>\n      <td>Defender</td>\n      <td>23.8</td>\n    </tr>\n    <tr>\n      <th>284</th>\n      <td>Rúben Santos</td>\n      <td>Gato Alves Dias</td>\n      <td>Man City</td>\n      <td>2</td>\n      <td>27.0</td>\n      <td>60</td>\n      <td>2843</td>\n      <td>0</td>\n      <td>23.7</td>\n      <td>142</td>\n      <td>Defender</td>\n      <td>23.7</td>\n    </tr>\n    <tr>\n      <th>470</th>\n      <td>Conor</td>\n      <td>Coady</td>\n      <td>Wolves</td>\n      <td>2</td>\n      <td>8.5</td>\n      <td>45</td>\n      <td>3303</td>\n      <td>0</td>\n      <td>23.6</td>\n      <td>106</td>\n      <td>Defender</td>\n      <td>23.6</td>\n    </tr>\n    <tr>\n      <th>274</th>\n      <td>John</td>\n      <td>Stones</td>\n      <td>Man City</td>\n      <td>2</td>\n      <td>11.8</td>\n      <td>55</td>\n      <td>1933</td>\n      <td>0</td>\n      <td>23.3</td>\n      <td>128</td>\n      <td>Defender</td>\n      <td>23.3</td>\n    </tr>\n    <tr>\n      <th>13</th>\n      <td>Rob</td>\n      <td>Holding</td>\n      <td>Arsenal</td>\n      <td>2</td>\n      <td>3.3</td>\n      <td>45</td>\n      <td>2557</td>\n      <td>0</td>\n      <td>23.3</td>\n      <td>105</td>\n      <td>Defender</td>\n      <td>23.3</td>\n    </tr>\n    <tr>\n      <th>145</th>\n      <td>Benjamin</td>\n      <td>Chilwell</td>\n      <td>Chelsea</td>\n      <td>2</td>\n      <td>13.2</td>\n      <td>60</td>\n      <td>2286</td>\n      <td>0</td>\n      <td>23.2</td>\n      <td>139</td>\n      <td>Defender</td>\n      <td>23.2</td>\n    </tr>\n    <tr>\n      <th>27</th>\n      <td>Ben</td>\n      <td>White</td>\n      <td>Arsenal</td>\n      <td>2</td>\n      <td>21.9</td>\n      <td>45</td>\n      <td>3192</td>\n      <td>0</td>\n      <td>23.1</td>\n      <td>104</td>\n      <td>Defender</td>\n      <td>23.1</td>\n    </tr>\n    <tr>\n      <th>256</th>\n      <td>Andrew</td>\n      <td>Robertson</td>\n      <td>Liverpool</td>\n      <td>2</td>\n      <td>13.4</td>\n      <td>70</td>\n      <td>3384</td>\n      <td>0</td>\n      <td>23.0</td>\n      <td>161</td>\n      <td>Defender</td>\n      <td>23.0</td>\n    </tr>\n    <tr>\n      <th>278</th>\n      <td>João Pedro Cavaco</td>\n      <td>Cancelo</td>\n      <td>Man City</td>\n      <td>2</td>\n      <td>7.7</td>\n      <td>60</td>\n      <td>2298</td>\n      <td>0</td>\n      <td>23.0</td>\n      <td>138</td>\n      <td>Defender</td>\n      <td>23.0</td>\n    </tr>\n    <tr>\n      <th>118</th>\n      <td>Matthew</td>\n      <td>Lowton</td>\n      <td>Burnley</td>\n      <td>2</td>\n      <td>3.2</td>\n      <td>45</td>\n      <td>3060</td>\n      <td>0</td>\n      <td>22.9</td>\n      <td>103</td>\n      <td>Defender</td>\n      <td>22.9</td>\n    </tr>\n    <tr>\n      <th>297</th>\n      <td>Luke</td>\n      <td>Shaw</td>\n      <td>Man Utd</td>\n      <td>2</td>\n      <td>48.6</td>\n      <td>55</td>\n      <td>2653</td>\n      <td>0</td>\n      <td>22.5</td>\n      <td>124</td>\n      <td>Defender</td>\n      <td>22.5</td>\n    </tr>\n    <tr>\n      <th>295</th>\n      <td>Harry</td>\n      <td>Maguire</td>\n      <td>Man Utd</td>\n      <td>2</td>\n      <td>10.8</td>\n      <td>55</td>\n      <td>3047</td>\n      <td>0</td>\n      <td>22.5</td>\n      <td>124</td>\n      <td>Defender</td>\n      <td>22.5</td>\n    </tr>\n    <tr>\n      <th>225</th>\n      <td>Luke</td>\n      <td>Ayling</td>\n      <td>Leeds</td>\n      <td>2</td>\n      <td>11.6</td>\n      <td>45</td>\n      <td>3399</td>\n      <td>0</td>\n      <td>22.2</td>\n      <td>100</td>\n      <td>Defender</td>\n      <td>22.2</td>\n    </tr>\n  </tbody>\n</table>\n</div>"
     },
     "metadata": {},
     "execution_count": 25
    },
    {
     "output_type": "display_data",
     "data": {
      "text/plain": "<Figure size 432x288 with 1 Axes>",
      "image/svg+xml": "<?xml version=\"1.0\" encoding=\"utf-8\" standalone=\"no\"?>\r\n<!DOCTYPE svg PUBLIC \"-//W3C//DTD SVG 1.1//EN\"\r\n  \"http://www.w3.org/Graphics/SVG/1.1/DTD/svg11.dtd\">\r\n<svg height=\"248.518125pt\" version=\"1.1\" viewBox=\"0 0 368.925 248.518125\" width=\"368.925pt\" xmlns=\"http://www.w3.org/2000/svg\" xmlns:xlink=\"http://www.w3.org/1999/xlink\">\r\n <metadata>\r\n  <rdf:RDF xmlns:cc=\"http://creativecommons.org/ns#\" xmlns:dc=\"http://purl.org/dc/elements/1.1/\" xmlns:rdf=\"http://www.w3.org/1999/02/22-rdf-syntax-ns#\">\r\n   <cc:Work>\r\n    <dc:type rdf:resource=\"http://purl.org/dc/dcmitype/StillImage\"/>\r\n    <dc:date>2021-08-05T18:00:45.014943</dc:date>\r\n    <dc:format>image/svg+xml</dc:format>\r\n    <dc:creator>\r\n     <cc:Agent>\r\n      <dc:title>Matplotlib v3.4.2, https://matplotlib.org/</dc:title>\r\n     </cc:Agent>\r\n    </dc:creator>\r\n   </cc:Work>\r\n  </rdf:RDF>\r\n </metadata>\r\n <defs>\r\n  <style type=\"text/css\">*{stroke-linecap:butt;stroke-linejoin:round;}</style>\r\n </defs>\r\n <g id=\"figure_1\">\r\n  <g id=\"patch_1\">\r\n   <path d=\"M -0 248.518125 \r\nL 368.925 248.518125 \r\nL 368.925 0 \r\nL -0 0 \r\nz\r\n\" style=\"fill:none;\"/>\r\n  </g>\r\n  <g id=\"axes_1\">\r\n   <g id=\"patch_2\">\r\n    <path d=\"M 26.925 224.64 \r\nL 361.725 224.64 \r\nL 361.725 7.2 \r\nL 26.925 7.2 \r\nz\r\n\" style=\"fill:#ffffff;\"/>\r\n   </g>\r\n   <g id=\"patch_3\">\r\n    <path clip-path=\"url(#p760a8f3034)\" d=\"M 42.143182 224.64 \r\nL 72.579545 224.64 \r\nL 72.579545 127.187899 \r\nL 42.143182 127.187899 \r\nz\r\n\" style=\"fill:#1f77b4;\"/>\r\n   </g>\r\n   <g id=\"patch_4\">\r\n    <path clip-path=\"url(#p760a8f3034)\" d=\"M 72.579545 224.64 \r\nL 103.015909 224.64 \r\nL 103.015909 102.824874 \r\nL 72.579545 102.824874 \r\nz\r\n\" style=\"fill:#1f77b4;\"/>\r\n   </g>\r\n   <g id=\"patch_5\">\r\n    <path clip-path=\"url(#p760a8f3034)\" d=\"M 103.015909 224.64 \r\nL 133.452273 224.64 \r\nL 133.452273 29.735798 \r\nL 103.015909 29.735798 \r\nz\r\n\" style=\"fill:#1f77b4;\"/>\r\n   </g>\r\n   <g id=\"patch_6\">\r\n    <path clip-path=\"url(#p760a8f3034)\" d=\"M 133.452273 224.64 \r\nL 163.888636 224.64 \r\nL 163.888636 29.735798 \r\nL 133.452273 29.735798 \r\nz\r\n\" style=\"fill:#1f77b4;\"/>\r\n   </g>\r\n   <g id=\"patch_7\">\r\n    <path clip-path=\"url(#p760a8f3034)\" d=\"M 163.888636 224.64 \r\nL 194.325 224.64 \r\nL 194.325 90.643361 \r\nL 163.888636 90.643361 \r\nz\r\n\" style=\"fill:#1f77b4;\"/>\r\n   </g>\r\n   <g id=\"patch_8\">\r\n    <path clip-path=\"url(#p760a8f3034)\" d=\"M 194.325 224.64 \r\nL 224.761364 224.64 \r\nL 224.761364 66.280336 \r\nL 194.325 66.280336 \r\nz\r\n\" style=\"fill:#1f77b4;\"/>\r\n   </g>\r\n   <g id=\"patch_9\">\r\n    <path clip-path=\"url(#p760a8f3034)\" d=\"M 224.761364 224.64 \r\nL 255.197727 224.64 \r\nL 255.197727 41.917311 \r\nL 224.761364 41.917311 \r\nz\r\n\" style=\"fill:#1f77b4;\"/>\r\n   </g>\r\n   <g id=\"patch_10\">\r\n    <path clip-path=\"url(#p760a8f3034)\" d=\"M 255.197727 224.64 \r\nL 285.634091 224.64 \r\nL 285.634091 17.554286 \r\nL 255.197727 17.554286 \r\nz\r\n\" style=\"fill:#1f77b4;\"/>\r\n   </g>\r\n   <g id=\"patch_11\">\r\n    <path clip-path=\"url(#p760a8f3034)\" d=\"M 285.634091 224.64 \r\nL 316.070455 224.64 \r\nL 316.070455 78.461849 \r\nL 285.634091 78.461849 \r\nz\r\n\" style=\"fill:#1f77b4;\"/>\r\n   </g>\r\n   <g id=\"patch_12\">\r\n    <path clip-path=\"url(#p760a8f3034)\" d=\"M 316.070455 224.64 \r\nL 346.506818 224.64 \r\nL 346.506818 139.369412 \r\nL 316.070455 139.369412 \r\nz\r\n\" style=\"fill:#1f77b4;\"/>\r\n   </g>\r\n   <g id=\"matplotlib.axis_1\">\r\n    <g id=\"xtick_1\">\r\n     <g id=\"line2d_1\">\r\n      <path clip-path=\"url(#p760a8f3034)\" d=\"M 39.937648 224.64 \r\nL 39.937648 7.2 \r\n\" style=\"fill:none;stroke:#b0b0b0;stroke-linecap:square;stroke-width:0.8;\"/>\r\n     </g>\r\n     <g id=\"line2d_2\">\r\n      <defs>\r\n       <path d=\"M 0 0 \r\nL 0 3.5 \r\n\" id=\"m2d594a0831\" style=\"stroke:#000000;stroke-width:0.8;\"/>\r\n      </defs>\r\n      <g>\r\n       <use style=\"stroke:#000000;stroke-width:0.8;\" x=\"39.937648\" xlink:href=\"#m2d594a0831\" y=\"224.64\"/>\r\n      </g>\r\n     </g>\r\n     <g id=\"text_1\">\r\n      <!-- 0 -->\r\n      <g transform=\"translate(36.756398 239.238437)scale(0.1 -0.1)\">\r\n       <defs>\r\n        <path d=\"M 2034 4250 \r\nQ 1547 4250 1301 3770 \r\nQ 1056 3291 1056 2328 \r\nQ 1056 1369 1301 889 \r\nQ 1547 409 2034 409 \r\nQ 2525 409 2770 889 \r\nQ 3016 1369 3016 2328 \r\nQ 3016 3291 2770 3770 \r\nQ 2525 4250 2034 4250 \r\nz\r\nM 2034 4750 \r\nQ 2819 4750 3233 4129 \r\nQ 3647 3509 3647 2328 \r\nQ 3647 1150 3233 529 \r\nQ 2819 -91 2034 -91 \r\nQ 1250 -91 836 529 \r\nQ 422 1150 422 2328 \r\nQ 422 3509 836 4129 \r\nQ 1250 4750 2034 4750 \r\nz\r\n\" id=\"DejaVuSans-30\" transform=\"scale(0.015625)\"/>\r\n       </defs>\r\n       <use xlink:href=\"#DejaVuSans-30\"/>\r\n      </g>\r\n     </g>\r\n    </g>\r\n    <g id=\"xtick_2\">\r\n     <g id=\"line2d_3\">\r\n      <path clip-path=\"url(#p760a8f3034)\" d=\"M 95.075988 224.64 \r\nL 95.075988 7.2 \r\n\" style=\"fill:none;stroke:#b0b0b0;stroke-linecap:square;stroke-width:0.8;\"/>\r\n     </g>\r\n     <g id=\"line2d_4\">\r\n      <g>\r\n       <use style=\"stroke:#000000;stroke-width:0.8;\" x=\"95.075988\" xlink:href=\"#m2d594a0831\" y=\"224.64\"/>\r\n      </g>\r\n     </g>\r\n     <g id=\"text_2\">\r\n      <!-- 5 -->\r\n      <g transform=\"translate(91.894738 239.238437)scale(0.1 -0.1)\">\r\n       <defs>\r\n        <path d=\"M 691 4666 \r\nL 3169 4666 \r\nL 3169 4134 \r\nL 1269 4134 \r\nL 1269 2991 \r\nQ 1406 3038 1543 3061 \r\nQ 1681 3084 1819 3084 \r\nQ 2600 3084 3056 2656 \r\nQ 3513 2228 3513 1497 \r\nQ 3513 744 3044 326 \r\nQ 2575 -91 1722 -91 \r\nQ 1428 -91 1123 -41 \r\nQ 819 9 494 109 \r\nL 494 744 \r\nQ 775 591 1075 516 \r\nQ 1375 441 1709 441 \r\nQ 2250 441 2565 725 \r\nQ 2881 1009 2881 1497 \r\nQ 2881 1984 2565 2268 \r\nQ 2250 2553 1709 2553 \r\nQ 1456 2553 1204 2497 \r\nQ 953 2441 691 2322 \r\nL 691 4666 \r\nz\r\n\" id=\"DejaVuSans-35\" transform=\"scale(0.015625)\"/>\r\n       </defs>\r\n       <use xlink:href=\"#DejaVuSans-35\"/>\r\n      </g>\r\n     </g>\r\n    </g>\r\n    <g id=\"xtick_3\">\r\n     <g id=\"line2d_5\">\r\n      <path clip-path=\"url(#p760a8f3034)\" d=\"M 150.214328 224.64 \r\nL 150.214328 7.2 \r\n\" style=\"fill:none;stroke:#b0b0b0;stroke-linecap:square;stroke-width:0.8;\"/>\r\n     </g>\r\n     <g id=\"line2d_6\">\r\n      <g>\r\n       <use style=\"stroke:#000000;stroke-width:0.8;\" x=\"150.214328\" xlink:href=\"#m2d594a0831\" y=\"224.64\"/>\r\n      </g>\r\n     </g>\r\n     <g id=\"text_3\">\r\n      <!-- 10 -->\r\n      <g transform=\"translate(143.851828 239.238437)scale(0.1 -0.1)\">\r\n       <defs>\r\n        <path d=\"M 794 531 \r\nL 1825 531 \r\nL 1825 4091 \r\nL 703 3866 \r\nL 703 4441 \r\nL 1819 4666 \r\nL 2450 4666 \r\nL 2450 531 \r\nL 3481 531 \r\nL 3481 0 \r\nL 794 0 \r\nL 794 531 \r\nz\r\n\" id=\"DejaVuSans-31\" transform=\"scale(0.015625)\"/>\r\n       </defs>\r\n       <use xlink:href=\"#DejaVuSans-31\"/>\r\n       <use x=\"63.623047\" xlink:href=\"#DejaVuSans-30\"/>\r\n      </g>\r\n     </g>\r\n    </g>\r\n    <g id=\"xtick_4\">\r\n     <g id=\"line2d_7\">\r\n      <path clip-path=\"url(#p760a8f3034)\" d=\"M 205.352668 224.64 \r\nL 205.352668 7.2 \r\n\" style=\"fill:none;stroke:#b0b0b0;stroke-linecap:square;stroke-width:0.8;\"/>\r\n     </g>\r\n     <g id=\"line2d_8\">\r\n      <g>\r\n       <use style=\"stroke:#000000;stroke-width:0.8;\" x=\"205.352668\" xlink:href=\"#m2d594a0831\" y=\"224.64\"/>\r\n      </g>\r\n     </g>\r\n     <g id=\"text_4\">\r\n      <!-- 15 -->\r\n      <g transform=\"translate(198.990168 239.238437)scale(0.1 -0.1)\">\r\n       <use xlink:href=\"#DejaVuSans-31\"/>\r\n       <use x=\"63.623047\" xlink:href=\"#DejaVuSans-35\"/>\r\n      </g>\r\n     </g>\r\n    </g>\r\n    <g id=\"xtick_5\">\r\n     <g id=\"line2d_9\">\r\n      <path clip-path=\"url(#p760a8f3034)\" d=\"M 260.491008 224.64 \r\nL 260.491008 7.2 \r\n\" style=\"fill:none;stroke:#b0b0b0;stroke-linecap:square;stroke-width:0.8;\"/>\r\n     </g>\r\n     <g id=\"line2d_10\">\r\n      <g>\r\n       <use style=\"stroke:#000000;stroke-width:0.8;\" x=\"260.491008\" xlink:href=\"#m2d594a0831\" y=\"224.64\"/>\r\n      </g>\r\n     </g>\r\n     <g id=\"text_5\">\r\n      <!-- 20 -->\r\n      <g transform=\"translate(254.128508 239.238437)scale(0.1 -0.1)\">\r\n       <defs>\r\n        <path d=\"M 1228 531 \r\nL 3431 531 \r\nL 3431 0 \r\nL 469 0 \r\nL 469 531 \r\nQ 828 903 1448 1529 \r\nQ 2069 2156 2228 2338 \r\nQ 2531 2678 2651 2914 \r\nQ 2772 3150 2772 3378 \r\nQ 2772 3750 2511 3984 \r\nQ 2250 4219 1831 4219 \r\nQ 1534 4219 1204 4116 \r\nQ 875 4013 500 3803 \r\nL 500 4441 \r\nQ 881 4594 1212 4672 \r\nQ 1544 4750 1819 4750 \r\nQ 2544 4750 2975 4387 \r\nQ 3406 4025 3406 3419 \r\nQ 3406 3131 3298 2873 \r\nQ 3191 2616 2906 2266 \r\nQ 2828 2175 2409 1742 \r\nQ 1991 1309 1228 531 \r\nz\r\n\" id=\"DejaVuSans-32\" transform=\"scale(0.015625)\"/>\r\n       </defs>\r\n       <use xlink:href=\"#DejaVuSans-32\"/>\r\n       <use x=\"63.623047\" xlink:href=\"#DejaVuSans-30\"/>\r\n      </g>\r\n     </g>\r\n    </g>\r\n    <g id=\"xtick_6\">\r\n     <g id=\"line2d_11\">\r\n      <path clip-path=\"url(#p760a8f3034)\" d=\"M 315.629348 224.64 \r\nL 315.629348 7.2 \r\n\" style=\"fill:none;stroke:#b0b0b0;stroke-linecap:square;stroke-width:0.8;\"/>\r\n     </g>\r\n     <g id=\"line2d_12\">\r\n      <g>\r\n       <use style=\"stroke:#000000;stroke-width:0.8;\" x=\"315.629348\" xlink:href=\"#m2d594a0831\" y=\"224.64\"/>\r\n      </g>\r\n     </g>\r\n     <g id=\"text_6\">\r\n      <!-- 25 -->\r\n      <g transform=\"translate(309.266848 239.238437)scale(0.1 -0.1)\">\r\n       <use xlink:href=\"#DejaVuSans-32\"/>\r\n       <use x=\"63.623047\" xlink:href=\"#DejaVuSans-35\"/>\r\n      </g>\r\n     </g>\r\n    </g>\r\n   </g>\r\n   <g id=\"matplotlib.axis_2\">\r\n    <g id=\"ytick_1\">\r\n     <g id=\"line2d_13\">\r\n      <path clip-path=\"url(#p760a8f3034)\" d=\"M 26.925 224.64 \r\nL 361.725 224.64 \r\n\" style=\"fill:none;stroke:#b0b0b0;stroke-linecap:square;stroke-width:0.8;\"/>\r\n     </g>\r\n     <g id=\"line2d_14\">\r\n      <defs>\r\n       <path d=\"M 0 0 \r\nL -3.5 0 \r\n\" id=\"m814a7bfb21\" style=\"stroke:#000000;stroke-width:0.8;\"/>\r\n      </defs>\r\n      <g>\r\n       <use style=\"stroke:#000000;stroke-width:0.8;\" x=\"26.925\" xlink:href=\"#m814a7bfb21\" y=\"224.64\"/>\r\n      </g>\r\n     </g>\r\n     <g id=\"text_7\">\r\n      <!-- 0 -->\r\n      <g transform=\"translate(13.5625 228.439219)scale(0.1 -0.1)\">\r\n       <use xlink:href=\"#DejaVuSans-30\"/>\r\n      </g>\r\n     </g>\r\n    </g>\r\n    <g id=\"ytick_2\">\r\n     <g id=\"line2d_15\">\r\n      <path clip-path=\"url(#p760a8f3034)\" d=\"M 26.925 200.276975 \r\nL 361.725 200.276975 \r\n\" style=\"fill:none;stroke:#b0b0b0;stroke-linecap:square;stroke-width:0.8;\"/>\r\n     </g>\r\n     <g id=\"line2d_16\">\r\n      <g>\r\n       <use style=\"stroke:#000000;stroke-width:0.8;\" x=\"26.925\" xlink:href=\"#m814a7bfb21\" y=\"200.276975\"/>\r\n      </g>\r\n     </g>\r\n     <g id=\"text_8\">\r\n      <!-- 2 -->\r\n      <g transform=\"translate(13.5625 204.076194)scale(0.1 -0.1)\">\r\n       <use xlink:href=\"#DejaVuSans-32\"/>\r\n      </g>\r\n     </g>\r\n    </g>\r\n    <g id=\"ytick_3\">\r\n     <g id=\"line2d_17\">\r\n      <path clip-path=\"url(#p760a8f3034)\" d=\"M 26.925 175.91395 \r\nL 361.725 175.91395 \r\n\" style=\"fill:none;stroke:#b0b0b0;stroke-linecap:square;stroke-width:0.8;\"/>\r\n     </g>\r\n     <g id=\"line2d_18\">\r\n      <g>\r\n       <use style=\"stroke:#000000;stroke-width:0.8;\" x=\"26.925\" xlink:href=\"#m814a7bfb21\" y=\"175.91395\"/>\r\n      </g>\r\n     </g>\r\n     <g id=\"text_9\">\r\n      <!-- 4 -->\r\n      <g transform=\"translate(13.5625 179.713168)scale(0.1 -0.1)\">\r\n       <defs>\r\n        <path d=\"M 2419 4116 \r\nL 825 1625 \r\nL 2419 1625 \r\nL 2419 4116 \r\nz\r\nM 2253 4666 \r\nL 3047 4666 \r\nL 3047 1625 \r\nL 3713 1625 \r\nL 3713 1100 \r\nL 3047 1100 \r\nL 3047 0 \r\nL 2419 0 \r\nL 2419 1100 \r\nL 313 1100 \r\nL 313 1709 \r\nL 2253 4666 \r\nz\r\n\" id=\"DejaVuSans-34\" transform=\"scale(0.015625)\"/>\r\n       </defs>\r\n       <use xlink:href=\"#DejaVuSans-34\"/>\r\n      </g>\r\n     </g>\r\n    </g>\r\n    <g id=\"ytick_4\">\r\n     <g id=\"line2d_19\">\r\n      <path clip-path=\"url(#p760a8f3034)\" d=\"M 26.925 151.550924 \r\nL 361.725 151.550924 \r\n\" style=\"fill:none;stroke:#b0b0b0;stroke-linecap:square;stroke-width:0.8;\"/>\r\n     </g>\r\n     <g id=\"line2d_20\">\r\n      <g>\r\n       <use style=\"stroke:#000000;stroke-width:0.8;\" x=\"26.925\" xlink:href=\"#m814a7bfb21\" y=\"151.550924\"/>\r\n      </g>\r\n     </g>\r\n     <g id=\"text_10\">\r\n      <!-- 6 -->\r\n      <g transform=\"translate(13.5625 155.350143)scale(0.1 -0.1)\">\r\n       <defs>\r\n        <path d=\"M 2113 2584 \r\nQ 1688 2584 1439 2293 \r\nQ 1191 2003 1191 1497 \r\nQ 1191 994 1439 701 \r\nQ 1688 409 2113 409 \r\nQ 2538 409 2786 701 \r\nQ 3034 994 3034 1497 \r\nQ 3034 2003 2786 2293 \r\nQ 2538 2584 2113 2584 \r\nz\r\nM 3366 4563 \r\nL 3366 3988 \r\nQ 3128 4100 2886 4159 \r\nQ 2644 4219 2406 4219 \r\nQ 1781 4219 1451 3797 \r\nQ 1122 3375 1075 2522 \r\nQ 1259 2794 1537 2939 \r\nQ 1816 3084 2150 3084 \r\nQ 2853 3084 3261 2657 \r\nQ 3669 2231 3669 1497 \r\nQ 3669 778 3244 343 \r\nQ 2819 -91 2113 -91 \r\nQ 1303 -91 875 529 \r\nQ 447 1150 447 2328 \r\nQ 447 3434 972 4092 \r\nQ 1497 4750 2381 4750 \r\nQ 2619 4750 2861 4703 \r\nQ 3103 4656 3366 4563 \r\nz\r\n\" id=\"DejaVuSans-36\" transform=\"scale(0.015625)\"/>\r\n       </defs>\r\n       <use xlink:href=\"#DejaVuSans-36\"/>\r\n      </g>\r\n     </g>\r\n    </g>\r\n    <g id=\"ytick_5\">\r\n     <g id=\"line2d_21\">\r\n      <path clip-path=\"url(#p760a8f3034)\" d=\"M 26.925 127.187899 \r\nL 361.725 127.187899 \r\n\" style=\"fill:none;stroke:#b0b0b0;stroke-linecap:square;stroke-width:0.8;\"/>\r\n     </g>\r\n     <g id=\"line2d_22\">\r\n      <g>\r\n       <use style=\"stroke:#000000;stroke-width:0.8;\" x=\"26.925\" xlink:href=\"#m814a7bfb21\" y=\"127.187899\"/>\r\n      </g>\r\n     </g>\r\n     <g id=\"text_11\">\r\n      <!-- 8 -->\r\n      <g transform=\"translate(13.5625 130.987118)scale(0.1 -0.1)\">\r\n       <defs>\r\n        <path d=\"M 2034 2216 \r\nQ 1584 2216 1326 1975 \r\nQ 1069 1734 1069 1313 \r\nQ 1069 891 1326 650 \r\nQ 1584 409 2034 409 \r\nQ 2484 409 2743 651 \r\nQ 3003 894 3003 1313 \r\nQ 3003 1734 2745 1975 \r\nQ 2488 2216 2034 2216 \r\nz\r\nM 1403 2484 \r\nQ 997 2584 770 2862 \r\nQ 544 3141 544 3541 \r\nQ 544 4100 942 4425 \r\nQ 1341 4750 2034 4750 \r\nQ 2731 4750 3128 4425 \r\nQ 3525 4100 3525 3541 \r\nQ 3525 3141 3298 2862 \r\nQ 3072 2584 2669 2484 \r\nQ 3125 2378 3379 2068 \r\nQ 3634 1759 3634 1313 \r\nQ 3634 634 3220 271 \r\nQ 2806 -91 2034 -91 \r\nQ 1263 -91 848 271 \r\nQ 434 634 434 1313 \r\nQ 434 1759 690 2068 \r\nQ 947 2378 1403 2484 \r\nz\r\nM 1172 3481 \r\nQ 1172 3119 1398 2916 \r\nQ 1625 2713 2034 2713 \r\nQ 2441 2713 2670 2916 \r\nQ 2900 3119 2900 3481 \r\nQ 2900 3844 2670 4047 \r\nQ 2441 4250 2034 4250 \r\nQ 1625 4250 1398 4047 \r\nQ 1172 3844 1172 3481 \r\nz\r\n\" id=\"DejaVuSans-38\" transform=\"scale(0.015625)\"/>\r\n       </defs>\r\n       <use xlink:href=\"#DejaVuSans-38\"/>\r\n      </g>\r\n     </g>\r\n    </g>\r\n    <g id=\"ytick_6\">\r\n     <g id=\"line2d_23\">\r\n      <path clip-path=\"url(#p760a8f3034)\" d=\"M 26.925 102.824874 \r\nL 361.725 102.824874 \r\n\" style=\"fill:none;stroke:#b0b0b0;stroke-linecap:square;stroke-width:0.8;\"/>\r\n     </g>\r\n     <g id=\"line2d_24\">\r\n      <g>\r\n       <use style=\"stroke:#000000;stroke-width:0.8;\" x=\"26.925\" xlink:href=\"#m814a7bfb21\" y=\"102.824874\"/>\r\n      </g>\r\n     </g>\r\n     <g id=\"text_12\">\r\n      <!-- 10 -->\r\n      <g transform=\"translate(7.2 106.624093)scale(0.1 -0.1)\">\r\n       <use xlink:href=\"#DejaVuSans-31\"/>\r\n       <use x=\"63.623047\" xlink:href=\"#DejaVuSans-30\"/>\r\n      </g>\r\n     </g>\r\n    </g>\r\n    <g id=\"ytick_7\">\r\n     <g id=\"line2d_25\">\r\n      <path clip-path=\"url(#p760a8f3034)\" d=\"M 26.925 78.461849 \r\nL 361.725 78.461849 \r\n\" style=\"fill:none;stroke:#b0b0b0;stroke-linecap:square;stroke-width:0.8;\"/>\r\n     </g>\r\n     <g id=\"line2d_26\">\r\n      <g>\r\n       <use style=\"stroke:#000000;stroke-width:0.8;\" x=\"26.925\" xlink:href=\"#m814a7bfb21\" y=\"78.461849\"/>\r\n      </g>\r\n     </g>\r\n     <g id=\"text_13\">\r\n      <!-- 12 -->\r\n      <g transform=\"translate(7.2 82.261067)scale(0.1 -0.1)\">\r\n       <use xlink:href=\"#DejaVuSans-31\"/>\r\n       <use x=\"63.623047\" xlink:href=\"#DejaVuSans-32\"/>\r\n      </g>\r\n     </g>\r\n    </g>\r\n    <g id=\"ytick_8\">\r\n     <g id=\"line2d_27\">\r\n      <path clip-path=\"url(#p760a8f3034)\" d=\"M 26.925 54.098824 \r\nL 361.725 54.098824 \r\n\" style=\"fill:none;stroke:#b0b0b0;stroke-linecap:square;stroke-width:0.8;\"/>\r\n     </g>\r\n     <g id=\"line2d_28\">\r\n      <g>\r\n       <use style=\"stroke:#000000;stroke-width:0.8;\" x=\"26.925\" xlink:href=\"#m814a7bfb21\" y=\"54.098824\"/>\r\n      </g>\r\n     </g>\r\n     <g id=\"text_14\">\r\n      <!-- 14 -->\r\n      <g transform=\"translate(7.2 57.898042)scale(0.1 -0.1)\">\r\n       <use xlink:href=\"#DejaVuSans-31\"/>\r\n       <use x=\"63.623047\" xlink:href=\"#DejaVuSans-34\"/>\r\n      </g>\r\n     </g>\r\n    </g>\r\n    <g id=\"ytick_9\">\r\n     <g id=\"line2d_29\">\r\n      <path clip-path=\"url(#p760a8f3034)\" d=\"M 26.925 29.735798 \r\nL 361.725 29.735798 \r\n\" style=\"fill:none;stroke:#b0b0b0;stroke-linecap:square;stroke-width:0.8;\"/>\r\n     </g>\r\n     <g id=\"line2d_30\">\r\n      <g>\r\n       <use style=\"stroke:#000000;stroke-width:0.8;\" x=\"26.925\" xlink:href=\"#m814a7bfb21\" y=\"29.735798\"/>\r\n      </g>\r\n     </g>\r\n     <g id=\"text_15\">\r\n      <!-- 16 -->\r\n      <g transform=\"translate(7.2 33.535017)scale(0.1 -0.1)\">\r\n       <use xlink:href=\"#DejaVuSans-31\"/>\r\n       <use x=\"63.623047\" xlink:href=\"#DejaVuSans-36\"/>\r\n      </g>\r\n     </g>\r\n    </g>\r\n   </g>\r\n   <g id=\"patch_13\">\r\n    <path d=\"M 26.925 224.64 \r\nL 26.925 7.2 \r\n\" style=\"fill:none;stroke:#000000;stroke-linecap:square;stroke-linejoin:miter;stroke-width:0.8;\"/>\r\n   </g>\r\n   <g id=\"patch_14\">\r\n    <path d=\"M 361.725 224.64 \r\nL 361.725 7.2 \r\n\" style=\"fill:none;stroke:#000000;stroke-linecap:square;stroke-linejoin:miter;stroke-width:0.8;\"/>\r\n   </g>\r\n   <g id=\"patch_15\">\r\n    <path d=\"M 26.925 224.64 \r\nL 361.725 224.64 \r\n\" style=\"fill:none;stroke:#000000;stroke-linecap:square;stroke-linejoin:miter;stroke-width:0.8;\"/>\r\n   </g>\r\n   <g id=\"patch_16\">\r\n    <path d=\"M 26.925 7.2 \r\nL 361.725 7.2 \r\n\" style=\"fill:none;stroke:#000000;stroke-linecap:square;stroke-linejoin:miter;stroke-width:0.8;\"/>\r\n   </g>\r\n  </g>\r\n </g>\r\n <defs>\r\n  <clipPath id=\"p760a8f3034\">\r\n   <rect height=\"217.44\" width=\"334.8\" x=\"26.925\" y=\"7.2\"/>\r\n  </clipPath>\r\n </defs>\r\n</svg>\r\n",
      "image/png": "[encoded data removed]"
     },
     "metadata": {
      "needs_background": "light"
     }
    }
   ],
   "source": [
    "def_df.value.hist()\n",
    "def_df.sort_values('value',ascending=False).head(20)"
   ]
  },
  {
   "cell_type": "code",
   "execution_count": 38,
   "metadata": {},
   "outputs": [
    {
     "output_type": "execute_result",
     "data": {
      "text/plain": [
       "        first_name                second_name            team  element_type  \\\n",
       "299   Bruno Miguel           Borges Fernandes         Man Utd             3   \n",
       "255        Mohamed                      Salah       Liverpool             3   \n",
       "391      Heung-Min                        Son           Spurs             3   \n",
       "252          Sadio                       Mané       Liverpool             3   \n",
       "303         Marcus                   Rashford         Man Utd             3   \n",
       "228         Stuart                     Dallas           Leeds             3   \n",
       "240           Jack                   Harrison           Leeds             3   \n",
       "272          Ilkay                   Gündogan        Man City             3   \n",
       "371          James                Ward-Prowse     Southampton             3   \n",
       "277         Raheem                   Sterling        Man City             3   \n",
       "462          Tomas                     Soucek        West Ham             3   \n",
       "148          Mason                      Mount         Chelsea             3   \n",
       "276          Riyad                     Mahrez        Man City             3   \n",
       "460         Jarrod                      Bowen        West Ham             3   \n",
       "273          Kevin                  De Bruyne        Man City             3   \n",
       "163       Wilfried                       Zaha  Crystal Palace             3   \n",
       "287           Phil                      Foden        Man City             3   \n",
       "34        Bertrand                     Traoré     Aston Villa             3   \n",
       "35            Jack                   Grealish     Aston Villa             3   \n",
       "210          James                   Maddison       Leicester             3   \n",
       "236        Raphael               Dias Belloli           Leeds             3   \n",
       "208          Youri                  Tielemans       Leicester             3   \n",
       "92         Leandro                   Trossard        Brighton             3   \n",
       "213         Harvey                     Barnes       Leicester             3   \n",
       "463          Pablo                    Fornals        West Ham             3   \n",
       "169       Eberechi                        Eze  Crystal Palace             3   \n",
       "482          Pedro                 Lomba Neto          Wolves             3   \n",
       "177          Gylfi                 Sigurdsson         Everton             3   \n",
       "83          Pascal                       Groß        Brighton             3   \n",
       "369         Stuart                  Armstrong     Southampton             3   \n",
       "37            John                     McGinn     Aston Villa             3   \n",
       "21          Bukayo                       Saka         Arsenal             3   \n",
       "16         Nicolas                       Pépé         Arsenal             3   \n",
       "133     Jorge Luiz               Frello Filho         Chelsea             3   \n",
       "126         Dwight                     McNeil         Burnley             3   \n",
       "115         Ashley                   Westwood         Burnley             3   \n",
       "44           Anwar                   El Ghazi     Aston Villa             3   \n",
       "397   Pierre-Emile                   Højbjerg           Spurs             3   \n",
       "311          Mason                  Greenwood         Man Utd             3   \n",
       "298          Jesse                    Lingard         Man Utd             3   \n",
       "477    Rúben Diogo             da Silva Neves          Wolves             3   \n",
       "179          James                  Rodríguez         Everton             3   \n",
       "407         Tanguy                   Ndombele           Spurs             3   \n",
       "226        Mateusz                      Klich           Leeds             3   \n",
       "332         Miguel                    Almirón       Newcastle             3   \n",
       "289         Ferran                     Torres        Man City             3   \n",
       "476          Adama                     Traoré          Wolves             3   \n",
       "283  Bernardo Mota  Veiga de Carvalho e Silva        Man City             3   \n",
       "196         Andros                   Townsend         Everton             3   \n",
       "294           Paul                      Pogba         Man Utd             3   \n",
       "\n",
       "    selected_by_percent  now_cost  minutes  transfers_in value_season  \\\n",
       "299                40.9       120     3101             0         20.3   \n",
       "255                48.8       125     3077             0         18.5   \n",
       "391                17.1       100     3119             0         22.8   \n",
       "252                 3.5       120     2808             0         14.7   \n",
       "303                 1.0        95     2917             0         18.3   \n",
       "228                17.1        55     3410             0         31.1   \n",
       "240                 5.5        60     2846             0         26.7   \n",
       "272                 5.9        75     2025             0         20.9   \n",
       "371                 8.1        65     3420             0         24.0   \n",
       "277                 3.1       110     2534             0         14.0   \n",
       "462                11.0        60     3420             0         24.5   \n",
       "148                19.9        75     2887             0         19.6   \n",
       "276                 6.0        90     1945             0         16.1   \n",
       "460                 2.1        65     2556             0         21.7   \n",
       "273                14.7       120     1995             0         11.8   \n",
       "163                 6.5        70     2612             0         19.4   \n",
       "287                10.2        80     1607             0         16.9   \n",
       "34                  1.8        60     2315             0         22.5   \n",
       "35                 31.3        80     2183             0         16.9   \n",
       "210                11.3        70     2093             0         19.0   \n",
       "236                21.3        65     2358             0         20.5   \n",
       "208                 4.4        65     3356             0         20.5   \n",
       "92                  1.5        65     2602             0         20.3   \n",
       "213                 7.3        70     1944             0         18.0   \n",
       "463                 0.5        60     2571             0         20.8   \n",
       "169                 0.1        60     2555             0         20.8   \n",
       "482                 0.1        65     2549             0         19.1   \n",
       "177                 3.1        70     2244             0         17.4   \n",
       "83                  0.5        60     2479             0         19.3   \n",
       "369                 0.4        60     2764             0         19.2   \n",
       "37                  0.8        60     3330             0         19.0   \n",
       "21                 14.6        65     2554             0         17.5   \n",
       "16                  3.5        75     1606             0         15.2   \n",
       "133                 3.7        60     2006             0         19.0   \n",
       "126                 0.3        60     3068             0         18.8   \n",
       "115                 0.7        55     3410             0         20.4   \n",
       "44                  0.8        60     1604             0         18.5   \n",
       "397                 2.9        50     3420             0         21.4   \n",
       "311                 3.3        75     1813             0         14.1   \n",
       "298                 4.3        70     1423             0         15.1   \n",
       "477                 1.4        55     2670             0         18.9   \n",
       "179                 4.0        70     1763             0         14.4   \n",
       "407                 0.4        60     2086             0         16.5   \n",
       "226                 0.5        55     2386             0         18.0   \n",
       "332                 0.6        55     2426             0         17.6   \n",
       "289                 2.9        70     1297             0         13.6   \n",
       "476                 0.9        60     2640             0         15.7   \n",
       "283                 2.3        70     2063             0         13.4   \n",
       "196                 0.4        55     2250             0         17.1   \n",
       "294                 2.6        75     1892             0         12.3   \n",
       "\n",
       "     total_points    position  value  \n",
       "299           244  Midfielder   20.3  \n",
       "255           231  Midfielder   18.5  \n",
       "391           228  Midfielder   22.8  \n",
       "252           176  Midfielder   14.7  \n",
       "303           174  Midfielder   18.3  \n",
       "228           171  Midfielder   31.1  \n",
       "240           160  Midfielder   26.7  \n",
       "272           157  Midfielder   20.9  \n",
       "371           156  Midfielder   24.0  \n",
       "277           154  Midfielder   14.0  \n",
       "462           147  Midfielder   24.5  \n",
       "148           147  Midfielder   19.6  \n",
       "276           145  Midfielder   16.1  \n",
       "460           141  Midfielder   21.7  \n",
       "273           141  Midfielder   11.8  \n",
       "163           136  Midfielder   19.4  \n",
       "287           135  Midfielder   16.9  \n",
       "34            135  Midfielder   22.5  \n",
       "35            135  Midfielder   16.9  \n",
       "210           133  Midfielder   19.0  \n",
       "236           133  Midfielder   20.5  \n",
       "208           133  Midfielder   20.5  \n",
       "92            132  Midfielder   20.3  \n",
       "213           126  Midfielder   18.0  \n",
       "463           125  Midfielder   20.8  \n",
       "169           125  Midfielder   20.8  \n",
       "482           124  Midfielder   19.1  \n",
       "177           122  Midfielder   17.4  \n",
       "83            116  Midfielder   19.3  \n",
       "369           115  Midfielder   19.2  \n",
       "37            114  Midfielder   19.0  \n",
       "21            114  Midfielder   17.5  \n",
       "16            114  Midfielder   15.2  \n",
       "133           114  Midfielder   19.0  \n",
       "126           113  Midfielder   18.8  \n",
       "115           112  Midfielder   20.4  \n",
       "44            111  Midfielder   18.5  \n",
       "397           107  Midfielder   21.4  \n",
       "311           106  Midfielder   14.1  \n",
       "298           106  Midfielder   15.1  \n",
       "477           104  Midfielder   18.9  \n",
       "179           101  Midfielder   14.4  \n",
       "407            99  Midfielder   16.5  \n",
       "226            99  Midfielder   18.0  \n",
       "332            97  Midfielder   17.6  \n",
       "289            95  Midfielder   13.6  \n",
       "476            94  Midfielder   15.7  \n",
       "283            94  Midfielder   13.4  \n",
       "196            94  Midfielder   17.1  \n",
       "294            92  Midfielder   12.3  "
      ],
      "text/html": "<div>\n<style scoped>\n    .dataframe tbody tr th:only-of-type {\n        vertical-align: middle;\n    }\n\n    .dataframe tbody tr th {\n        vertical-align: top;\n    }\n\n    .dataframe thead th {\n        text-align: right;\n    }\n</style>\n<table border=\"1\" class=\"dataframe\">\n  <thead>\n    <tr style=\"text-align: right;\">\n      <th></th>\n      <th>first_name</th>\n      <th>second_name</th>\n      <th>team</th>\n      <th>element_type</th>\n      <th>selected_by_percent</th>\n      <th>now_cost</th>\n      <th>minutes</th>\n      <th>transfers_in</th>\n      <th>value_season</th>\n      <th>total_points</th>\n      <th>position</th>\n      <th>value</th>\n    </tr>\n  </thead>\n  <tbody>\n    <tr>\n      <th>299</th>\n      <td>Bruno Miguel</td>\n      <td>Borges Fernandes</td>\n      <td>Man Utd</td>\n      <td>3</td>\n      <td>40.9</td>\n      <td>120</td>\n      <td>3101</td>\n      <td>0</td>\n      <td>20.3</td>\n      <td>244</td>\n      <td>Midfielder</td>\n      <td>20.3</td>\n    </tr>\n    <tr>\n      <th>255</th>\n      <td>Mohamed</td>\n      <td>Salah</td>\n      <td>Liverpool</td>\n      <td>3</td>\n      <td>48.8</td>\n      <td>125</td>\n      <td>3077</td>\n      <td>0</td>\n      <td>18.5</td>\n      <td>231</td>\n      <td>Midfielder</td>\n      <td>18.5</td>\n    </tr>\n    <tr>\n      <th>391</th>\n      <td>Heung-Min</td>\n      <td>Son</td>\n      <td>Spurs</td>\n      <td>3</td>\n      <td>17.1</td>\n      <td>100</td>\n      <td>3119</td>\n      <td>0</td>\n      <td>22.8</td>\n      <td>228</td>\n      <td>Midfielder</td>\n      <td>22.8</td>\n    </tr>\n    <tr>\n      <th>252</th>\n      <td>Sadio</td>\n      <td>Mané</td>\n      <td>Liverpool</td>\n      <td>3</td>\n      <td>3.5</td>\n      <td>120</td>\n      <td>2808</td>\n      <td>0</td>\n      <td>14.7</td>\n      <td>176</td>\n      <td>Midfielder</td>\n      <td>14.7</td>\n    </tr>\n    <tr>\n      <th>303</th>\n      <td>Marcus</td>\n      <td>Rashford</td>\n      <td>Man Utd</td>\n      <td>3</td>\n      <td>1.0</td>\n      <td>95</td>\n      <td>2917</td>\n      <td>0</td>\n      <td>18.3</td>\n      <td>174</td>\n      <td>Midfielder</td>\n      <td>18.3</td>\n    </tr>\n    <tr>\n      <th>228</th>\n      <td>Stuart</td>\n      <td>Dallas</td>\n      <td>Leeds</td>\n      <td>3</td>\n      <td>17.1</td>\n      <td>55</td>\n      <td>3410</td>\n      <td>0</td>\n      <td>31.1</td>\n      <td>171</td>\n      <td>Midfielder</td>\n      <td>31.1</td>\n    </tr>\n    <tr>\n      <th>240</th>\n      <td>Jack</td>\n      <td>Harrison</td>\n      <td>Leeds</td>\n      <td>3</td>\n      <td>5.5</td>\n      <td>60</td>\n      <td>2846</td>\n      <td>0</td>\n      <td>26.7</td>\n      <td>160</td>\n      <td>Midfielder</td>\n      <td>26.7</td>\n    </tr>\n    <tr>\n      <th>272</th>\n      <td>Ilkay</td>\n      <td>Gündogan</td>\n      <td>Man City</td>\n      <td>3</td>\n      <td>5.9</td>\n      <td>75</td>\n      <td>2025</td>\n      <td>0</td>\n      <td>20.9</td>\n      <td>157</td>\n      <td>Midfielder</td>\n      <td>20.9</td>\n    </tr>\n    <tr>\n      <th>371</th>\n      <td>James</td>\n      <td>Ward-Prowse</td>\n      <td>Southampton</td>\n      <td>3</td>\n      <td>8.1</td>\n      <td>65</td>\n      <td>3420</td>\n      <td>0</td>\n      <td>24.0</td>\n      <td>156</td>\n      <td>Midfielder</td>\n      <td>24.0</td>\n    </tr>\n    <tr>\n      <th>277</th>\n      <td>Raheem</td>\n      <td>Sterling</td>\n      <td>Man City</td>\n      <td>3</td>\n      <td>3.1</td>\n      <td>110</td>\n      <td>2534</td>\n      <td>0</td>\n      <td>14.0</td>\n      <td>154</td>\n      <td>Midfielder</td>\n      <td>14.0</td>\n    </tr>\n    <tr>\n      <th>462</th>\n      <td>Tomas</td>\n      <td>Soucek</td>\n      <td>West Ham</td>\n      <td>3</td>\n      <td>11.0</td>\n      <td>60</td>\n      <td>3420</td>\n      <td>0</td>\n      <td>24.5</td>\n      <td>147</td>\n      <td>Midfielder</td>\n      <td>24.5</td>\n    </tr>\n    <tr>\n      <th>148</th>\n      <td>Mason</td>\n      <td>Mount</td>\n      <td>Chelsea</td>\n      <td>3</td>\n      <td>19.9</td>\n      <td>75</td>\n      <td>2887</td>\n      <td>0</td>\n      <td>19.6</td>\n      <td>147</td>\n      <td>Midfielder</td>\n      <td>19.6</td>\n    </tr>\n    <tr>\n      <th>276</th>\n      <td>Riyad</td>\n      <td>Mahrez</td>\n      <td>Man City</td>\n      <td>3</td>\n      <td>6.0</td>\n      <td>90</td>\n      <td>1945</td>\n      <td>0</td>\n      <td>16.1</td>\n      <td>145</td>\n      <td>Midfielder</td>\n      <td>16.1</td>\n    </tr>\n    <tr>\n      <th>460</th>\n      <td>Jarrod</td>\n      <td>Bowen</td>\n      <td>West Ham</td>\n      <td>3</td>\n      <td>2.1</td>\n      <td>65</td>\n      <td>2556</td>\n      <td>0</td>\n      <td>21.7</td>\n      <td>141</td>\n      <td>Midfielder</td>\n      <td>21.7</td>\n    </tr>\n    <tr>\n      <th>273</th>\n      <td>Kevin</td>\n      <td>De Bruyne</td>\n      <td>Man City</td>\n      <td>3</td>\n      <td>14.7</td>\n      <td>120</td>\n      <td>1995</td>\n      <td>0</td>\n      <td>11.8</td>\n      <td>141</td>\n      <td>Midfielder</td>\n      <td>11.8</td>\n    </tr>\n    <tr>\n      <th>163</th>\n      <td>Wilfried</td>\n      <td>Zaha</td>\n      <td>Crystal Palace</td>\n      <td>3</td>\n      <td>6.5</td>\n      <td>70</td>\n      <td>2612</td>\n      <td>0</td>\n      <td>19.4</td>\n      <td>136</td>\n      <td>Midfielder</td>\n      <td>19.4</td>\n    </tr>\n    <tr>\n      <th>287</th>\n      <td>Phil</td>\n      <td>Foden</td>\n      <td>Man City</td>\n      <td>3</td>\n      <td>10.2</td>\n      <td>80</td>\n      <td>1607</td>\n      <td>0</td>\n      <td>16.9</td>\n      <td>135</td>\n      <td>Midfielder</td>\n      <td>16.9</td>\n    </tr>\n    <tr>\n      <th>34</th>\n      <td>Bertrand</td>\n      <td>Traoré</td>\n      <td>Aston Villa</td>\n      <td>3</td>\n      <td>1.8</td>\n      <td>60</td>\n      <td>2315</td>\n      <td>0</td>\n      <td>22.5</td>\n      <td>135</td>\n      <td>Midfielder</td>\n      <td>22.5</td>\n    </tr>\n    <tr>\n      <th>35</th>\n      <td>Jack</td>\n      <td>Grealish</td>\n      <td>Aston Villa</td>\n      <td>3</td>\n      <td>31.3</td>\n      <td>80</td>\n      <td>2183</td>\n      <td>0</td>\n      <td>16.9</td>\n      <td>135</td>\n      <td>Midfielder</td>\n      <td>16.9</td>\n    </tr>\n    <tr>\n      <th>210</th>\n      <td>James</td>\n      <td>Maddison</td>\n      <td>Leicester</td>\n      <td>3</td>\n      <td>11.3</td>\n      <td>70</td>\n      <td>2093</td>\n      <td>0</td>\n      <td>19.0</td>\n      <td>133</td>\n      <td>Midfielder</td>\n      <td>19.0</td>\n    </tr>\n    <tr>\n      <th>236</th>\n      <td>Raphael</td>\n      <td>Dias Belloli</td>\n      <td>Leeds</td>\n      <td>3</td>\n      <td>21.3</td>\n      <td>65</td>\n      <td>2358</td>\n      <td>0</td>\n      <td>20.5</td>\n      <td>133</td>\n      <td>Midfielder</td>\n      <td>20.5</td>\n    </tr>\n    <tr>\n      <th>208</th>\n      <td>Youri</td>\n      <td>Tielemans</td>\n      <td>Leicester</td>\n      <td>3</td>\n      <td>4.4</td>\n      <td>65</td>\n      <td>3356</td>\n      <td>0</td>\n      <td>20.5</td>\n      <td>133</td>\n      <td>Midfielder</td>\n      <td>20.5</td>\n    </tr>\n    <tr>\n      <th>92</th>\n      <td>Leandro</td>\n      <td>Trossard</td>\n      <td>Brighton</td>\n      <td>3</td>\n      <td>1.5</td>\n      <td>65</td>\n      <td>2602</td>\n      <td>0</td>\n      <td>20.3</td>\n      <td>132</td>\n      <td>Midfielder</td>\n      <td>20.3</td>\n    </tr>\n    <tr>\n      <th>213</th>\n      <td>Harvey</td>\n      <td>Barnes</td>\n      <td>Leicester</td>\n      <td>3</td>\n      <td>7.3</td>\n      <td>70</td>\n      <td>1944</td>\n      <td>0</td>\n      <td>18.0</td>\n      <td>126</td>\n      <td>Midfielder</td>\n      <td>18.0</td>\n    </tr>\n    <tr>\n      <th>463</th>\n      <td>Pablo</td>\n      <td>Fornals</td>\n      <td>West Ham</td>\n      <td>3</td>\n      <td>0.5</td>\n      <td>60</td>\n      <td>2571</td>\n      <td>0</td>\n      <td>20.8</td>\n      <td>125</td>\n      <td>Midfielder</td>\n      <td>20.8</td>\n    </tr>\n    <tr>\n      <th>169</th>\n      <td>Eberechi</td>\n      <td>Eze</td>\n      <td>Crystal Palace</td>\n      <td>3</td>\n      <td>0.1</td>\n      <td>60</td>\n      <td>2555</td>\n      <td>0</td>\n      <td>20.8</td>\n      <td>125</td>\n      <td>Midfielder</td>\n      <td>20.8</td>\n    </tr>\n    <tr>\n      <th>482</th>\n      <td>Pedro</td>\n      <td>Lomba Neto</td>\n      <td>Wolves</td>\n      <td>3</td>\n      <td>0.1</td>\n      <td>65</td>\n      <td>2549</td>\n      <td>0</td>\n      <td>19.1</td>\n      <td>124</td>\n      <td>Midfielder</td>\n      <td>19.1</td>\n    </tr>\n    <tr>\n      <th>177</th>\n      <td>Gylfi</td>\n      <td>Sigurdsson</td>\n      <td>Everton</td>\n      <td>3</td>\n      <td>3.1</td>\n      <td>70</td>\n      <td>2244</td>\n      <td>0</td>\n      <td>17.4</td>\n      <td>122</td>\n      <td>Midfielder</td>\n      <td>17.4</td>\n    </tr>\n    <tr>\n      <th>83</th>\n      <td>Pascal</td>\n      <td>Groß</td>\n      <td>Brighton</td>\n      <td>3</td>\n      <td>0.5</td>\n      <td>60</td>\n      <td>2479</td>\n      <td>0</td>\n      <td>19.3</td>\n      <td>116</td>\n      <td>Midfielder</td>\n      <td>19.3</td>\n    </tr>\n    <tr>\n      <th>369</th>\n      <td>Stuart</td>\n      <td>Armstrong</td>\n      <td>Southampton</td>\n      <td>3</td>\n      <td>0.4</td>\n      <td>60</td>\n      <td>2764</td>\n      <td>0</td>\n      <td>19.2</td>\n      <td>115</td>\n      <td>Midfielder</td>\n      <td>19.2</td>\n    </tr>\n    <tr>\n      <th>37</th>\n      <td>John</td>\n      <td>McGinn</td>\n      <td>Aston Villa</td>\n      <td>3</td>\n      <td>0.8</td>\n      <td>60</td>\n      <td>3330</td>\n      <td>0</td>\n      <td>19.0</td>\n      <td>114</td>\n      <td>Midfielder</td>\n      <td>19.0</td>\n    </tr>\n    <tr>\n      <th>21</th>\n      <td>Bukayo</td>\n      <td>Saka</td>\n      <td>Arsenal</td>\n      <td>3</td>\n      <td>14.6</td>\n      <td>65</td>\n      <td>2554</td>\n      <td>0</td>\n      <td>17.5</td>\n      <td>114</td>\n      <td>Midfielder</td>\n      <td>17.5</td>\n    </tr>\n    <tr>\n      <th>16</th>\n      <td>Nicolas</td>\n      <td>Pépé</td>\n      <td>Arsenal</td>\n      <td>3</td>\n      <td>3.5</td>\n      <td>75</td>\n      <td>1606</td>\n      <td>0</td>\n      <td>15.2</td>\n      <td>114</td>\n      <td>Midfielder</td>\n      <td>15.2</td>\n    </tr>\n    <tr>\n      <th>133</th>\n      <td>Jorge Luiz</td>\n      <td>Frello Filho</td>\n      <td>Chelsea</td>\n      <td>3</td>\n      <td>3.7</td>\n      <td>60</td>\n      <td>2006</td>\n      <td>0</td>\n      <td>19.0</td>\n      <td>114</td>\n      <td>Midfielder</td>\n      <td>19.0</td>\n    </tr>\n    <tr>\n      <th>126</th>\n      <td>Dwight</td>\n      <td>McNeil</td>\n      <td>Burnley</td>\n      <td>3</td>\n      <td>0.3</td>\n      <td>60</td>\n      <td>3068</td>\n      <td>0</td>\n      <td>18.8</td>\n      <td>113</td>\n      <td>Midfielder</td>\n      <td>18.8</td>\n    </tr>\n    <tr>\n      <th>115</th>\n      <td>Ashley</td>\n      <td>Westwood</td>\n      <td>Burnley</td>\n      <td>3</td>\n      <td>0.7</td>\n      <td>55</td>\n      <td>3410</td>\n      <td>0</td>\n      <td>20.4</td>\n      <td>112</td>\n      <td>Midfielder</td>\n      <td>20.4</td>\n    </tr>\n    <tr>\n      <th>44</th>\n      <td>Anwar</td>\n      <td>El Ghazi</td>\n      <td>Aston Villa</td>\n      <td>3</td>\n      <td>0.8</td>\n      <td>60</td>\n      <td>1604</td>\n      <td>0</td>\n      <td>18.5</td>\n      <td>111</td>\n      <td>Midfielder</td>\n      <td>18.5</td>\n    </tr>\n    <tr>\n      <th>397</th>\n      <td>Pierre-Emile</td>\n      <td>Højbjerg</td>\n      <td>Spurs</td>\n      <td>3</td>\n      <td>2.9</td>\n      <td>50</td>\n      <td>3420</td>\n      <td>0</td>\n      <td>21.4</td>\n      <td>107</td>\n      <td>Midfielder</td>\n      <td>21.4</td>\n    </tr>\n    <tr>\n      <th>311</th>\n      <td>Mason</td>\n      <td>Greenwood</td>\n      <td>Man Utd</td>\n      <td>3</td>\n      <td>3.3</td>\n      <td>75</td>\n      <td>1813</td>\n      <td>0</td>\n      <td>14.1</td>\n      <td>106</td>\n      <td>Midfielder</td>\n      <td>14.1</td>\n    </tr>\n    <tr>\n      <th>298</th>\n      <td>Jesse</td>\n      <td>Lingard</td>\n      <td>Man Utd</td>\n      <td>3</td>\n      <td>4.3</td>\n      <td>70</td>\n      <td>1423</td>\n      <td>0</td>\n      <td>15.1</td>\n      <td>106</td>\n      <td>Midfielder</td>\n      <td>15.1</td>\n    </tr>\n    <tr>\n      <th>477</th>\n      <td>Rúben Diogo</td>\n      <td>da Silva Neves</td>\n      <td>Wolves</td>\n      <td>3</td>\n      <td>1.4</td>\n      <td>55</td>\n      <td>2670</td>\n      <td>0</td>\n      <td>18.9</td>\n      <td>104</td>\n      <td>Midfielder</td>\n      <td>18.9</td>\n    </tr>\n    <tr>\n      <th>179</th>\n      <td>James</td>\n      <td>Rodríguez</td>\n      <td>Everton</td>\n      <td>3</td>\n      <td>4.0</td>\n      <td>70</td>\n      <td>1763</td>\n      <td>0</td>\n      <td>14.4</td>\n      <td>101</td>\n      <td>Midfielder</td>\n      <td>14.4</td>\n    </tr>\n    <tr>\n      <th>407</th>\n      <td>Tanguy</td>\n      <td>Ndombele</td>\n      <td>Spurs</td>\n      <td>3</td>\n      <td>0.4</td>\n      <td>60</td>\n      <td>2086</td>\n      <td>0</td>\n      <td>16.5</td>\n      <td>99</td>\n      <td>Midfielder</td>\n      <td>16.5</td>\n    </tr>\n    <tr>\n      <th>226</th>\n      <td>Mateusz</td>\n      <td>Klich</td>\n      <td>Leeds</td>\n      <td>3</td>\n      <td>0.5</td>\n      <td>55</td>\n      <td>2386</td>\n      <td>0</td>\n      <td>18.0</td>\n      <td>99</td>\n      <td>Midfielder</td>\n      <td>18.0</td>\n    </tr>\n    <tr>\n      <th>332</th>\n      <td>Miguel</td>\n      <td>Almirón</td>\n      <td>Newcastle</td>\n      <td>3</td>\n      <td>0.6</td>\n      <td>55</td>\n      <td>2426</td>\n      <td>0</td>\n      <td>17.6</td>\n      <td>97</td>\n      <td>Midfielder</td>\n      <td>17.6</td>\n    </tr>\n    <tr>\n      <th>289</th>\n      <td>Ferran</td>\n      <td>Torres</td>\n      <td>Man City</td>\n      <td>3</td>\n      <td>2.9</td>\n      <td>70</td>\n      <td>1297</td>\n      <td>0</td>\n      <td>13.6</td>\n      <td>95</td>\n      <td>Midfielder</td>\n      <td>13.6</td>\n    </tr>\n    <tr>\n      <th>476</th>\n      <td>Adama</td>\n      <td>Traoré</td>\n      <td>Wolves</td>\n      <td>3</td>\n      <td>0.9</td>\n      <td>60</td>\n      <td>2640</td>\n      <td>0</td>\n      <td>15.7</td>\n      <td>94</td>\n      <td>Midfielder</td>\n      <td>15.7</td>\n    </tr>\n    <tr>\n      <th>283</th>\n      <td>Bernardo Mota</td>\n      <td>Veiga de Carvalho e Silva</td>\n      <td>Man City</td>\n      <td>3</td>\n      <td>2.3</td>\n      <td>70</td>\n      <td>2063</td>\n      <td>0</td>\n      <td>13.4</td>\n      <td>94</td>\n      <td>Midfielder</td>\n      <td>13.4</td>\n    </tr>\n    <tr>\n      <th>196</th>\n      <td>Andros</td>\n      <td>Townsend</td>\n      <td>Everton</td>\n      <td>3</td>\n      <td>0.4</td>\n      <td>55</td>\n      <td>2250</td>\n      <td>0</td>\n      <td>17.1</td>\n      <td>94</td>\n      <td>Midfielder</td>\n      <td>17.1</td>\n    </tr>\n    <tr>\n      <th>294</th>\n      <td>Paul</td>\n      <td>Pogba</td>\n      <td>Man Utd</td>\n      <td>3</td>\n      <td>2.6</td>\n      <td>75</td>\n      <td>1892</td>\n      <td>0</td>\n      <td>12.3</td>\n      <td>92</td>\n      <td>Midfielder</td>\n      <td>12.3</td>\n    </tr>\n  </tbody>\n</table>\n</div>"
     },
     "metadata": {},
     "execution_count": 38
    },
    {
     "output_type": "display_data",
     "data": {
      "text/plain": "<Figure size 432x288 with 1 Axes>",
      "image/svg+xml": "<?xml version=\"1.0\" encoding=\"utf-8\" standalone=\"no\"?>\r\n<!DOCTYPE svg PUBLIC \"-//W3C//DTD SVG 1.1//EN\"\r\n  \"http://www.w3.org/Graphics/SVG/1.1/DTD/svg11.dtd\">\r\n<svg height=\"248.518125pt\" version=\"1.1\" viewBox=\"0 0 368.925 248.518125\" width=\"368.925pt\" xmlns=\"http://www.w3.org/2000/svg\" xmlns:xlink=\"http://www.w3.org/1999/xlink\">\r\n <metadata>\r\n  <rdf:RDF xmlns:cc=\"http://creativecommons.org/ns#\" xmlns:dc=\"http://purl.org/dc/elements/1.1/\" xmlns:rdf=\"http://www.w3.org/1999/02/22-rdf-syntax-ns#\">\r\n   <cc:Work>\r\n    <dc:type rdf:resource=\"http://purl.org/dc/dcmitype/StillImage\"/>\r\n    <dc:date>2021-08-05T18:28:33.703201</dc:date>\r\n    <dc:format>image/svg+xml</dc:format>\r\n    <dc:creator>\r\n     <cc:Agent>\r\n      <dc:title>Matplotlib v3.4.2, https://matplotlib.org/</dc:title>\r\n     </cc:Agent>\r\n    </dc:creator>\r\n   </cc:Work>\r\n  </rdf:RDF>\r\n </metadata>\r\n <defs>\r\n  <style type=\"text/css\">*{stroke-linecap:butt;stroke-linejoin:round;}</style>\r\n </defs>\r\n <g id=\"figure_1\">\r\n  <g id=\"patch_1\">\r\n   <path d=\"M -0 248.518125 \r\nL 368.925 248.518125 \r\nL 368.925 0 \r\nL -0 0 \r\nz\r\n\" style=\"fill:none;\"/>\r\n  </g>\r\n  <g id=\"axes_1\">\r\n   <g id=\"patch_2\">\r\n    <path d=\"M 26.925 224.64 \r\nL 361.725 224.64 \r\nL 361.725 7.2 \r\nL 26.925 7.2 \r\nz\r\n\" style=\"fill:#ffffff;\"/>\r\n   </g>\r\n   <g id=\"patch_3\">\r\n    <path clip-path=\"url(#pad2ecf1a61)\" d=\"M 42.143182 224.64 \r\nL 72.579545 224.64 \r\nL 72.579545 136.785455 \r\nL 42.143182 136.785455 \r\nz\r\n\" style=\"fill:#1f77b4;\"/>\r\n   </g>\r\n   <g id=\"patch_4\">\r\n    <path clip-path=\"url(#pad2ecf1a61)\" d=\"M 72.579545 224.64 \r\nL 103.015909 224.64 \r\nL 103.015909 117.959481 \r\nL 72.579545 117.959481 \r\nz\r\n\" style=\"fill:#1f77b4;\"/>\r\n   </g>\r\n   <g id=\"patch_5\">\r\n    <path clip-path=\"url(#pad2ecf1a61)\" d=\"M 103.015909 224.64 \r\nL 133.452273 224.64 \r\nL 133.452273 86.582857 \r\nL 103.015909 86.582857 \r\nz\r\n\" style=\"fill:#1f77b4;\"/>\r\n   </g>\r\n   <g id=\"patch_6\">\r\n    <path clip-path=\"url(#pad2ecf1a61)\" d=\"M 133.452273 224.64 \r\nL 163.888636 224.64 \r\nL 163.888636 17.554286 \r\nL 133.452273 17.554286 \r\nz\r\n\" style=\"fill:#1f77b4;\"/>\r\n   </g>\r\n   <g id=\"patch_7\">\r\n    <path clip-path=\"url(#pad2ecf1a61)\" d=\"M 163.888636 224.64 \r\nL 194.325 224.64 \r\nL 194.325 61.481558 \r\nL 163.888636 61.481558 \r\nz\r\n\" style=\"fill:#1f77b4;\"/>\r\n   </g>\r\n   <g id=\"patch_8\">\r\n    <path clip-path=\"url(#pad2ecf1a61)\" d=\"M 194.325 224.64 \r\nL 224.761364 224.64 \r\nL 224.761364 92.858182 \r\nL 194.325 92.858182 \r\nz\r\n\" style=\"fill:#1f77b4;\"/>\r\n   </g>\r\n   <g id=\"patch_9\">\r\n    <path clip-path=\"url(#pad2ecf1a61)\" d=\"M 224.761364 224.64 \r\nL 255.197727 224.64 \r\nL 255.197727 99.133506 \r\nL 224.761364 99.133506 \r\nz\r\n\" style=\"fill:#1f77b4;\"/>\r\n   </g>\r\n   <g id=\"patch_10\">\r\n    <path clip-path=\"url(#pad2ecf1a61)\" d=\"M 255.197727 224.64 \r\nL 285.634091 224.64 \r\nL 285.634091 199.538701 \r\nL 255.197727 199.538701 \r\nz\r\n\" style=\"fill:#1f77b4;\"/>\r\n   </g>\r\n   <g id=\"patch_11\">\r\n    <path clip-path=\"url(#pad2ecf1a61)\" d=\"M 285.634091 224.64 \r\nL 316.070455 224.64 \r\nL 316.070455 218.364675 \r\nL 285.634091 218.364675 \r\nz\r\n\" style=\"fill:#1f77b4;\"/>\r\n   </g>\r\n   <g id=\"patch_12\">\r\n    <path clip-path=\"url(#pad2ecf1a61)\" d=\"M 316.070455 224.64 \r\nL 346.506818 224.64 \r\nL 346.506818 218.364675 \r\nL 316.070455 218.364675 \r\nz\r\n\" style=\"fill:#1f77b4;\"/>\r\n   </g>\r\n   <g id=\"matplotlib.axis_1\">\r\n    <g id=\"xtick_1\">\r\n     <g id=\"line2d_1\">\r\n      <path clip-path=\"url(#pad2ecf1a61)\" d=\"M 40.173191 224.64 \r\nL 40.173191 7.2 \r\n\" style=\"fill:none;stroke:#b0b0b0;stroke-linecap:square;stroke-width:0.8;\"/>\r\n     </g>\r\n     <g id=\"line2d_2\">\r\n      <defs>\r\n       <path d=\"M 0 0 \r\nL 0 3.5 \r\n\" id=\"m7c63f2f20b\" style=\"stroke:#000000;stroke-width:0.8;\"/>\r\n      </defs>\r\n      <g>\r\n       <use style=\"stroke:#000000;stroke-width:0.8;\" x=\"40.173191\" xlink:href=\"#m7c63f2f20b\" y=\"224.64\"/>\r\n      </g>\r\n     </g>\r\n     <g id=\"text_1\">\r\n      <!-- 0 -->\r\n      <g transform=\"translate(36.991941 239.238437)scale(0.1 -0.1)\">\r\n       <defs>\r\n        <path d=\"M 2034 4250 \r\nQ 1547 4250 1301 3770 \r\nQ 1056 3291 1056 2328 \r\nQ 1056 1369 1301 889 \r\nQ 1547 409 2034 409 \r\nQ 2525 409 2770 889 \r\nQ 3016 1369 3016 2328 \r\nQ 3016 3291 2770 3770 \r\nQ 2525 4250 2034 4250 \r\nz\r\nM 2034 4750 \r\nQ 2819 4750 3233 4129 \r\nQ 3647 3509 3647 2328 \r\nQ 3647 1150 3233 529 \r\nQ 2819 -91 2034 -91 \r\nQ 1250 -91 836 529 \r\nQ 422 1150 422 2328 \r\nQ 422 3509 836 4129 \r\nQ 1250 4750 2034 4750 \r\nz\r\n\" id=\"DejaVuSans-30\" transform=\"scale(0.015625)\"/>\r\n       </defs>\r\n       <use xlink:href=\"#DejaVuSans-30\"/>\r\n      </g>\r\n     </g>\r\n    </g>\r\n    <g id=\"xtick_2\">\r\n     <g id=\"line2d_3\">\r\n      <path clip-path=\"url(#pad2ecf1a61)\" d=\"M 89.42297 224.64 \r\nL 89.42297 7.2 \r\n\" style=\"fill:none;stroke:#b0b0b0;stroke-linecap:square;stroke-width:0.8;\"/>\r\n     </g>\r\n     <g id=\"line2d_4\">\r\n      <g>\r\n       <use style=\"stroke:#000000;stroke-width:0.8;\" x=\"89.42297\" xlink:href=\"#m7c63f2f20b\" y=\"224.64\"/>\r\n      </g>\r\n     </g>\r\n     <g id=\"text_2\">\r\n      <!-- 5 -->\r\n      <g transform=\"translate(86.24172 239.238437)scale(0.1 -0.1)\">\r\n       <defs>\r\n        <path d=\"M 691 4666 \r\nL 3169 4666 \r\nL 3169 4134 \r\nL 1269 4134 \r\nL 1269 2991 \r\nQ 1406 3038 1543 3061 \r\nQ 1681 3084 1819 3084 \r\nQ 2600 3084 3056 2656 \r\nQ 3513 2228 3513 1497 \r\nQ 3513 744 3044 326 \r\nQ 2575 -91 1722 -91 \r\nQ 1428 -91 1123 -41 \r\nQ 819 9 494 109 \r\nL 494 744 \r\nQ 775 591 1075 516 \r\nQ 1375 441 1709 441 \r\nQ 2250 441 2565 725 \r\nQ 2881 1009 2881 1497 \r\nQ 2881 1984 2565 2268 \r\nQ 2250 2553 1709 2553 \r\nQ 1456 2553 1204 2497 \r\nQ 953 2441 691 2322 \r\nL 691 4666 \r\nz\r\n\" id=\"DejaVuSans-35\" transform=\"scale(0.015625)\"/>\r\n       </defs>\r\n       <use xlink:href=\"#DejaVuSans-35\"/>\r\n      </g>\r\n     </g>\r\n    </g>\r\n    <g id=\"xtick_3\">\r\n     <g id=\"line2d_5\">\r\n      <path clip-path=\"url(#pad2ecf1a61)\" d=\"M 138.672749 224.64 \r\nL 138.672749 7.2 \r\n\" style=\"fill:none;stroke:#b0b0b0;stroke-linecap:square;stroke-width:0.8;\"/>\r\n     </g>\r\n     <g id=\"line2d_6\">\r\n      <g>\r\n       <use style=\"stroke:#000000;stroke-width:0.8;\" x=\"138.672749\" xlink:href=\"#m7c63f2f20b\" y=\"224.64\"/>\r\n      </g>\r\n     </g>\r\n     <g id=\"text_3\">\r\n      <!-- 10 -->\r\n      <g transform=\"translate(132.310249 239.238437)scale(0.1 -0.1)\">\r\n       <defs>\r\n        <path d=\"M 794 531 \r\nL 1825 531 \r\nL 1825 4091 \r\nL 703 3866 \r\nL 703 4441 \r\nL 1819 4666 \r\nL 2450 4666 \r\nL 2450 531 \r\nL 3481 531 \r\nL 3481 0 \r\nL 794 0 \r\nL 794 531 \r\nz\r\n\" id=\"DejaVuSans-31\" transform=\"scale(0.015625)\"/>\r\n       </defs>\r\n       <use xlink:href=\"#DejaVuSans-31\"/>\r\n       <use x=\"63.623047\" xlink:href=\"#DejaVuSans-30\"/>\r\n      </g>\r\n     </g>\r\n    </g>\r\n    <g id=\"xtick_4\">\r\n     <g id=\"line2d_7\">\r\n      <path clip-path=\"url(#pad2ecf1a61)\" d=\"M 187.922529 224.64 \r\nL 187.922529 7.2 \r\n\" style=\"fill:none;stroke:#b0b0b0;stroke-linecap:square;stroke-width:0.8;\"/>\r\n     </g>\r\n     <g id=\"line2d_8\">\r\n      <g>\r\n       <use style=\"stroke:#000000;stroke-width:0.8;\" x=\"187.922529\" xlink:href=\"#m7c63f2f20b\" y=\"224.64\"/>\r\n      </g>\r\n     </g>\r\n     <g id=\"text_4\">\r\n      <!-- 15 -->\r\n      <g transform=\"translate(181.560029 239.238437)scale(0.1 -0.1)\">\r\n       <use xlink:href=\"#DejaVuSans-31\"/>\r\n       <use x=\"63.623047\" xlink:href=\"#DejaVuSans-35\"/>\r\n      </g>\r\n     </g>\r\n    </g>\r\n    <g id=\"xtick_5\">\r\n     <g id=\"line2d_9\">\r\n      <path clip-path=\"url(#pad2ecf1a61)\" d=\"M 237.172308 224.64 \r\nL 237.172308 7.2 \r\n\" style=\"fill:none;stroke:#b0b0b0;stroke-linecap:square;stroke-width:0.8;\"/>\r\n     </g>\r\n     <g id=\"line2d_10\">\r\n      <g>\r\n       <use style=\"stroke:#000000;stroke-width:0.8;\" x=\"237.172308\" xlink:href=\"#m7c63f2f20b\" y=\"224.64\"/>\r\n      </g>\r\n     </g>\r\n     <g id=\"text_5\">\r\n      <!-- 20 -->\r\n      <g transform=\"translate(230.809808 239.238437)scale(0.1 -0.1)\">\r\n       <defs>\r\n        <path d=\"M 1228 531 \r\nL 3431 531 \r\nL 3431 0 \r\nL 469 0 \r\nL 469 531 \r\nQ 828 903 1448 1529 \r\nQ 2069 2156 2228 2338 \r\nQ 2531 2678 2651 2914 \r\nQ 2772 3150 2772 3378 \r\nQ 2772 3750 2511 3984 \r\nQ 2250 4219 1831 4219 \r\nQ 1534 4219 1204 4116 \r\nQ 875 4013 500 3803 \r\nL 500 4441 \r\nQ 881 4594 1212 4672 \r\nQ 1544 4750 1819 4750 \r\nQ 2544 4750 2975 4387 \r\nQ 3406 4025 3406 3419 \r\nQ 3406 3131 3298 2873 \r\nQ 3191 2616 2906 2266 \r\nQ 2828 2175 2409 1742 \r\nQ 1991 1309 1228 531 \r\nz\r\n\" id=\"DejaVuSans-32\" transform=\"scale(0.015625)\"/>\r\n       </defs>\r\n       <use xlink:href=\"#DejaVuSans-32\"/>\r\n       <use x=\"63.623047\" xlink:href=\"#DejaVuSans-30\"/>\r\n      </g>\r\n     </g>\r\n    </g>\r\n    <g id=\"xtick_6\">\r\n     <g id=\"line2d_11\">\r\n      <path clip-path=\"url(#pad2ecf1a61)\" d=\"M 286.422087 224.64 \r\nL 286.422087 7.2 \r\n\" style=\"fill:none;stroke:#b0b0b0;stroke-linecap:square;stroke-width:0.8;\"/>\r\n     </g>\r\n     <g id=\"line2d_12\">\r\n      <g>\r\n       <use style=\"stroke:#000000;stroke-width:0.8;\" x=\"286.422087\" xlink:href=\"#m7c63f2f20b\" y=\"224.64\"/>\r\n      </g>\r\n     </g>\r\n     <g id=\"text_6\">\r\n      <!-- 25 -->\r\n      <g transform=\"translate(280.059587 239.238437)scale(0.1 -0.1)\">\r\n       <use xlink:href=\"#DejaVuSans-32\"/>\r\n       <use x=\"63.623047\" xlink:href=\"#DejaVuSans-35\"/>\r\n      </g>\r\n     </g>\r\n    </g>\r\n    <g id=\"xtick_7\">\r\n     <g id=\"line2d_13\">\r\n      <path clip-path=\"url(#pad2ecf1a61)\" d=\"M 335.671867 224.64 \r\nL 335.671867 7.2 \r\n\" style=\"fill:none;stroke:#b0b0b0;stroke-linecap:square;stroke-width:0.8;\"/>\r\n     </g>\r\n     <g id=\"line2d_14\">\r\n      <g>\r\n       <use style=\"stroke:#000000;stroke-width:0.8;\" x=\"335.671867\" xlink:href=\"#m7c63f2f20b\" y=\"224.64\"/>\r\n      </g>\r\n     </g>\r\n     <g id=\"text_7\">\r\n      <!-- 30 -->\r\n      <g transform=\"translate(329.309367 239.238437)scale(0.1 -0.1)\">\r\n       <defs>\r\n        <path d=\"M 2597 2516 \r\nQ 3050 2419 3304 2112 \r\nQ 3559 1806 3559 1356 \r\nQ 3559 666 3084 287 \r\nQ 2609 -91 1734 -91 \r\nQ 1441 -91 1130 -33 \r\nQ 819 25 488 141 \r\nL 488 750 \r\nQ 750 597 1062 519 \r\nQ 1375 441 1716 441 \r\nQ 2309 441 2620 675 \r\nQ 2931 909 2931 1356 \r\nQ 2931 1769 2642 2001 \r\nQ 2353 2234 1838 2234 \r\nL 1294 2234 \r\nL 1294 2753 \r\nL 1863 2753 \r\nQ 2328 2753 2575 2939 \r\nQ 2822 3125 2822 3475 \r\nQ 2822 3834 2567 4026 \r\nQ 2313 4219 1838 4219 \r\nQ 1578 4219 1281 4162 \r\nQ 984 4106 628 3988 \r\nL 628 4550 \r\nQ 988 4650 1302 4700 \r\nQ 1616 4750 1894 4750 \r\nQ 2613 4750 3031 4423 \r\nQ 3450 4097 3450 3541 \r\nQ 3450 3153 3228 2886 \r\nQ 3006 2619 2597 2516 \r\nz\r\n\" id=\"DejaVuSans-33\" transform=\"scale(0.015625)\"/>\r\n       </defs>\r\n       <use xlink:href=\"#DejaVuSans-33\"/>\r\n       <use x=\"63.623047\" xlink:href=\"#DejaVuSans-30\"/>\r\n      </g>\r\n     </g>\r\n    </g>\r\n   </g>\r\n   <g id=\"matplotlib.axis_2\">\r\n    <g id=\"ytick_1\">\r\n     <g id=\"line2d_15\">\r\n      <path clip-path=\"url(#pad2ecf1a61)\" d=\"M 26.925 224.64 \r\nL 361.725 224.64 \r\n\" style=\"fill:none;stroke:#b0b0b0;stroke-linecap:square;stroke-width:0.8;\"/>\r\n     </g>\r\n     <g id=\"line2d_16\">\r\n      <defs>\r\n       <path d=\"M 0 0 \r\nL -3.5 0 \r\n\" id=\"m5e18c4f6cb\" style=\"stroke:#000000;stroke-width:0.8;\"/>\r\n      </defs>\r\n      <g>\r\n       <use style=\"stroke:#000000;stroke-width:0.8;\" x=\"26.925\" xlink:href=\"#m5e18c4f6cb\" y=\"224.64\"/>\r\n      </g>\r\n     </g>\r\n     <g id=\"text_8\">\r\n      <!-- 0 -->\r\n      <g transform=\"translate(13.5625 228.439219)scale(0.1 -0.1)\">\r\n       <use xlink:href=\"#DejaVuSans-30\"/>\r\n      </g>\r\n     </g>\r\n    </g>\r\n    <g id=\"ytick_2\">\r\n     <g id=\"line2d_17\">\r\n      <path clip-path=\"url(#pad2ecf1a61)\" d=\"M 26.925 193.263377 \r\nL 361.725 193.263377 \r\n\" style=\"fill:none;stroke:#b0b0b0;stroke-linecap:square;stroke-width:0.8;\"/>\r\n     </g>\r\n     <g id=\"line2d_18\">\r\n      <g>\r\n       <use style=\"stroke:#000000;stroke-width:0.8;\" x=\"26.925\" xlink:href=\"#m5e18c4f6cb\" y=\"193.263377\"/>\r\n      </g>\r\n     </g>\r\n     <g id=\"text_9\">\r\n      <!-- 5 -->\r\n      <g transform=\"translate(13.5625 197.062595)scale(0.1 -0.1)\">\r\n       <use xlink:href=\"#DejaVuSans-35\"/>\r\n      </g>\r\n     </g>\r\n    </g>\r\n    <g id=\"ytick_3\">\r\n     <g id=\"line2d_19\">\r\n      <path clip-path=\"url(#pad2ecf1a61)\" d=\"M 26.925 161.886753 \r\nL 361.725 161.886753 \r\n\" style=\"fill:none;stroke:#b0b0b0;stroke-linecap:square;stroke-width:0.8;\"/>\r\n     </g>\r\n     <g id=\"line2d_20\">\r\n      <g>\r\n       <use style=\"stroke:#000000;stroke-width:0.8;\" x=\"26.925\" xlink:href=\"#m5e18c4f6cb\" y=\"161.886753\"/>\r\n      </g>\r\n     </g>\r\n     <g id=\"text_10\">\r\n      <!-- 10 -->\r\n      <g transform=\"translate(7.2 165.685972)scale(0.1 -0.1)\">\r\n       <use xlink:href=\"#DejaVuSans-31\"/>\r\n       <use x=\"63.623047\" xlink:href=\"#DejaVuSans-30\"/>\r\n      </g>\r\n     </g>\r\n    </g>\r\n    <g id=\"ytick_4\">\r\n     <g id=\"line2d_21\">\r\n      <path clip-path=\"url(#pad2ecf1a61)\" d=\"M 26.925 130.51013 \r\nL 361.725 130.51013 \r\n\" style=\"fill:none;stroke:#b0b0b0;stroke-linecap:square;stroke-width:0.8;\"/>\r\n     </g>\r\n     <g id=\"line2d_22\">\r\n      <g>\r\n       <use style=\"stroke:#000000;stroke-width:0.8;\" x=\"26.925\" xlink:href=\"#m5e18c4f6cb\" y=\"130.51013\"/>\r\n      </g>\r\n     </g>\r\n     <g id=\"text_11\">\r\n      <!-- 15 -->\r\n      <g transform=\"translate(7.2 134.309349)scale(0.1 -0.1)\">\r\n       <use xlink:href=\"#DejaVuSans-31\"/>\r\n       <use x=\"63.623047\" xlink:href=\"#DejaVuSans-35\"/>\r\n      </g>\r\n     </g>\r\n    </g>\r\n    <g id=\"ytick_5\">\r\n     <g id=\"line2d_23\">\r\n      <path clip-path=\"url(#pad2ecf1a61)\" d=\"M 26.925 99.133506 \r\nL 361.725 99.133506 \r\n\" style=\"fill:none;stroke:#b0b0b0;stroke-linecap:square;stroke-width:0.8;\"/>\r\n     </g>\r\n     <g id=\"line2d_24\">\r\n      <g>\r\n       <use style=\"stroke:#000000;stroke-width:0.8;\" x=\"26.925\" xlink:href=\"#m5e18c4f6cb\" y=\"99.133506\"/>\r\n      </g>\r\n     </g>\r\n     <g id=\"text_12\">\r\n      <!-- 20 -->\r\n      <g transform=\"translate(7.2 102.932725)scale(0.1 -0.1)\">\r\n       <use xlink:href=\"#DejaVuSans-32\"/>\r\n       <use x=\"63.623047\" xlink:href=\"#DejaVuSans-30\"/>\r\n      </g>\r\n     </g>\r\n    </g>\r\n    <g id=\"ytick_6\">\r\n     <g id=\"line2d_25\">\r\n      <path clip-path=\"url(#pad2ecf1a61)\" d=\"M 26.925 67.756883 \r\nL 361.725 67.756883 \r\n\" style=\"fill:none;stroke:#b0b0b0;stroke-linecap:square;stroke-width:0.8;\"/>\r\n     </g>\r\n     <g id=\"line2d_26\">\r\n      <g>\r\n       <use style=\"stroke:#000000;stroke-width:0.8;\" x=\"26.925\" xlink:href=\"#m5e18c4f6cb\" y=\"67.756883\"/>\r\n      </g>\r\n     </g>\r\n     <g id=\"text_13\">\r\n      <!-- 25 -->\r\n      <g transform=\"translate(7.2 71.556102)scale(0.1 -0.1)\">\r\n       <use xlink:href=\"#DejaVuSans-32\"/>\r\n       <use x=\"63.623047\" xlink:href=\"#DejaVuSans-35\"/>\r\n      </g>\r\n     </g>\r\n    </g>\r\n    <g id=\"ytick_7\">\r\n     <g id=\"line2d_27\">\r\n      <path clip-path=\"url(#pad2ecf1a61)\" d=\"M 26.925 36.38026 \r\nL 361.725 36.38026 \r\n\" style=\"fill:none;stroke:#b0b0b0;stroke-linecap:square;stroke-width:0.8;\"/>\r\n     </g>\r\n     <g id=\"line2d_28\">\r\n      <g>\r\n       <use style=\"stroke:#000000;stroke-width:0.8;\" x=\"26.925\" xlink:href=\"#m5e18c4f6cb\" y=\"36.38026\"/>\r\n      </g>\r\n     </g>\r\n     <g id=\"text_14\">\r\n      <!-- 30 -->\r\n      <g transform=\"translate(7.2 40.179478)scale(0.1 -0.1)\">\r\n       <use xlink:href=\"#DejaVuSans-33\"/>\r\n       <use x=\"63.623047\" xlink:href=\"#DejaVuSans-30\"/>\r\n      </g>\r\n     </g>\r\n    </g>\r\n   </g>\r\n   <g id=\"patch_13\">\r\n    <path d=\"M 26.925 224.64 \r\nL 26.925 7.2 \r\n\" style=\"fill:none;stroke:#000000;stroke-linecap:square;stroke-linejoin:miter;stroke-width:0.8;\"/>\r\n   </g>\r\n   <g id=\"patch_14\">\r\n    <path d=\"M 361.725 224.64 \r\nL 361.725 7.2 \r\n\" style=\"fill:none;stroke:#000000;stroke-linecap:square;stroke-linejoin:miter;stroke-width:0.8;\"/>\r\n   </g>\r\n   <g id=\"patch_15\">\r\n    <path d=\"M 26.925 224.64 \r\nL 361.725 224.64 \r\n\" style=\"fill:none;stroke:#000000;stroke-linecap:square;stroke-linejoin:miter;stroke-width:0.8;\"/>\r\n   </g>\r\n   <g id=\"patch_16\">\r\n    <path d=\"M 26.925 7.2 \r\nL 361.725 7.2 \r\n\" style=\"fill:none;stroke:#000000;stroke-linecap:square;stroke-linejoin:miter;stroke-width:0.8;\"/>\r\n   </g>\r\n  </g>\r\n </g>\r\n <defs>\r\n  <clipPath id=\"pad2ecf1a61\">\r\n   <rect height=\"217.44\" width=\"334.8\" x=\"26.925\" y=\"7.2\"/>\r\n  </clipPath>\r\n </defs>\r\n</svg>\r\n",
      "image/png": "[encoded data removed]"
     },
     "metadata": {
      "needs_background": "light"
     }
    }
   ],
   "source": [
    "mid_df.value.hist()\n",
    "mid_df.sort_values('total_points',ascending=False).head(50)\n"
   ]
  },
  {
   "cell_type": "code",
   "execution_count": 35,
   "metadata": {},
   "outputs": [
    {
     "output_type": "execute_result",
     "data": {
      "text/plain": [
       "       first_name       second_name         team  element_type  \\\n",
       "299  Bruno Miguel  Borges Fernandes      Man Utd             3   \n",
       "391     Heung-Min               Son        Spurs             3   \n",
       "228        Stuart            Dallas        Leeds             3   \n",
       "240          Jack          Harrison        Leeds             3   \n",
       "272         Ilkay          Gündogan     Man City             3   \n",
       "371         James       Ward-Prowse  Southampton             3   \n",
       "\n",
       "    selected_by_percent  now_cost  minutes  transfers_in value_season  \\\n",
       "299                40.9       120     3101             0         20.3   \n",
       "391                17.1       100     3119             0         22.8   \n",
       "228                17.1        55     3410             0         31.1   \n",
       "240                 5.5        60     2846             0         26.7   \n",
       "272                 5.9        75     2025             0         20.9   \n",
       "371                 8.1        65     3420             0         24.0   \n",
       "\n",
       "     total_points    position  value  \n",
       "299           244  Midfielder   20.3  \n",
       "391           228  Midfielder   22.8  \n",
       "228           171  Midfielder   31.1  \n",
       "240           160  Midfielder   26.7  \n",
       "272           157  Midfielder   20.9  \n",
       "371           156  Midfielder   24.0  "
      ],
      "text/html": "<div>\n<style scoped>\n    .dataframe tbody tr th:only-of-type {\n        vertical-align: middle;\n    }\n\n    .dataframe tbody tr th {\n        vertical-align: top;\n    }\n\n    .dataframe thead th {\n        text-align: right;\n    }\n</style>\n<table border=\"1\" class=\"dataframe\">\n  <thead>\n    <tr style=\"text-align: right;\">\n      <th></th>\n      <th>first_name</th>\n      <th>second_name</th>\n      <th>team</th>\n      <th>element_type</th>\n      <th>selected_by_percent</th>\n      <th>now_cost</th>\n      <th>minutes</th>\n      <th>transfers_in</th>\n      <th>value_season</th>\n      <th>total_points</th>\n      <th>position</th>\n      <th>value</th>\n    </tr>\n  </thead>\n  <tbody>\n    <tr>\n      <th>299</th>\n      <td>Bruno Miguel</td>\n      <td>Borges Fernandes</td>\n      <td>Man Utd</td>\n      <td>3</td>\n      <td>40.9</td>\n      <td>120</td>\n      <td>3101</td>\n      <td>0</td>\n      <td>20.3</td>\n      <td>244</td>\n      <td>Midfielder</td>\n      <td>20.3</td>\n    </tr>\n    <tr>\n      <th>391</th>\n      <td>Heung-Min</td>\n      <td>Son</td>\n      <td>Spurs</td>\n      <td>3</td>\n      <td>17.1</td>\n      <td>100</td>\n      <td>3119</td>\n      <td>0</td>\n      <td>22.8</td>\n      <td>228</td>\n      <td>Midfielder</td>\n      <td>22.8</td>\n    </tr>\n    <tr>\n      <th>228</th>\n      <td>Stuart</td>\n      <td>Dallas</td>\n      <td>Leeds</td>\n      <td>3</td>\n      <td>17.1</td>\n      <td>55</td>\n      <td>3410</td>\n      <td>0</td>\n      <td>31.1</td>\n      <td>171</td>\n      <td>Midfielder</td>\n      <td>31.1</td>\n    </tr>\n    <tr>\n      <th>240</th>\n      <td>Jack</td>\n      <td>Harrison</td>\n      <td>Leeds</td>\n      <td>3</td>\n      <td>5.5</td>\n      <td>60</td>\n      <td>2846</td>\n      <td>0</td>\n      <td>26.7</td>\n      <td>160</td>\n      <td>Midfielder</td>\n      <td>26.7</td>\n    </tr>\n    <tr>\n      <th>272</th>\n      <td>Ilkay</td>\n      <td>Gündogan</td>\n      <td>Man City</td>\n      <td>3</td>\n      <td>5.9</td>\n      <td>75</td>\n      <td>2025</td>\n      <td>0</td>\n      <td>20.9</td>\n      <td>157</td>\n      <td>Midfielder</td>\n      <td>20.9</td>\n    </tr>\n    <tr>\n      <th>371</th>\n      <td>James</td>\n      <td>Ward-Prowse</td>\n      <td>Southampton</td>\n      <td>3</td>\n      <td>8.1</td>\n      <td>65</td>\n      <td>3420</td>\n      <td>0</td>\n      <td>24.0</td>\n      <td>156</td>\n      <td>Midfielder</td>\n      <td>24.0</td>\n    </tr>\n  </tbody>\n</table>\n</div>"
     },
     "metadata": {},
     "execution_count": 35
    }
   ],
   "source": [
    "mid_df2 = mid_df.loc[(mid_df.total_points > 150) & (mid_df.value > 20.0)]\n",
    "mid_df.2sort_values('vtotal_points,ascending=False).head(20)"
   ]
  },
  {
   "cell_type": "code",
   "execution_count": 51,
   "metadata": {},
   "outputs": [
    {
     "output_type": "execute_result",
     "data": {
      "text/plain": [
       "           first_name    second_name            team  element_type  \\\n",
       "229           Patrick        Bamford           Leeds             4   \n",
       "42              Ollie        Watkins     Aston Villa             4   \n",
       "190           Dominic  Calvert-Lewin         Everton             4   \n",
       "117             Chris           Wood         Burnley             4   \n",
       "375               Che          Adams     Southampton             4   \n",
       "389             Harry           Kane           Spurs             4   \n",
       "320            Callum         Wilson       Newcastle             4   \n",
       "203             Jamie          Vardy       Leicester             4   \n",
       "55              Danny           Ings     Aston Villa             4   \n",
       "193       Richarlison     de Andrade         Everton             4   \n",
       "158         Christian        Benteke  Crystal Palace             4   \n",
       "91               Neal         Maupay        Brighton             4   \n",
       "250           Roberto        Firmino       Liverpool             4   \n",
       "453           Michail        Antonio        West Ham             4   \n",
       "5           Alexandre      Lacazette         Arsenal             4   \n",
       "103             Danny        Welbeck        Brighton             4   \n",
       "211           Kelechi      Iheanacho       Leicester             4   \n",
       "144              Timo         Werner         Chelsea             4   \n",
       "227           Rodrigo         Moreno           Leeds             4   \n",
       "285  Gabriel Fernando       de Jesus        Man City             4   \n",
       "3      Pierre-Emerick     Aubameyang         Arsenal             4   \n",
       "291           Edinson         Cavani         Man Utd             4   \n",
       "\n",
       "    selected_by_percent  now_cost  minutes  transfers_in value_season  \\\n",
       "229                18.1        80     3052             0         24.2   \n",
       "42                 31.6        75     3328             0         22.4   \n",
       "190                27.3        80     2871             0         20.6   \n",
       "117                 2.8        70     2741             0         19.7   \n",
       "375                 1.7        70     2662             0         19.6   \n",
       "389                26.1       125     3083             0         19.4   \n",
       "320                 5.2        75     2081             0         17.9   \n",
       "203                 9.6       105     2838             0         17.8   \n",
       "55                  8.4        80     2172             0         16.4   \n",
       "193                 6.6        75     2862             0         16.4   \n",
       "158                 1.3        65     1808             0         16.3   \n",
       "91                  2.2        65     2508             0         16.2   \n",
       "250                 5.1        90     2837             0         15.7   \n",
       "453                14.2        75     1972             0         15.7   \n",
       "5                   4.8        85     1916             0         15.2   \n",
       "103                 1.3        60     1541             0         14.8   \n",
       "211                12.6        75     1452             0         14.7   \n",
       "144                 6.4        90     2598             0         14.2   \n",
       "227                 1.8        65     1279             0         13.7   \n",
       "285                 3.4        85     2056             0         13.5   \n",
       "3                   3.7       100     2330             0         13.1   \n",
       "291                15.3        85     1364             0         11.6   \n",
       "\n",
       "     total_points position  value  \n",
       "229           194  Forward   24.2  \n",
       "42            168  Forward   22.4  \n",
       "190           165  Forward   20.6  \n",
       "117           138  Forward   19.7  \n",
       "375           137  Forward   19.6  \n",
       "389           242  Forward   19.4  \n",
       "320           134  Forward   17.9  \n",
       "203           187  Forward   17.8  \n",
       "55            131  Forward   16.4  \n",
       "193           123  Forward   16.4  \n",
       "158           106  Forward   16.3  \n",
       "91            105  Forward   16.2  \n",
       "250           141  Forward   15.7  \n",
       "453           118  Forward   15.7  \n",
       "5             129  Forward   15.2  \n",
       "103            89  Forward   14.8  \n",
       "211           110  Forward   14.7  \n",
       "144           128  Forward   14.2  \n",
       "227            89  Forward   13.7  \n",
       "285           115  Forward   13.5  \n",
       "3             131  Forward   13.1  \n",
       "291            99  Forward   11.6  "
      ],
      "text/html": "<div>\n<style scoped>\n    .dataframe tbody tr th:only-of-type {\n        vertical-align: middle;\n    }\n\n    .dataframe tbody tr th {\n        vertical-align: top;\n    }\n\n    .dataframe thead th {\n        text-align: right;\n    }\n</style>\n<table border=\"1\" class=\"dataframe\">\n  <thead>\n    <tr style=\"text-align: right;\">\n      <th></th>\n      <th>first_name</th>\n      <th>second_name</th>\n      <th>team</th>\n      <th>element_type</th>\n      <th>selected_by_percent</th>\n      <th>now_cost</th>\n      <th>minutes</th>\n      <th>transfers_in</th>\n      <th>value_season</th>\n      <th>total_points</th>\n      <th>position</th>\n      <th>value</th>\n    </tr>\n  </thead>\n  <tbody>\n    <tr>\n      <th>229</th>\n      <td>Patrick</td>\n      <td>Bamford</td>\n      <td>Leeds</td>\n      <td>4</td>\n      <td>18.1</td>\n      <td>80</td>\n      <td>3052</td>\n      <td>0</td>\n      <td>24.2</td>\n      <td>194</td>\n      <td>Forward</td>\n      <td>24.2</td>\n    </tr>\n    <tr>\n      <th>42</th>\n      <td>Ollie</td>\n      <td>Watkins</td>\n      <td>Aston Villa</td>\n      <td>4</td>\n      <td>31.6</td>\n      <td>75</td>\n      <td>3328</td>\n      <td>0</td>\n      <td>22.4</td>\n      <td>168</td>\n      <td>Forward</td>\n      <td>22.4</td>\n    </tr>\n    <tr>\n      <th>190</th>\n      <td>Dominic</td>\n      <td>Calvert-Lewin</td>\n      <td>Everton</td>\n      <td>4</td>\n      <td>27.3</td>\n      <td>80</td>\n      <td>2871</td>\n      <td>0</td>\n      <td>20.6</td>\n      <td>165</td>\n      <td>Forward</td>\n      <td>20.6</td>\n    </tr>\n    <tr>\n      <th>117</th>\n      <td>Chris</td>\n      <td>Wood</td>\n      <td>Burnley</td>\n      <td>4</td>\n      <td>2.8</td>\n      <td>70</td>\n      <td>2741</td>\n      <td>0</td>\n      <td>19.7</td>\n      <td>138</td>\n      <td>Forward</td>\n      <td>19.7</td>\n    </tr>\n    <tr>\n      <th>375</th>\n      <td>Che</td>\n      <td>Adams</td>\n      <td>Southampton</td>\n      <td>4</td>\n      <td>1.7</td>\n      <td>70</td>\n      <td>2662</td>\n      <td>0</td>\n      <td>19.6</td>\n      <td>137</td>\n      <td>Forward</td>\n      <td>19.6</td>\n    </tr>\n    <tr>\n      <th>389</th>\n      <td>Harry</td>\n      <td>Kane</td>\n      <td>Spurs</td>\n      <td>4</td>\n      <td>26.1</td>\n      <td>125</td>\n      <td>3083</td>\n      <td>0</td>\n      <td>19.4</td>\n      <td>242</td>\n      <td>Forward</td>\n      <td>19.4</td>\n    </tr>\n    <tr>\n      <th>320</th>\n      <td>Callum</td>\n      <td>Wilson</td>\n      <td>Newcastle</td>\n      <td>4</td>\n      <td>5.2</td>\n      <td>75</td>\n      <td>2081</td>\n      <td>0</td>\n      <td>17.9</td>\n      <td>134</td>\n      <td>Forward</td>\n      <td>17.9</td>\n    </tr>\n    <tr>\n      <th>203</th>\n      <td>Jamie</td>\n      <td>Vardy</td>\n      <td>Leicester</td>\n      <td>4</td>\n      <td>9.6</td>\n      <td>105</td>\n      <td>2838</td>\n      <td>0</td>\n      <td>17.8</td>\n      <td>187</td>\n      <td>Forward</td>\n      <td>17.8</td>\n    </tr>\n    <tr>\n      <th>55</th>\n      <td>Danny</td>\n      <td>Ings</td>\n      <td>Aston Villa</td>\n      <td>4</td>\n      <td>8.4</td>\n      <td>80</td>\n      <td>2172</td>\n      <td>0</td>\n      <td>16.4</td>\n      <td>131</td>\n      <td>Forward</td>\n      <td>16.4</td>\n    </tr>\n    <tr>\n      <th>193</th>\n      <td>Richarlison</td>\n      <td>de Andrade</td>\n      <td>Everton</td>\n      <td>4</td>\n      <td>6.6</td>\n      <td>75</td>\n      <td>2862</td>\n      <td>0</td>\n      <td>16.4</td>\n      <td>123</td>\n      <td>Forward</td>\n      <td>16.4</td>\n    </tr>\n    <tr>\n      <th>158</th>\n      <td>Christian</td>\n      <td>Benteke</td>\n      <td>Crystal Palace</td>\n      <td>4</td>\n      <td>1.3</td>\n      <td>65</td>\n      <td>1808</td>\n      <td>0</td>\n      <td>16.3</td>\n      <td>106</td>\n      <td>Forward</td>\n      <td>16.3</td>\n    </tr>\n    <tr>\n      <th>91</th>\n      <td>Neal</td>\n      <td>Maupay</td>\n      <td>Brighton</td>\n      <td>4</td>\n      <td>2.2</td>\n      <td>65</td>\n      <td>2508</td>\n      <td>0</td>\n      <td>16.2</td>\n      <td>105</td>\n      <td>Forward</td>\n      <td>16.2</td>\n    </tr>\n    <tr>\n      <th>250</th>\n      <td>Roberto</td>\n      <td>Firmino</td>\n      <td>Liverpool</td>\n      <td>4</td>\n      <td>5.1</td>\n      <td>90</td>\n      <td>2837</td>\n      <td>0</td>\n      <td>15.7</td>\n      <td>141</td>\n      <td>Forward</td>\n      <td>15.7</td>\n    </tr>\n    <tr>\n      <th>453</th>\n      <td>Michail</td>\n      <td>Antonio</td>\n      <td>West Ham</td>\n      <td>4</td>\n      <td>14.2</td>\n      <td>75</td>\n      <td>1972</td>\n      <td>0</td>\n      <td>15.7</td>\n      <td>118</td>\n      <td>Forward</td>\n      <td>15.7</td>\n    </tr>\n    <tr>\n      <th>5</th>\n      <td>Alexandre</td>\n      <td>Lacazette</td>\n      <td>Arsenal</td>\n      <td>4</td>\n      <td>4.8</td>\n      <td>85</td>\n      <td>1916</td>\n      <td>0</td>\n      <td>15.2</td>\n      <td>129</td>\n      <td>Forward</td>\n      <td>15.2</td>\n    </tr>\n    <tr>\n      <th>103</th>\n      <td>Danny</td>\n      <td>Welbeck</td>\n      <td>Brighton</td>\n      <td>4</td>\n      <td>1.3</td>\n      <td>60</td>\n      <td>1541</td>\n      <td>0</td>\n      <td>14.8</td>\n      <td>89</td>\n      <td>Forward</td>\n      <td>14.8</td>\n    </tr>\n    <tr>\n      <th>211</th>\n      <td>Kelechi</td>\n      <td>Iheanacho</td>\n      <td>Leicester</td>\n      <td>4</td>\n      <td>12.6</td>\n      <td>75</td>\n      <td>1452</td>\n      <td>0</td>\n      <td>14.7</td>\n      <td>110</td>\n      <td>Forward</td>\n      <td>14.7</td>\n    </tr>\n    <tr>\n      <th>144</th>\n      <td>Timo</td>\n      <td>Werner</td>\n      <td>Chelsea</td>\n      <td>4</td>\n      <td>6.4</td>\n      <td>90</td>\n      <td>2598</td>\n      <td>0</td>\n      <td>14.2</td>\n      <td>128</td>\n      <td>Forward</td>\n      <td>14.2</td>\n    </tr>\n    <tr>\n      <th>227</th>\n      <td>Rodrigo</td>\n      <td>Moreno</td>\n      <td>Leeds</td>\n      <td>4</td>\n      <td>1.8</td>\n      <td>65</td>\n      <td>1279</td>\n      <td>0</td>\n      <td>13.7</td>\n      <td>89</td>\n      <td>Forward</td>\n      <td>13.7</td>\n    </tr>\n    <tr>\n      <th>285</th>\n      <td>Gabriel Fernando</td>\n      <td>de Jesus</td>\n      <td>Man City</td>\n      <td>4</td>\n      <td>3.4</td>\n      <td>85</td>\n      <td>2056</td>\n      <td>0</td>\n      <td>13.5</td>\n      <td>115</td>\n      <td>Forward</td>\n      <td>13.5</td>\n    </tr>\n    <tr>\n      <th>3</th>\n      <td>Pierre-Emerick</td>\n      <td>Aubameyang</td>\n      <td>Arsenal</td>\n      <td>4</td>\n      <td>3.7</td>\n      <td>100</td>\n      <td>2330</td>\n      <td>0</td>\n      <td>13.1</td>\n      <td>131</td>\n      <td>Forward</td>\n      <td>13.1</td>\n    </tr>\n    <tr>\n      <th>291</th>\n      <td>Edinson</td>\n      <td>Cavani</td>\n      <td>Man Utd</td>\n      <td>4</td>\n      <td>15.3</td>\n      <td>85</td>\n      <td>1364</td>\n      <td>0</td>\n      <td>11.6</td>\n      <td>99</td>\n      <td>Forward</td>\n      <td>11.6</td>\n    </tr>\n  </tbody>\n</table>\n</div>"
     },
     "metadata": {},
     "execution_count": 51
    }
   ],
   "source": [
    "fwd_df2 = fwd_df.loc[(fwd_df.total_points > (fwd_df['total_points'].mean()))]\n",
    "fwd_df2.sort_values('value',ascending=False).head(50)"
   ]
  },
  {
   "cell_type": "code",
   "execution_count": 46,
   "metadata": {},
   "outputs": [
    {
     "output_type": "execute_result",
     "data": {
      "text/plain": [
       "88.79545454545455"
      ]
     },
     "metadata": {},
     "execution_count": 46
    }
   ],
   "source": [
    "fwd_df['total_points'].mean()"
   ]
  },
  {
   "cell_type": "code",
   "execution_count": 63,
   "metadata": {},
   "outputs": [
    {
     "output_type": "execute_result",
     "data": {
      "text/plain": [
       "74.7817679558011"
      ]
     },
     "metadata": {},
     "execution_count": 63
    }
   ],
   "source": [
    "slim_elements_df['total_points'].mean()"
   ]
  },
  {
   "cell_type": "code",
   "execution_count": 68,
   "metadata": {},
   "outputs": [
    {
     "output_type": "execute_result",
     "data": {
      "text/plain": [
       "      first_name     second_name       team  element_type selected_by_percent  \\\n",
       "13           Rob         Holding    Arsenal             2                 3.3   \n",
       "27           Ben           White    Arsenal             2                21.9   \n",
       "477  Rúben Diogo  da Silva Neves     Wolves             3                 1.4   \n",
       "118      Matthew          Lowton    Burnley             2                 3.2   \n",
       "306       Victor        Lindelöf    Man Utd             2                 0.6   \n",
       "114          Ben             Mee    Burnley             2                 0.9   \n",
       "216        James          Justin  Leicester             2                 0.1   \n",
       "96        Robert         Sánchez   Brighton             1                23.4   \n",
       "179        James       Rodríguez    Everton             3                 4.0   \n",
       "449       Angelo         Ogbonna   West Ham             2                 0.5   \n",
       "225         Luke          Ayling      Leeds             2                11.6   \n",
       "192          Ben         Godfrey    Everton             2                 1.3   \n",
       "407       Tanguy        Ndombele      Spurs             3                 0.4   \n",
       "291      Edinson          Cavani    Man Utd             4                15.3   \n",
       "472       Romain           Saïss     Wolves             2                 0.7   \n",
       "226      Mateusz           Klich      Leeds             3                 0.5   \n",
       "332       Miguel         Almirón  Newcastle             3                 0.6   \n",
       "90          Joël         Veltman   Brighton             2                 3.6   \n",
       "15        Kieran         Tierney    Arsenal             2                 8.5   \n",
       "289       Ferran          Torres   Man City             3                 2.9   \n",
       "\n",
       "     now_cost  minutes  transfers_in value_season  total_points    position  \\\n",
       "13         45     2557             0         23.3           105    Defender   \n",
       "27         45     3192             0         23.1           104    Defender   \n",
       "477        55     2670             0         18.9           104  Midfielder   \n",
       "118        45     3060             0         22.9           103    Defender   \n",
       "306        50     2585             0         20.4           102    Defender   \n",
       "114        50     2693             0         20.4           102    Defender   \n",
       "216        50     2070             0         20.2           101    Defender   \n",
       "96         45     2430             0         22.4           101  Goalkeeper   \n",
       "179        70     1763             0         14.4           101  Midfielder   \n",
       "449        50     2492             0         20.0           100    Defender   \n",
       "225        45     3399             0         22.2           100    Defender   \n",
       "192        50     2683             0         20.0           100    Defender   \n",
       "407        60     2086             0         16.5            99  Midfielder   \n",
       "291        85     1364             0         11.6            99     Forward   \n",
       "472        50     2407             0         19.8            99    Defender   \n",
       "226        55     2386             0         18.0            99  Midfielder   \n",
       "332        55     2426             0         17.6            97  Midfielder   \n",
       "90         45     2280             0         21.3            96    Defender   \n",
       "15         50     2299             0         19.2            96    Defender   \n",
       "289        70     1297             0         13.6            95  Midfielder   \n",
       "\n",
       "     value  \n",
       "13    23.3  \n",
       "27    23.1  \n",
       "477   18.9  \n",
       "118   22.9  \n",
       "306   20.4  \n",
       "114   20.4  \n",
       "216   20.2  \n",
       "96    22.4  \n",
       "179   14.4  \n",
       "449   20.0  \n",
       "225   22.2  \n",
       "192   20.0  \n",
       "407   16.5  \n",
       "291   11.6  \n",
       "472   19.8  \n",
       "226   18.0  \n",
       "332   17.6  \n",
       "90    21.3  \n",
       "15    19.2  \n",
       "289   13.6  "
      ],
      "text/html": "<div>\n<style scoped>\n    .dataframe tbody tr th:only-of-type {\n        vertical-align: middle;\n    }\n\n    .dataframe tbody tr th {\n        vertical-align: top;\n    }\n\n    .dataframe thead th {\n        text-align: right;\n    }\n</style>\n<table border=\"1\" class=\"dataframe\">\n  <thead>\n    <tr style=\"text-align: right;\">\n      <th></th>\n      <th>first_name</th>\n      <th>second_name</th>\n      <th>team</th>\n      <th>element_type</th>\n      <th>selected_by_percent</th>\n      <th>now_cost</th>\n      <th>minutes</th>\n      <th>transfers_in</th>\n      <th>value_season</th>\n      <th>total_points</th>\n      <th>position</th>\n      <th>value</th>\n    </tr>\n  </thead>\n  <tbody>\n    <tr>\n      <th>13</th>\n      <td>Rob</td>\n      <td>Holding</td>\n      <td>Arsenal</td>\n      <td>2</td>\n      <td>3.3</td>\n      <td>45</td>\n      <td>2557</td>\n      <td>0</td>\n      <td>23.3</td>\n      <td>105</td>\n      <td>Defender</td>\n      <td>23.3</td>\n    </tr>\n    <tr>\n      <th>27</th>\n      <td>Ben</td>\n      <td>White</td>\n      <td>Arsenal</td>\n      <td>2</td>\n      <td>21.9</td>\n      <td>45</td>\n      <td>3192</td>\n      <td>0</td>\n      <td>23.1</td>\n      <td>104</td>\n      <td>Defender</td>\n      <td>23.1</td>\n    </tr>\n    <tr>\n      <th>477</th>\n      <td>Rúben Diogo</td>\n      <td>da Silva Neves</td>\n      <td>Wolves</td>\n      <td>3</td>\n      <td>1.4</td>\n      <td>55</td>\n      <td>2670</td>\n      <td>0</td>\n      <td>18.9</td>\n      <td>104</td>\n      <td>Midfielder</td>\n      <td>18.9</td>\n    </tr>\n    <tr>\n      <th>118</th>\n      <td>Matthew</td>\n      <td>Lowton</td>\n      <td>Burnley</td>\n      <td>2</td>\n      <td>3.2</td>\n      <td>45</td>\n      <td>3060</td>\n      <td>0</td>\n      <td>22.9</td>\n      <td>103</td>\n      <td>Defender</td>\n      <td>22.9</td>\n    </tr>\n    <tr>\n      <th>306</th>\n      <td>Victor</td>\n      <td>Lindelöf</td>\n      <td>Man Utd</td>\n      <td>2</td>\n      <td>0.6</td>\n      <td>50</td>\n      <td>2585</td>\n      <td>0</td>\n      <td>20.4</td>\n      <td>102</td>\n      <td>Defender</td>\n      <td>20.4</td>\n    </tr>\n    <tr>\n      <th>114</th>\n      <td>Ben</td>\n      <td>Mee</td>\n      <td>Burnley</td>\n      <td>2</td>\n      <td>0.9</td>\n      <td>50</td>\n      <td>2693</td>\n      <td>0</td>\n      <td>20.4</td>\n      <td>102</td>\n      <td>Defender</td>\n      <td>20.4</td>\n    </tr>\n    <tr>\n      <th>216</th>\n      <td>James</td>\n      <td>Justin</td>\n      <td>Leicester</td>\n      <td>2</td>\n      <td>0.1</td>\n      <td>50</td>\n      <td>2070</td>\n      <td>0</td>\n      <td>20.2</td>\n      <td>101</td>\n      <td>Defender</td>\n      <td>20.2</td>\n    </tr>\n    <tr>\n      <th>96</th>\n      <td>Robert</td>\n      <td>Sánchez</td>\n      <td>Brighton</td>\n      <td>1</td>\n      <td>23.4</td>\n      <td>45</td>\n      <td>2430</td>\n      <td>0</td>\n      <td>22.4</td>\n      <td>101</td>\n      <td>Goalkeeper</td>\n      <td>22.4</td>\n    </tr>\n    <tr>\n      <th>179</th>\n      <td>James</td>\n      <td>Rodríguez</td>\n      <td>Everton</td>\n      <td>3</td>\n      <td>4.0</td>\n      <td>70</td>\n      <td>1763</td>\n      <td>0</td>\n      <td>14.4</td>\n      <td>101</td>\n      <td>Midfielder</td>\n      <td>14.4</td>\n    </tr>\n    <tr>\n      <th>449</th>\n      <td>Angelo</td>\n      <td>Ogbonna</td>\n      <td>West Ham</td>\n      <td>2</td>\n      <td>0.5</td>\n      <td>50</td>\n      <td>2492</td>\n      <td>0</td>\n      <td>20.0</td>\n      <td>100</td>\n      <td>Defender</td>\n      <td>20.0</td>\n    </tr>\n    <tr>\n      <th>225</th>\n      <td>Luke</td>\n      <td>Ayling</td>\n      <td>Leeds</td>\n      <td>2</td>\n      <td>11.6</td>\n      <td>45</td>\n      <td>3399</td>\n      <td>0</td>\n      <td>22.2</td>\n      <td>100</td>\n      <td>Defender</td>\n      <td>22.2</td>\n    </tr>\n    <tr>\n      <th>192</th>\n      <td>Ben</td>\n      <td>Godfrey</td>\n      <td>Everton</td>\n      <td>2</td>\n      <td>1.3</td>\n      <td>50</td>\n      <td>2683</td>\n      <td>0</td>\n      <td>20.0</td>\n      <td>100</td>\n      <td>Defender</td>\n      <td>20.0</td>\n    </tr>\n    <tr>\n      <th>407</th>\n      <td>Tanguy</td>\n      <td>Ndombele</td>\n      <td>Spurs</td>\n      <td>3</td>\n      <td>0.4</td>\n      <td>60</td>\n      <td>2086</td>\n      <td>0</td>\n      <td>16.5</td>\n      <td>99</td>\n      <td>Midfielder</td>\n      <td>16.5</td>\n    </tr>\n    <tr>\n      <th>291</th>\n      <td>Edinson</td>\n      <td>Cavani</td>\n      <td>Man Utd</td>\n      <td>4</td>\n      <td>15.3</td>\n      <td>85</td>\n      <td>1364</td>\n      <td>0</td>\n      <td>11.6</td>\n      <td>99</td>\n      <td>Forward</td>\n      <td>11.6</td>\n    </tr>\n    <tr>\n      <th>472</th>\n      <td>Romain</td>\n      <td>Saïss</td>\n      <td>Wolves</td>\n      <td>2</td>\n      <td>0.7</td>\n      <td>50</td>\n      <td>2407</td>\n      <td>0</td>\n      <td>19.8</td>\n      <td>99</td>\n      <td>Defender</td>\n      <td>19.8</td>\n    </tr>\n    <tr>\n      <th>226</th>\n      <td>Mateusz</td>\n      <td>Klich</td>\n      <td>Leeds</td>\n      <td>3</td>\n      <td>0.5</td>\n      <td>55</td>\n      <td>2386</td>\n      <td>0</td>\n      <td>18.0</td>\n      <td>99</td>\n      <td>Midfielder</td>\n      <td>18.0</td>\n    </tr>\n    <tr>\n      <th>332</th>\n      <td>Miguel</td>\n      <td>Almirón</td>\n      <td>Newcastle</td>\n      <td>3</td>\n      <td>0.6</td>\n      <td>55</td>\n      <td>2426</td>\n      <td>0</td>\n      <td>17.6</td>\n      <td>97</td>\n      <td>Midfielder</td>\n      <td>17.6</td>\n    </tr>\n    <tr>\n      <th>90</th>\n      <td>Joël</td>\n      <td>Veltman</td>\n      <td>Brighton</td>\n      <td>2</td>\n      <td>3.6</td>\n      <td>45</td>\n      <td>2280</td>\n      <td>0</td>\n      <td>21.3</td>\n      <td>96</td>\n      <td>Defender</td>\n      <td>21.3</td>\n    </tr>\n    <tr>\n      <th>15</th>\n      <td>Kieran</td>\n      <td>Tierney</td>\n      <td>Arsenal</td>\n      <td>2</td>\n      <td>8.5</td>\n      <td>50</td>\n      <td>2299</td>\n      <td>0</td>\n      <td>19.2</td>\n      <td>96</td>\n      <td>Defender</td>\n      <td>19.2</td>\n    </tr>\n    <tr>\n      <th>289</th>\n      <td>Ferran</td>\n      <td>Torres</td>\n      <td>Man City</td>\n      <td>3</td>\n      <td>2.9</td>\n      <td>70</td>\n      <td>1297</td>\n      <td>0</td>\n      <td>13.6</td>\n      <td>95</td>\n      <td>Midfielder</td>\n      <td>13.6</td>\n    </tr>\n  </tbody>\n</table>\n</div>"
     },
     "metadata": {},
     "execution_count": 68
    }
   ],
   "source": [
    "allp_df = slim_elements_df.loc[(slim_elements_df.total_points > (slim_elements_df['total_points'].mean()) + 20)]\n",
    "allp_df.sort_values('total_points',ascending=False).tail(20)"
   ]
  },
  {
   "cell_type": "code",
   "execution_count": null,
   "metadata": {},
   "outputs": [],
   "source": []
  }
 ]
}